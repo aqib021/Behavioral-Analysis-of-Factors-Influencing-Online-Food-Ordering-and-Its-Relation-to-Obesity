{
  "nbformat": 4,
  "nbformat_minor": 0,
  "metadata": {
    "colab": {
      "provenance": []
    },
    "kernelspec": {
      "name": "python3",
      "display_name": "Python 3"
    },
    "language_info": {
      "name": "python"
    }
  },
  "cells": [
    {
      "cell_type": "markdown",
      "source": [
        "## **Importing Dataset & Libraries**\n"
      ],
      "metadata": {
        "id": "kF6kCy50Ui9Q"
      }
    },
    {
      "cell_type": "code",
      "execution_count": null,
      "metadata": {
        "id": "MkARLADmTDuD"
      },
    {
      "cell_type": "markdown",
      "source": [
        "## **Data Preprocessing**"
      ],
      "metadata": {
        "id": "M5sqSt40Uhpz"
      }
    },
      "metadata": {
        "colab": {
          "base_uri": "https://localhost:8080/"
        },
        "id": "g0WNULQ0UXRi",
        "outputId": "ae784b27-4d88-4a57-97cb-2de67f8876fb"
      },
      "execution_count": null,
      "outputs": [
        {
          "output_type": "stream",
          "name": "stderr",
          "text": [
            "<ipython-input-209-7d32d71079b8>:41: SettingWithCopyWarning: \n",
            "A value is trying to be set on a copy of a slice from a DataFrame\n",
            "\n",
            "See the caveats in the documentation: https://pandas.pydata.org/pandas-docs/stable/user_guide/indexing.html#returning-a-view-versus-a-copy\n",
            "  df2['BMI_CAT'][i] = \"Obese\"\n",
            "/usr/local/lib/python3.8/dist-packages/pandas/core/indexing.py:1732: SettingWithCopyWarning: \n",
            "A value is trying to be set on a copy of a slice from a DataFrame\n",
            "\n",
            "See the caveats in the documentation: https://pandas.pydata.org/pandas-docs/stable/user_guide/indexing.html#returning-a-view-versus-a-copy\n",
            "  self._setitem_single_block(indexer, value, name)\n"
          ]
        }
      ]
    },
    {
      "cell_type": "code",
      "source": [
        "# Extracting behavioral features\n",
        "behavioral_data = df2[['New_Tech', 'Impulsive_Decision', 'Busy_To_Cook', 'Dont_Like_To_Cook', \n",
        "                       'Ordering_Easy', 'Options_To_Choose', 'Ordering_Inexpensive', \n",
        "                       'Promo_Discounts', 'Quick_Delivery', 'Food_Safety', 'Nutritious']].copy()\n",
        "behavioral_data"
      ],
      "metadata": {
        "colab": {
          "base_uri": "https://localhost:8080/",
          "height": 424
        },
        "id": "cEl-kUkQm3e7",
        "outputId": "dac63210-0e9b-40d2-89fe-a6c3163e4947"
      },
      "execution_count": null,
      "outputs": [
        {
          "output_type": "execute_result",
          "data": {
            "text/plain": [
              "           New_Tech Impulsive_Decision    Busy_To_Cook  Dont_Like_To_Cook  \\\n",
              "0             Agree     Strongly Agree        Disagree           Disagree   \n",
              "1    Strongly Agree            Neutral         Neutral           Disagree   \n",
              "2           Neutral            Neutral        Disagree           Disagree   \n",
              "3           Neutral              Agree         Neutral            Neutral   \n",
              "4             Agree              Agree         Neutral           Disagree   \n",
              "..              ...                ...             ...                ...   \n",
              "106  Strongly Agree     Strongly Agree        Disagree     Strongly Agree   \n",
              "107           Agree              Agree         Neutral            Neutral   \n",
              "108         Neutral            Neutral        Disagree           Disagree   \n",
              "109  Strongly Agree              Agree  Strongly Agree     Strongly Agree   \n",
              "110         Neutral  Strongly Disagree         Neutral  Strongly Disagree   \n",
              "\n",
              "    .dataframe thead th {\n",
              "        text-align: right;\n",
              "    }\n",
              "</style>\n",
              "<table border=\"1\" class=\"dataframe\">\n",
              "  <thead>\n",
              "    <tr style=\"text-align: right;\">\n",
              "      <th></th>\n",
              "      <th>New_Tech</th>\n",
              "      <th>Impulsive_Decision</th>\n",
              "      <th>Busy_To_Cook</th>\n",
              "      <th>Dont_Like_To_Cook</th>\n",
              "      <th>Ordering_Easy</th>\n",
              "      <th>Options_To_Choose</th>\n",
              "      <th>Ordering_Inexpensive</th>\n",
              "      <th>Promo_Discounts</th>\n",
              "      <th>Quick_Delivery</th>\n",
              "      <th>Food_Safety</th>\n",
              "      <th>Nutritious</th>\n",
              "    </tr>\n",
              "  </thead>\n",
              "  <tbody>\n",
              "    <tr>\n",
              "      <th>0</th>\n",
              "      <td>Agree</td>\n",
              "      <td>Strongly Agree</td>\n",
              "      <td>Disagree</td>\n",
              "      <td>Disagree</td>\n",
              "      <td>Strongly Agree</td>\n",
              "      <td>Agree</td>\n",
              "      <td>Neutral</td>\n",
              "      <td>Strongly Agree</td>\n",
              "      <td>Neutral</td>\n",
              "      <td>Disagree</td>\n",
              "      <td>Strongly Disagree</td>\n",
              "    </tr>\n",
              "    <tr>\n",
              "      <th>1</th>\n",
              "      <td>Strongly Agree</td>\n",
              "      <td>Neutral</td>\n",
              "      <td>Neutral</td>\n",
              "      <td>Disagree</td>\n",
              "      <td>Agree</td>\n",
              "      <td>Strongly Agree</td>\n",
              "      <td>Disagree</td>\n",
              "      <td>Agree</td>\n",
              "      <td>Disagree</td>\n",
              "      <td>Neutral</td>\n",
              "      <td>Neutral</td>\n",
              "    </tr>\n",
              "    <tr>\n",
              "      <th>2</th>\n",
              "      <td>Neutral</td>\n",
              "      <td>Neutral</td>\n",
              "      <td>Disagree</td>\n",
              "      <td>Disagree</td>\n",
              "      <td>Strongly Agree</td>\n",
              "      <td>Strongly Agree</td>\n",
              "      <td>Strongly Agree</td>\n",
              "      <td>Strongly Agree</td>\n",
              "      <td>Agree</td>\n",
              "      <td>Neutral</td>\n",
              "      <td>Neutral</td>\n",
              "    </tr>\n",
              "    <tr>\n",
              "      <th>3</th>\n",
              "      <td>Neutral</td>\n",
              "      <td>Agree</td>\n",
              "      <td>Neutral</td>\n",
              "      <td>Neutral</td>\n",
              "      <td>Agree</td>\n",
              "      <td>Agree</td>\n",
              "      <td>Agree</td>\n",
              "      <td>Strongly Agree</td>\n",
              "      <td>Agree</td>\n",
              "      <td>Neutral</td>\n",
              "      <td>Neutral</td>\n",
              "    </tr>\n",
              "    <tr>\n",
              "      <th>4</th>\n",
              "      <td>Agree</td>\n",
              "      <td>Agree</td>\n",
              "      <td>Neutral</td>\n",
              "      <td>Disagree</td>\n",
              "      <td>Strongly Agree</td>\n",
              "      <td>Strongly Agree</td>\n",
              "      <td>Strongly Agree</td>\n",
              "      <td>Strongly Agree</td>\n",
              "      <td>Neutral</td>\n",
              "      <td>Agree</td>\n",
              "      <td>Neutral</td>\n",
              "    </tr>\n",
              "    <tr>\n",
              "      <th>...</th>\n",
              "      <td>...</td>\n",
              "      <td>...</td>\n",
              "      <td>...</td>\n",
              "      <td>...</td>\n",
              "      <td>...</td>\n",
              "      <td>...</td>\n",
              "      <td>...</td>\n",
              "      <td>...</td>\n",
              "      <td>...</td>\n",
              "      <td>...</td>\n",
              "      <td>...</td>\n",
              "    </tr>\n",
              "    <tr>\n",
              "      <th>106</th>\n",
              "\n",
              "    [theme=dark] .colab-df-convert {\n",
              "      background-color: #3B4455;\n",
              "      fill: #D2E3FC;\n",
              "    }\n",
              "\n",
              "    [theme=dark] .colab-df-convert:hover {\n",
              "      background-color: #434B5C;\n",
              "      box-shadow: 0px 1px 3px 1px rgba(0, 0, 0, 0.15);\n",
              "      filter: drop-shadow(0px 1px 2px rgba(0, 0, 0, 0.3));\n",
              "      fill: #FFFFFF;\n",
              "    }\n",
              "  </style>\n",
              "\n",
              "      <script>\n",
              "        const buttonEl =\n",
              "          document.querySelector('#df-2ff21e73-ae1e-4d35-9938-bb1ecacdb231 button.colab-df-convert');\n",
              "        buttonEl.style.display =\n",
              "          google.colab.kernel.accessAllowed ? 'block' : 'none';\n",
              "\n",
              "        async function convertToInteractive(key) {\n",
              "          const element = document.querySelector('#df-2ff21e73-ae1e-4d35-9938-bb1ecacdb231');\n",
              "          const dataTable =\n",
              "            await google.colab.kernel.invokeFunction('convertToInteractive',\n",
              "                                                     [key], {});\n",
              "          if (!dataTable) return;\n",
              "\n",
              "          const docLinkHtml = 'Like what you see? Visit the ' +\n",
              "            '<a target=\"_blank\" href=https://colab.research.google.com/notebooks/data_table.ipynb>data table notebook</a>'\n",
              "            + ' to learn more about interactive tables.';\n",
              "          element.innerHTML = '';\n",
              "          dataTable['output_type'] = 'display_data';\n",
              "          await google.colab.output.renderOutput(dataTable, element);\n",
              "          const docLink = document.createElement('div');\n",
              "          docLink.innerHTML = docLinkHtml;\n",
              "          element.appendChild(docLink);\n",
              "        }\n",
              "      </script>\n",
              "    </div>\n",
              "  </div>\n",
              "  "
            ]
          },
          "metadata": {},
          "execution_count": 210
        }
      ]
    },
    {
      "cell_type": "code",
      "source": [
        "# label_encoder object knows how to understand word labels.\n",
        "label_encoder = preprocessing.LabelEncoder()\n",
        "\n",
        "behavioral_data_encoded = behavioral_data\n",
        "column_names = list(behavioral_data.columns.values)\n",
        "\n",
        "# Encode labels\n",
        "for i in range(len(column_names)):\n",
        "  behavioral_data_encoded[column_names[i]] = label_encoder.fit_transform(behavioral_data_encoded[column_names[i]])\n",
        "\n",
        "behavioral_data_encoded"
      ],
      "metadata": {
        "colab": {
          "base_uri": "https://localhost:8080/",
          "height": 424
        },
        "id": "I6IuR84umwQi",
        "outputId": "83bc56f9-8c0c-405e-efe5-b6489e6c26b3"
      },
      "execution_count": null,
      "outputs": [
        {
          "output_type": "execute_result",
          "data": {
            "text/plain": [
              "     New_Tech  Impulsive_Decision  Busy_To_Cook  Dont_Like_To_Cook  \\\n",
              "0           0                   3             1                  1   \n",
              "1           3                   2             2                  1   \n",
              "2           2                   2             1                  1   \n",
              "3           2                   0             2                  2   \n",
              "4           0                   0             2                  1   \n",
              "..        ...                 ...           ...                ...   \n",
              "106         3                   3             1                  3   \n",
              "107         0                   0             2                  2   \n",
              "108         2                   2             1                  1   \n",
              "109         3                   0             3                  3   \n",
              "110         2                   4             2                  4   \n",
              "\n",
              "     Ordering_Easy  Options_To_Choose  Ordering_Inexpensive  Promo_Discounts  \\\n",
              "0                3                  0                     2                3   \n",
              "1                0                  3                     1                0   \n",
              "2                3                  3                     3                3   \n",
              "3                0                  0                     0                3   \n",
              "4                3                  3                     3                3   \n",
              "..             ...                ...                   ...              ...   \n",
              "106              3                  3                     2                0   \n",
              "107              3                  0                     0                0   \n",
              "108              2                  2                     1                2   \n",
              "109              3                  3                     4                4   \n",
              "110              3                  0                     1                4   \n",
              "\n",
              "      <th>1</th>\n",
              "      <td>3</td>\n",
              "      <td>2</td>\n",
              "      <td>2</td>\n",
              "      <td>1</td>\n",
              "      <td>0</td>\n",
              "      <td>3</td>\n",
              "      <td>1</td>\n",
              "      <td>0</td>\n",
              "      <td>1</td>\n",
              "      <td>2</td>\n",
              "      <td>2</td>\n",
              "    </tr>\n",
              "    <tr>\n",
              "      <th>2</th>\n",
              "      <td>2</td>\n",
              "      <td>2</td>\n",
              "      <td>1</td>\n",
              "      <td>1</td>\n",
              "      <td>3</td>\n",
              "      <td>3</td>\n",
              "      <td>3</td>\n",
              "      <td>3</td>\n",
              "      <td>0</td>\n",
              "      <td>2</td>\n",
              "      <td>2</td>\n",
              "    </tr>\n",
              "    <tr>\n",
              "      <th>3</th>\n",
              "      <td>2</td>\n",
              "      <td>0</td>\n",
              "      <td>2</td>\n",
              "      <td>2</td>\n",
              "      <td>0</td>\n",
              "      <td>0</td>\n",
              "      <td>0</td>\n",
              "      <td>3</td>\n",
              "      <td>0</td>\n",
              "      <td>2</td>\n",
              "      <td>2</td>\n",
              "    </tr>\n",
              "    <tr>\n",
              "      <th>4</th>\n",
              "      <td>0</td>\n",
              "      <td>0</td>\n",
              "      <td>2</td>\n",
              "      <td>1</td>\n",
              "      <td>3</td>\n",
              "      <td>3</td>\n",
              "      <td>3</td>\n",
              "      <td>3</td>\n",
              "      <td>2</td>\n",
              "      <td>0</td>\n",
              "      <td>2</td>\n",
              "    </tr>\n",
              "    <tr>\n",
              "      <th>...</th>\n",
              "      <td>...</td>\n",
              "      <td>...</td>\n",
              "      <td>...</td>\n",
              "      <td>...</td>\n",
              "      <td>...</td>\n",
              "      <td>...</td>\n",
              "      <td>...</td>\n",
              "      <td>...</td>\n",
              "      <td>...</td>\n",
              "      <td>...</td>\n",
              "      <td>...</td>\n",
              "    </tr>\n",
              "    <tr>\n",
              "      <th>106</th>\n",
              "      <td>3</td>\n",
              "      <td>3</td>\n",
              "      <td>1</td>\n",
              "      <td>3</td>\n",
              "      <td>3</td>\n",
              "      <td>3</td>\n",
              "      <td>2</td>\n",
              "      <td>0</td>\n",
              "      <td>2</td>\n",
              "      <td>1</td>\n",
              "      <td>0</td>\n",
              "    </tr>\n",
              "    <tr>\n",
              "      <th>107</th>\n",
              "      <td>0</td>\n",
              "      <td>0</td>\n",
              "      <td>2</td>\n",
              "      <td>2</td>\n",
              "      <td>3</td>\n",
              "      <td>0</td>\n",
              "      <td>0</td>\n",
              "      <td>0</td>\n",
              "      <td>0</td>\n",
              "      <td>0</td>\n",
              "      <td>0</td>\n",
              "    </tr>\n",
              "    <tr>\n",
              "      <th>108</th>\n",
              "      <td>2</td>\n",
              "      <td>2</td>\n",
              "      <td>1</td>\n",
              "      <td>1</td>\n",
              "      <td>2</td>\n",
              "      <td>2</td>\n",
              "      <td>1</td>\n",
              "      <td>2</td>\n",
              "      <td>2</td>\n",
              "      <td>1</td>\n",
              "      <td>1</td>\n",
              "    </tr>\n",
              "    <tr>\n",
              "      <th>109</th>\n",
              "      <td>3</td>\n",
              "      <td>0</td>\n",
              "      <td>3</td>\n",
              "      <td>3</td>\n",
              "      <td>3</td>\n",
              "      <td>3</td>\n",
              "      <td>4</td>\n",
              "      <td>4</td>\n",
              "      <td>2</td>\n",
              "      <td>2</td>\n",
              "      <td>0</td>\n",
              "    </tr>\n",
              "    <tr>\n",
              "      <th>110</th>\n",
              "      <td>2</td>\n",
              "      <td>4</td>\n",
              "      <td>2</td>\n",
              "      <td>4</td>\n",
              "      <td>3</td>\n",
              "      <td>0</td>\n",
              "      <td>1</td>\n",
              "      <td>4</td>\n",
              "      <td>2</td>\n",
              "      <td>2</td>\n",
              "      <td>2</td>\n",
              "    </tr>\n",
              "  </tbody>\n",
              "</table>\n",
              "<p>111 rows × 11 columns</p>\n",
              "</div>\n",
              "      <button class=\"colab-df-convert\" onclick=\"convertToInteractive('df-4a1adb6b-f87d-4f4b-80f4-c1f4ad2ffdd7')\"\n",
              "              title=\"Convert this dataframe to an interactive table.\"\n",
              "              style=\"display:none;\">\n",
              "        \n",
              "  <svg xmlns=\"http://www.w3.org/2000/svg\" height=\"24px\"viewBox=\"0 0 24 24\"\n",
              "       width=\"24px\">\n",
              "    <path d=\"M0 0h24v24H0V0z\" fill=\"none\"/>\n",
              "    <path d=\"M18.56 5.44l.94 2.06.94-2.06 2.06-.94-2.06-.94-.94-2.06-.94 2.06-2.06.94zm-11 1L8.5 8.5l.94-2.06 2.06-.94-2.06-.94L8.5 2.5l-.94 2.06-2.06.94zm10 10l.94 2.06.94-2.06 2.06-.94-2.06-.94-.94-2.06-.94 2.06-2.06.94z\"/><path d=\"M17.41 7.96l-1.37-1.37c-.4-.4-.92-.59-1.43-.59-.52 0-1.04.2-1.43.59L10.3 9.45l-7.72 7.72c-.78.78-.78 2.05 0 2.83L4 21.41c.39.39.9.59 1.41.59.51 0 1.02-.2 1.41-.59l7.78-7.78 2.81-2.81c.8-.78.8-2.07 0-2.86zM5.41 20L4 18.59l7.72-7.72 1.47 1.35L5.41 20z\"/>\n",
              "  </svg>\n",
              "      </button>\n",
              "      \n",
              "  <style>\n",
              "    .colab-df-container {\n",
              "      display:flex;\n",
              "      flex-wrap:wrap;\n",
              "      gap: 12px;\n",
              "    }\n",
              "\n",
              "    .colab-df-convert {\n",
              "      background-color: #E8F0FE;\n",
              "      border: none;\n",
              "      border-radius: 50%;\n",
              "      cursor: pointer;\n",
              "      display: none;\n",
              "      fill: #1967D2;\n",
              "      height: 32px;\n",
              "      padding: 0 0 0 0;\n",
              "      width: 32px;\n",
              "    }\n",
              "\n",
              "    .colab-df-convert:hover {\n",
              "      background-color: #E2EBFA;\n",
              "      box-shadow: 0px 1px 2px rgba(60, 64, 67, 0.3), 0px 1px 3px 1px rgba(60, 64, 67, 0.15);\n",
              "      fill: #174EA6;\n",
              "    }\n",
              "\n",
              "    [theme=dark] .colab-df-convert {\n",
              "      background-color: #3B4455;\n",
              "      fill: #D2E3FC;\n",
              "    }\n",
              "\n",
              "    [theme=dark] .colab-df-convert:hover {\n",
              "      background-color: #434B5C;\n",
              "      box-shadow: 0px 1px 3px 1px rgba(0, 0, 0, 0.15);\n",
              "      filter: drop-shadow(0px 1px 2px rgba(0, 0, 0, 0.3));\n",
              "      fill: #FFFFFF;\n",
              "    }\n",
              "  </style>\n",
              "\n",
              "      <script>\n",
              "        const buttonEl =\n",
              "          document.querySelector('#df-4a1adb6b-f87d-4f4b-80f4-c1f4ad2ffdd7 button.colab-df-convert');\n",
              "        buttonEl.style.display =\n",
              "          google.colab.kernel.accessAllowed ? 'block' : 'none';\n",
              "\n",
              "        async function convertToInteractive(key) {\n",
              "          const element = document.querySelector('#df-4a1adb6b-f87d-4f4b-80f4-c1f4ad2ffdd7');\n",
              "          const dataTable =\n",
              "            await google.colab.kernel.invokeFunction('convertToInteractive',\n",
              "                                                     [key], {});\n",
              "          if (!dataTable) return;\n",
              "\n",
              "          const docLinkHtml = 'Like what you see? Visit the ' +\n",
              "            '<a target=\"_blank\" href=https://colab.research.google.com/notebooks/data_table.ipynb>data table notebook</a>'\n",
              "            + ' to learn more about interactive tables.';\n",
              "          element.innerHTML = '';\n",
              "          dataTable['output_type'] = 'display_data';\n",
              "          await google.colab.output.renderOutput(dataTable, element);\n",
              "          const docLink = document.createElement('div');\n",
              "          docLink.innerHTML = docLinkHtml;\n",
              "          element.appendChild(docLink);\n",
              "        }\n",
              "      </script>\n",
              "    </div>\n",
              "  </div>\n",
              "  "
            ]
          },
          "metadata": {},
          "execution_count": 211
        }
      ]
    },
    {
      "cell_type": "code",
      "source": [
        "df2"
      ],
      "metadata": {
        "colab": {
          "base_uri": "https://localhost:8080/",
          "height": 800
        },
        "id": "2tra7-MBJL5x",
        "outputId": "c6ba4f04-7897-461e-b065-0294f791b187"
      },
      "execution_count": null,
      "outputs": [
        {
          "output_type": "execute_result",
          "data": {
            "text/plain": [
              "     Gender    Age  Weight  Height        BMI     BMI_CAT  \\\n",
              "0    Female  16-30    80.0  1.6256  30.273498       Obese   \n",
              "1      Male  16-30    90.0  1.7526  29.300626  Overweight   \n",
              "2      Male  16-30    75.0  1.6764  26.687381  Overweight   \n",
              "3      Male  16-30    78.0  1.7780  24.673519      Normal   \n",
              "4      Male  16-30    98.0  1.7780  31.000062       Obese   \n",
              "..      ...    ...     ...     ...        ...         ...   \n",
              "106    Male  16-30    90.0  1.8034  27.673136  Overweight   \n",
              "107    Male  16-30    58.0  1.6510  21.278149      Normal   \n",
              "108    Male  16-30    75.0  1.8288  22.424813      Normal   \n",
              "109  Female  16-30    70.0  1.5748  28.225863  Overweight   \n",
              "110    Male  16-30   102.0  1.8288  30.497746       Obese   \n",
              "\n",
              "                      Education                Employment_Status  \\\n",
              "0                 Undergraduate                Prefer not to say   \n",
              "1                 Undergraduate  Seeking opportunities currently   \n",
              "2                 Undergraduate                Prefer not to say   \n",
              "3                 Undergraduate                Prefer not to say   \n",
              "4                 Undergraduate                        Part-time   \n",
              "..                          ...                              ...   \n",
              "106               Undergraduate  Seeking opportunities currently   \n",
              "107               Undergraduate                        Part-time   \n",
              "108               Undergraduate                        Full-time   \n",
              "109               Undergraduate  Seeking opportunities currently   \n",
              "110  Graduate/Post-Graduate/Phd                        Part-time   \n",
              "\n",
              "    Financial_Dependency Marital_Status  Physical_Activity  \\\n",
              "0    Partially dependent         Single                  3   \n",
              "1     Fully Dependendent         Single                  0   \n",
              "2     Fully Dependendent         Single                  0   \n",
              "3    Partially dependent         Single                  0   \n",
              "4     Fully Dependendent         Single                  5   \n",
              "..                   ...            ...                ...   \n",
              "106          Independent         Single                  0   \n",
              "107  Partially dependent         Single                  0   \n",
              "108          Independent         Single                  0   \n",
              "109  Partially dependent         Single                  0   \n",
              "110          Independent         Single                  3   \n",
              "\n",
              "       Ordering_History  Order_Per_Month  \\\n",
              "0    Less than 3 months                4   \n",
              "1    More than 6 months                2   \n",
              "2    More than 6 months                2   \n",
              "3    More than 6 months                3   \n",
              "4    More than 6 months                5   \n",
              "..                  ...              ...   \n",
              "106  More than 6 months                5   \n",
              "107  More than 6 months                2   \n",
              "108  More than 6 months                1   \n",
              "109  Less than 3 months                9   \n",
              "110  More than 6 months                2   \n",
              "\n",
              "                               Ordering_Time  \\\n",
              "0                     Evening Snacks, Dinner   \n",
              "1             Lunch, Dinner, Midnight snacks   \n",
              "2                             Evening Snacks   \n",
              "3    Evening Snacks, Dinner, Midnight snacks   \n",
              "4              Lunch, Evening Snacks, Dinner   \n",
              "..                                       ...   \n",
              "106                                   Dinner   \n",
              "107                                    Lunch   \n",
              "108                                   Dinner   \n",
              "109                                   Dinner   \n",
              "110                   Evening Snacks, Dinner   \n",
              "\n",
              "                                            Food_Types        New_Tech  \\\n",
              "0    Chinese, Pizza, Pasta, Fried chicken, French f...           Agree   \n",
              "1    Indian, Burger, Pizza, Pasta, Fried chicken, Cake  Strongly Agree   \n",
              "2           Burger, Pizza, Fried chicken, French fries         Neutral   \n",
              "3              Burger, Pizza, Biriyani/Khichuri/Tehari         Neutral   \n",
              "4    Pizza, Fried chicken, French fries, Biriyani/K...           Agree   \n",
              "..                                                 ...             ...   \n",
              "106    Chinese, Pizza, Pasta, Biriyani/Khichuri/Tehari  Strongly Agree   \n",
              "107                               Pizza, Fried chicken           Agree   \n",
              "108                       Burger, Pizza, Fried chicken         Neutral   \n",
              "109                       Burger, Pizza, Pasta, Coffee  Strongly Agree   \n",
              "110         Burger, Pizza, Pasta, Salad, Fried chicken         Neutral   \n",
              "\n",
              "    Impulsive_Decision    Busy_To_Cook  Dont_Like_To_Cook   Ordering_Easy  \\\n",
              "0       Strongly Agree        Disagree           Disagree  Strongly Agree   \n",
              "1              Neutral         Neutral           Disagree           Agree   \n",
              "2              Neutral        Disagree           Disagree  Strongly Agree   \n",
              "3                Agree         Neutral            Neutral           Agree   \n",
              "4                Agree         Neutral           Disagree  Strongly Agree   \n",
              "..                 ...             ...                ...             ...   \n",
              "106     Strongly Agree        Disagree     Strongly Agree  Strongly Agree   \n",
              "107              Agree         Neutral            Neutral  Strongly Agree   \n",
              "108            Neutral        Disagree           Disagree         Neutral   \n",
              "109              Agree  Strongly Agree     Strongly Agree  Strongly Agree   \n",
              "110  Strongly Disagree         Neutral  Strongly Disagree  Strongly Agree   \n",
              "\n",
            "text/html": [
              "\n",
              "  <div id=\"df-d1e2b3b3-15c3-4599-a3c4-6b541fdf6ab1\">\n",
              "    <div class=\"colab-df-container\">\n",
              "      <div>\n",
              "<style scoped>\n",
              "    .dataframe tbody tr th:only-of-type {\n",
              "        vertical-align: middle;\n",
              "    }\n",
              "\n",
              "    .dataframe tbody tr th {\n",
              "        vertical-align: top;\n",
              "    }\n",
              "\n",
              "    .dataframe thead th {\n",
              "        text-align: right;\n",
              "    }\n",
              "</style>\n",
              "<table border=\"1\" class=\"dataframe\">\n",
              "  <thead>\n",
              "    <tr style=\"text-align: right;\">\n",
              "      <th></th>\n",
              "      <th>Gender</th>\n",
              "      <th>Age</th>\n",
              "      <th>Weight</th>\n",
              "      <th>Height</th>\n",
              "      <th>BMI</th>\n",
              "      <th>BMI_CAT</th>\n",
              "      <th>Education</th>\n",
              "      <th>Employment_Status</th>\n",
              "      <th>Financial_Dependency</th>\n",
              "      <th>Marital_Status</th>\n",
              "      <th>Physical_Activity</th>\n",
              "      <th>Ordering_History</th>\n",
              "      <th>Order_Per_Month</th>\n",
              "      <th>Ordering_Time</th>\n",
              "      <th>Food_Types</th>\n",
              "      <th>New_Tech</th>\n",
              "      <th>Impulsive_Decision</th>\n",
              "      <th>Busy_To_Cook</th>\n",
              "      <th>Dont_Like_To_Cook</th>\n",
              "      <th>Ordering_Easy</th>\n",
              "      <th>Options_To_Choose</th>\n",
              "      <th>Ordering_Inexpensive</th>\n",
              "      <th>Promo_Discounts</th>\n",
              "      <th>Quick_Delivery</th>\n",
              "      <th>Food_Safety</th>\n",
              "      <th>Nutritious</th>\n",
              "      <th>OFO_APPS</th>\n",
              "    </tr>\n",
              "  </thead>\n",
              "  <tbody>\n",
              "    <tr>\n",
              "      <th>0</th>\n",
              "      <td>Female</td>\n",
              "      <td>16-30</td>\n",
              "      <td>80.0</td>\n",
              "      <td>1.6256</td>\n",
              "      <td>30.273498</td>\n",
              "      <td>Obese</td>\n",
              "      <td>Undergraduate</td>\n",
              "      <td>Prefer not to say</td>\n",
              "      <td>Partially dependent</td>\n",
              "      <td>Single</td>\n",
              "      <td>3</td>\n",
              "      <td>Less than 3 months</td>\n",
              "      <td>4</td>\n",
              "      <td>Evening Snacks, Dinner</td>\n",
              "      <td>Chinese, Pizza, Pasta, Fried chicken, French f...</td>\n",
              "      <td>Agree</td>\n",
              "      <td>Strongly Agree</td>\n",
              "      <td>Disagree</td>\n",
              "      <td>Disagree</td>\n",
              "      <td>Strongly Agree</td>\n",
              "      <td>Agree</td>\n",
              "      <td>Neutral</td>\n",
              "      <td>Strongly Agree</td>\n",
              "      <td>Neutral</td>\n",
              "      <td>Disagree</td>\n",
              "      <td>Strongly Disagree</td>\n",
              "      <td>foodpanda, Pathao</td>\n",
              "    </tr>\n",
              "    <tr>\n",
              "      <th>1</th>\n",
              "      <td>Male</td>\n",
              "      <td>16-30</td>\n",
              "      <td>90.0</td>\n",
              "      <td>1.7526</td>\n",
              "      <td>29.300626</td>\n",
              "      <td>Overweight</td>\n",
              "      <td>Undergraduate</td>\n",
              "      <td>Seeking opportunities currently</td>\n",
              "      <td>Fully Dependendent</td>\n",
              "      <td>Single</td>\n",
              "      <td>0</td>\n",
              "      <td>More than 6 months</td>\n",
              "      <td>2</td>\n",
              "      <td>Lunch, Dinner, Midnight snacks</td>\n",
              "      <td>Indian, Burger, Pizza, Pasta, Fried chicken, Cake</td>\n",
              "      <td>Strongly Agree</td>\n",
              "      <td>Neutral</td>\n",
              "      <td>Neutral</td>\n",
              "      <td>Disagree</td>\n",
              "      <td>Agree</td>\n",
              "      <td>Strongly Agree</td>\n",
              "      <td>Disagree</td>\n",
              "      <td>Agree</td>\n",
              "      <td>Disagree</td>\n",
              "      <td>Neutral</td>\n",
              "      <td>Neutral</td>\n",
              "      <td>foodpanda, HungryNaki, Pathao, Munchies</td>\n",
              "    </tr>\n",
              "    <tr>\n",
              "      <th>2</th>\n",
              "      <td>Male</td>\n",
              "      <td>16-30</td>\n",
              "      <td>75.0</td>\n",
              "      <td>1.6764</td>\n",
              "      <td>26.687381</td>\n",
              "      <td>Overweight</td>\n",
              "      <td>Undergraduate</td>\n",
              "      <td>Prefer not to say</td>\n",
              "      <td>Fully Dependendent</td>\n",
              "      <td>Single</td>\n",
              "      <td>0</td>\n",
              "      <td>More than 6 months</td>\n",
              "      <td>2</td>\n",
              "      <td>Evening Snacks</td>\n",
              "      <td>Burger, Pizza, Fried chicken, French fries</td>\n",
              "      <td>Neutral</td>\n",
              "      <td>Neutral</td>\n",
              "      <td>Disagree</td>\n",
              "      <td>Disagree</td>\n",
              "      <td>Strongly Agree</td>\n",
              "      <td>Strongly Agree</td>\n",
              "      <td>Strongly Agree</td>\n",
              "      <td>Strongly Agree</td>\n",
              "      <td>Agree</td>\n",
              "      <td>Neutral</td>\n",
              "      <td>Neutral</td>\n",
              "      <td>foodpanda, Pathao</td>\n",
              "    </tr>\n",
              "    <tr>\n",
              "      <th>3</th>\n",
              "      <td>Male</td>\n",
              "      <td>16-30</td>\n",
              "      <td>78.0</td>\n",
              "      <td>1.7780</td>\n",
              "      <td>24.673519</td>\n",
              "      <td>Normal</td>\n",
              "      <td>Undergraduate</td>\n",
              "      <td>Prefer not to say</td>\n",
              "      <td>Partially dependent</td>\n",
              "      <td>Single</td>\n",
              "      <td>0</td>\n",
              "      <td>More than 6 months</td>\n",
              "      <td>3</td>\n",
              "      <td>Evening Snacks, Dinner, Midnight snacks</td>\n",
              "      <td>Burger, Pizza, Biriyani/Khichuri/Tehari</td>\n",
              "      <td>Neutral</td>\n",
              "      <td>Agree</td>\n",
              "      <td>Neutral</td>\n",
              "      <td>Neutral</td>\n",
              "      <td>Agree</td>\n",
              "      <td>Agree</td>\n",
              "      <td>Agree</td>\n",
              "      <td>Strongly Agree</td>\n",
              "      <td>Agree</td>\n",
              "      <td>Neutral</td>\n",
              "      <td>Neutral</td>\n",
              "      <td>foodpanda</td>\n",
              "    </tr>\n",
              "    <tr>\n",
              "      <th>4</th>\n",
              "      <td>Male</td>\n",
              "      <td>16-30</td>\n",
              "      <td>98.0</td>\n",
              "      <td>1.7780</td>\n",
              "      <td>31.000062</td>\n",
              "      <td>Obese</td>\n",
              "      <td>Undergraduate</td>\n",
              "      <td>Part-time</td>\n",
              "      <td>Fully Dependendent</td>\n",
              "      <td>Single</td>\n",
              "      <td>5</td>\n",
              "      <td>More than 6 months</td>\n",
              "      <td>5</td>\n",
              "      <td>Lunch, Evening Snacks, Dinner</td>\n",
              "      <td>Pizza, Fried chicken, French fries, Biriyani/K...</td>\n",
              "      <td>Agree</td>\n",
              "      <td>Agree</td>\n",
              "      <td>Neutral</td>\n",
              "      <td>Disagree</td>\n",
              "      <td>Strongly Agree</td>\n",
              "      <td>Strongly Agree</td>\n",
              "      <td>Strongly Agree</td>\n",
              "      <td>Strongly Agree</td>\n",
              "      <td>Neutral</td>\n",
              "      <td>Agree</td>\n",
              "      <td>Neutral</td>\n",
              "      <td>Pathao</td>\n",
              "    </tr>\n",
              "    <tr>\n",
              "      <th>...</th>\n",
              "      <td>...</td>\n",
              "      <td>...</td>\n",
              "      <td>...</td>\n",
              "      <td>...</td>\n",
              "      <td>...</td>\n",
              "      <td>...</td>\n",
              "      <td>...</td>\n",
              "      <td>...</td>\n",
              "      <td>...</td>\n",
              "      <td>...</td>\n",
              "      <td>...</td>\n",
              "      <td>...</td>\n",
              "      <td>...</td>\n",
              "      <td>...</td>\n",
              "      <td>...</td>\n",
              "      <td>...</td>\n",
              "      <td>...</td>\n",
              "      <td>...</td>\n",
              "      <td>...</td>\n",
              "      <td>...</td>\n",
              "      <td>...</td>\n",
              "      <td>...</td>\n",
              "      <td>...</td>\n",
              "      <td>...</td>\n",
              "      <td>...</td>\n",
              "      <td>...</td>\n",
              "      <td>...</td>\n",
              "    </tr>\n",
              "    <tr>\n",
              "      <th>106</th>\n",
              "      <td>Male</td>\n",
              "      <td>16-30</td>\n",
              "      <td>90.0</td>\n",
              "      <td>1.8034</td>\n",
              "      <td>27.673136</td>\n",
              "      <td>Overweight</td>\n",
              "      <td>Undergraduate</td>\n",
              "      <td>Seeking opportunities currently</td>\n",
              "      <td>Independent</td>\n",
              "      <td>Single</td>\n",
              "      <td>0</td>\n",
              "      <td>More than 6 months</td>\n",
              "      <td>5</td>\n",
              "      <td>Dinner</td>\n",
              "      <td>Chinese, Pizza, Pasta, Biriyani/Khichuri/Tehari</td>\n",
              "      <td>Strongly Agree</td>\n",
              "      <td>Strongly Agree</td>\n",
              "      <td>Disagree</td>\n",
              "      <td>Strongly Agree</td>\n",
              "      <td>Strongly Agree</td>\n",
              "      <td>Strongly Agree</td>\n",
              "      <td>Neutral</td>\n",
              "      <td>Agree</td>\n",
              "      <td>Neutral</td>\n",
              "      <td>Disagree</td>\n",
              "      <td>Agree</td>\n",
              "      <td>foodpanda</td>\n",
              "    </tr>\n",
              "    <tr>\n",
              "      <th>107</th>\n",
              "      <td>Male</td>\n",
              "      <td>16-30</td>\n",
              "      <td>58.0</td>\n",
              "      <td>1.6510</td>\n",
              "      <td>21.278149</td>\n",
              "      <td>Normal</td>\n",
              "      <td>Undergraduate</td>\n",
              "      <td>Part-time</td>\n",
              "      <td>Partially dependent</td>\n",
              "      <td>Single</td>\n",
              "      <td>0</td>\n",
              "      <td>More than 6 months</td>\n",
              "      <td>2</td>\n",
              "      <td>Lunch</td>\n",
              "      <td>Pizza, Fried chicken</td>\n",
              "      <td>Agree</td>\n",
              "      <td>Agree</td>\n",
              "      <td>Neutral</td>\n",
              "      <td>Neutral</td>\n",
              "      <td>Strongly Agree</td>\n",
              "      <td>Agree</td>\n",
              "      <td>Agree</td>\n",
              "      <td>Agree</td>\n",
              "      <td>Agree</td>\n",
              "      <td>Agree</td>\n",
              "      <td>Agree</td>\n",
              "      <td>foodpanda</td>\n",
              "    </tr>\n",
              "    <tr>\n",
              "      <th>108</th>\n",
              "      <td>Male</td>\n",
              "      <td>16-30</td>\n",
              "      <td>75.0</td>\n",
              "      <td>1.8288</td>\n",
              "      <td>22.424813</td>\n",
              "      <td>Normal</td>\n",
              "      <td>Undergraduate</td>\n",
              "      <td>Full-time</td>\n",
              "      <td>Independent</td>\n",
              "      <td>Single</td>\n",
              "      <td>0</td>\n",
              "      <td>More than 6 months</td>\n",
              "      <td>1</td>\n",
              "      <td>Dinner</td>\n",
              "      <td>Burger, Pizza, Fried chicken</td>\n",
              "      <td>Neutral</td>\n",
              "      <td>Neutral</td>\n",
              "      <td>Disagree</td>\n",
              "      <td>Disagree</td>\n",
              "      <td>Neutral</td>\n",
              "      <td>Neutral</td>\n",
              "      <td>Disagree</td>\n",
              "      <td>Neutral</td>\n",
              "      <td>Neutral</td>\n",
              "      <td>Disagree</td>\n",
              "      <td>Disagree</td>\n",
              "      <td>foodpanda, Pathao</td>\n",
              "    </tr>\n",
              "    <tr>\n",
              "      <th>109</th>\n",
              "      <td>Female</td>\n",
              "      <td>16-30</td>\n",
              "      <td>70.0</td>\n",
              "      <td>1.5748</td>\n",
              "      <td>28.225863</td>\n",
              "      <td>Overweight</td>\n",
              "      <td>Undergraduate</td>\n",
              "      <td>Seeking opportunities currently</td>\n",
              "      <td>Partially dependent</td>\n",
              "      <td>Single</td>\n",
              "      <td>0</td>\n",
              "      <td>Less than 3 months</td>\n",
              "      <td>9</td>\n",
              "      <td>Dinner</td>\n",
              "      <td>Burger, Pizza, Pasta, Coffee</td>\n",
              "      <td>Strongly Agree</td>\n",
              "      <td>Agree</td>\n",
              "      <td>Strongly Agree</td>\n",
              "      <td>Strongly Agree</td>\n",
              "      <td>Strongly Agree</td>\n",
              "      <td>Strongly Agree</td>\n",
              "      <td>Strongly Disagree</td>\n",
              "      <td>Strongly Disagree</td>\n",
              "      <td>Neutral</td>\n",
              "      <td>Neutral</td>\n",
              "      <td>Agree</td>\n",
              "      <td>Pathao</td>\n",
              "    </tr>\n",
              "    <tr>\n",
              "      <th>110</th>\n",
              "      <td>Male</td>\n",
              "      <td>16-30</td>\n",
              "      <td>102.0</td>\n",
              "      <td>1.8288</td>\n",
              "      <td>30.497746</td>\n",
              "      <td>Obese</td>\n",
              "      <td>Graduate/Post-Graduate/Phd</td>\n",
              "      <td>Part-time</td>\n",
              "      <td>Independent</td>\n",
              "      <td>Single</td>\n",
              "      <td>3</td>\n",
              "      <td>More than 6 months</td>\n",
              "      <td>2</td>\n",
              "      <td>Evening Snacks, Dinner</td>\n",
              "      <td>Burger, Pizza, Pasta, Salad, Fried chicken</td>\n",
              "      <td>Neutral</td>\n",
              "      <td>Strongly Disagree</td>\n",
              "      <td>Neutral</td>\n",
              "      <td>Strongly Disagree</td>\n",
              "      <td>Strongly Agree</td>\n",
              "      <td>Agree</td>\n",
              "      <td>Disagree</td>\n",
              "      <td>Strongly Disagree</td>\n",
              "      <td>Neutral</td>\n",
              "      <td>Neutral</td>\n",
              "      <td>Neutral</td>\n",
              "      <td>foodpanda</td>\n",
              "    </tr>\n",
              "  </tbody>\n",
              "</table>\n",
              "<p>111 rows × 27 columns</p>\n",
              "</div>\n",
              "      <button class=\"colab-df-convert\" onclick=\"convertToInteractive('df-d1e2b3b3-15c3-4599-a3c4-6b541fdf6ab1')\"\n",
              "              title=\"Convert this dataframe to an interactive table.\"\n",
              "              style=\"display:none;\">\n",
              "        \n",
              "  <svg xmlns=\"http://www.w3.org/2000/svg\" height=\"24px\"viewBox=\"0 0 24 24\"\n",
              "       width=\"24px\">\n",
              "    <path d=\"M0 0h24v24H0V0z\" fill=\"none\"/>\n",
              "    <path d=\"M18.56 5.44l.94 2.06.94-2.06 2.06-.94-2.06-.94-.94-2.06-.94 2.06-2.06.94zm-11 1L8.5 8.5l.94-2.06 2.06-.94-2.06-.94L8.5 2.5l-.94 2.06-2.06.94zm10 10l.94 2.06.94-2.06 2.06-.94-2.06-.94-.94-2.06-.94 2.06-2.06.94z\"/><path d=\"M17.41 7.96l-1.37-1.37c-.4-.4-.92-.59-1.43-.59-.52 0-1.04.2-1.43.59L10.3 9.45l-7.72 7.72c-.78.78-.78 2.05 0 2.83L4 21.41c.39.39.9.59 1.41.59.51 0 1.02-.2 1.41-.59l7.78-7.78 2.81-2.81c.8-.78.8-2.07 0-2.86zM5.41 20L4 18.59l7.72-7.72 1.47 1.35L5.41 20z\"/>\n",
              "  </svg>\n",
              "      </button>\n",
              "      \n",
              "  <style>\n",
              "    .colab-df-container {\n",
              "      display:flex;\n",
              "      flex-wrap:wrap;\n",
              "      gap: 12px;\n",
              "    }\n",
              "\n",
              "    .colab-df-convert {\n",
              "      background-color: #E8F0FE;\n",
              "      border: none;\n",
              "      border-radius: 50%;\n",
              "      cursor: pointer;\n",
              "      display: none;\n",
              "      fill: #1967D2;\n",
              "      height: 32px;\n",
              "      padding: 0 0 0 0;\n",
              "      width: 32px;\n",
              "    }\n",
              "\n",
              "    .colab-df-convert:hover {\n",
              "      background-color: #E2EBFA;\n",
              "      box-shadow: 0px 1px 2px rgba(60, 64, 67, 0.3), 0px 1px 3px 1px rgba(60, 64, 67, 0.15);\n",
              "      fill: #174EA6;\n",
              "    }\n",
              "\n",
              "    [theme=dark] .colab-df-convert {\n",
              "      background-color: #3B4455;\n",
              "      fill: #D2E3FC;\n",
              "    }\n",
              "\n",
              "    [theme=dark] .colab-df-convert:hover {\n",
              "      background-color: #434B5C;\n",
              "      box-shadow: 0px 1px 3px 1px rgba(0, 0, 0, 0.15);\n",
              "      filter: drop-shadow(0px 1px 2px rgba(0, 0, 0, 0.3));\n",
              "      fill: #FFFFFF;\n",
              "    }\n",
              "  </style>\n",
              "\n",
              "      <script>\n",
              "        const buttonEl =\n",
              "          document.querySelector('#df-d1e2b3b3-15c3-4599-a3c4-6b541fdf6ab1 button.colab-df-convert');\n",
              "        buttonEl.style.display =\n",
              "          google.colab.kernel.accessAllowed ? 'block' : 'none';\n",
              "\n",
              "        async function convertToInteractive(key) {\n",
              "          const element = document.querySelector('#df-d1e2b3b3-15c3-4599-a3c4-6b541fdf6ab1');\n",
              "          const dataTable =\n",
              "            await google.colab.kernel.invokeFunction('convertToInteractive',\n",
              "                                                     [key], {});\n",
              "          if (!dataTable) return;\n",
              "\n",
              "          const docLinkHtml = 'Like what you see? Visit the ' +\n",
              "            '<a target=\"_blank\" href=https://colab.research.google.com/notebooks/data_table.ipynb>data table notebook</a>'\n",
              "            + ' to learn more about interactive tables.';\n",
              "          element.innerHTML = '';\n",
              "          dataTable['output_type'] = 'display_data';\n",
              "          await google.colab.output.renderOutput(dataTable, element);\n",
              "          const docLink = document.createElement('div');\n",
              "          docLink.innerHTML = docLinkHtml;\n",
              "          element.appendChild(docLink);\n",
              "        }\n",
              "      </script>\n",
              "    </div>\n",
              "  </div>\n",
              "  "
            ]
          },
          "metadata": {},
          "execution_count": 212
        }
      ]
    },
    {
      "cell_type": "markdown",
      "source": [
        "## **Data Visualization**\n",
        "\n"
      ],
      "metadata": {
        "id": "FGqJVAeBVXoD"
      }
    },
    {
      "cell_type": "code",
      "source": [
        "# Create a bar chart of the number of people in each age range\n",
        "sns.countplot(x = \"Age\", data = df2, color = '#A37DCA')\n",
        "\n",
        "# Add a title and x and y labels\n",
        "plt.title(\"Number of People in Each Age Range\")\n",
        "plt.xlabel(\"Age Range\")\n",
        "plt.ylabel(\"Number of People\")\n",
        "\n",
        "# Show the plot\n",
        "plt.show()"
      ],
      "metadata": {
        "colab": {
          "base_uri": "https://localhost:8080/",
          "height": 295
        },
        "id": "z3QN8MYpVcTN",
        "outputId": "a5f04601-206a-4d4e-ac70-39256c145162"
      },
      "execution_count": null,
      "outputs": [
        {
          "output_type": "display_data",
          "data": {
            "text/plain": [
              "<Figure size 432x288 with 1 Axes>"
            ],
            "image/png": "iVBORw0KGgoAAAANSUhEUgAAAYUAAAEWCAYAAACJ0YulAAAABHNCSVQICAgIfAhkiAAAAAlwSFlzAAALEgAACxIB0t1+/AAAADh0RVh0U29mdHdhcmUAbWF0cGxvdGxpYiB2ZXJzaW9uMy4yLjIsIGh0dHA6Ly9tYXRwbG90bGliLm9yZy+WH4yJAAAaVklEQVR4nO3deZhkdX3v8ffHGVG2yDYi+3gRF1QkOCpGk7hvUSGGEIkiIoK5V6PXqFc0KjEYxaghejVEIggmCCISQEMSlQiJSQAH9IKoBIKMrDIsshlF8Hv/OL85Fp2enpruqaqe6ffreerpU79zTv2+p7q7PnX2VBWSJAE8YNIFSJLmD0NBktQzFCRJPUNBktQzFCRJPUNBktQzFNRLckKS902o7yT5dJLbklw4iRqmSvLqJF+f5bx/n+SgdV3TbM1lWbSwGArzWJKrk9yUZNOBttcmOXeCZY3K04HnAjtW1ZOnjmwfavcluSvJHUm+leTF4y9zOFX1wqo6cTbztt/7f7VlXfX4+Lqucchazm1B/aAR9/GTtpw3Jzk9yXaj6k8zMxTmv0XAmyZdxNpKsmgtZ9kFuLqq7p5hmn+vqs2ALYDjgFOTbDnbGue5l1TVZgOPN4y7gCRLgV8FCnjpiLt7Q/vdPgLYDPjwiPvTahgK89+HgLcm2WLqiCRLk1SSxQNt5yZ5bRt+dZJ/TXJ0kh8luSrJr7T2a9payNRNHNsk+UqSO5Ocl2SXgdd+dBt3a5LLk+w/MO6EJMckOTvJ3cAzp6l3+yRntfmvTHJoaz8E+BTw1PZt8b0zvSFV9XPgeGBjYNckD0ry4SQ/SPLDJH+ZZOOBfg9t/d3a+t9+YFwleWN7b25O8qEk0/5fzLT800w79ffw9VbjbUm+n+SFMy3jDK+7a5J/SnJLq/ekwb+NJDu1b9or2zQfnzL/2tTwKuB84ATgfn8nSbZO8sW21vaNJO8b3Dy1Nu/VoKr6EXAGsOfAax2c5Lvtb/KqJK8bGPeMJNcmeUv7e74hycGjrnNDZijMf8uBc4G3znL+pwCXAFsDnwVOAZ5E943slcDHk2w2MP0rgCOBbYBvAScBpNuE9ZX2Gg8FXg78RZLdB+b9XeBPgM2B6bZfnwJcC2wP7Ae8P8mzquo44PdoawJVdcRMC9RC8LXAXcAVwFHAI+k+SB4B7AC8p037LOADwP7AdsCKVseg3wSWAXsB+wCvmabPYZZ/Jk8BLqd7X/8UOC5Jhpz3fqXQLc/2wGOAnYA/ajUuAr5Et4xL6d6HwWVd2xpeRff7Pwl4fpJtB8Z9ArgbeBhdYPShMZf3KsnWwMuAKweabwJeDPwScDBwdJK9BsY/DHhIW95DgE/kF2uQI6lzg1ZVPubpA7gaeA7wOOB2YAndh+G5bfxSulX7xQPznAu8tg2/GrhiYNzj2/TbDrTdAuzZhk8AThkYtxlwH90Hz+8A/zKlvk8CRwzM+5kZlmWn9lqbD7R9ADhhoNavzzD/q4F7gR8BN9N9g30O3Yfk3cCuA9M+Ffh+Gz4O+NMpy/QzYGl7XsALBsb/L+CcqTWtafmnqXfq7+HKgXGbtH4fNsPv/a62rKseh65m2n2Bbw4s98rBv4cp79/a1PD09j5t055/D3hzG17Uxj1qYPr3zfG9+jHd33jRfRnZeYa/hTOAN7XhZwD/xf3/B24C9l7XdS6UR7/ZQfNXVX07yZeAw4HvruXsPxwY/q/2elPbBtcUrhno964kt9J9K90FeEqSHw1Muxj46+nmncb2wK1VdedA2wq6b+jDOr+qnj7YkOShdB9wFw186Q3dB8Kqfi9eNaIt0y103yqvnqbuFW2eqYZZ/pncOFDDj1utm61+cvatqq9ObWzf1j9Kt61/c7q1/dva6J2AFVV17zqo4SDgy1V1c3v+2dZ2NN2Xk8Xc/30bHJ7Ne/XGqvpUksfTre3sCPwAoG3mOoJubfABdL/vSwfmvWXKMv+4Ldco6tzgGQrrjyPoPtw+MtC2aqfsJsAdbfhhc+xnp1UDbbPSVsD1dP9M51XVc2eYd6ZL7l4PbJVk84Fg2Bm4bo713kwXbI+tqule63q6f36g32Sw9ZR+dwIuG6jp+mleZ5jlH4f3073Pj6+qW5PsC6zab3ANsHOSxTMEwxq1/TH7A4uSrAqSBwFbJHkC8G26tbYdgf9o43caeIlZv1dVdWm6w6I/0TYRbQR8gW5T1plV9bMkZ9AF/5qsHFWdGzL3KawnqupK4HPAGwfaVtJ9uL0yyaIkrwF2nWNXL0ry9CQb0e1bOL+qrqH79vbIJAcmeWB7PCnJY4as/xrg34APJHlwkj3otv/+zVyKrW6n81/RbWd+KECSHZI8v01yMnBwkj3THVb5fuCCqrp64GXelmTLJDvRHen1uWm6mtPyr0Ob021auj3JDsDbBsZdCNwAHJVk0/Y+P20WfexLt6lvd7r9NHvS7b/4F+BVVXUfcDrwR0k2SfJoug/tVeb6Xp0IbEt3xNNGdIG0Eri3rTU8b5gXGUOdGyRDYf3yx8CmU9oOpftguAV4LN0H71x8lm6t5FbgiXQ7o2nf7p9HtzPuerpNER+k+4cd1gF0+0GuB/6Wbtvtf9tEMgtvp9sxeX6SO4CvAo9qdX8VeDfdt80b6ELz5VPmPxO4iG5b9t/R7Ye4n3W0/Gvji7n/eQp/29rfS7dD/PZW6+kDNd4HvIRuZ/sP6Hbq/84s+j4I+HRV/aCqblz1oFsjeUXb0f8Gup27N9JtbjkZ+GmrY07vVVXdQ7eJ7N3ttd4InEq3mex3gbPWYllGVueGKm3nirQgJSlgt7YmpllK8kG6ndbz5izu6awvdU6SawqS1lo7vn+PdJ5Mtynwb9c037itL3XOJ+5oljQbm9Ntitme7gi3j9Bthptv1pc65w03H0mSem4+kiT11uvNR9tss00tXbp00mVI0nrloosuurmqlkw3br0OhaVLl7J8+fJJlyFJ65UkK1Y3zs1HkqSeoSBJ6hkKkqSeoSBJ6hkKkqSeoSBJ6hkKkqSeoSBJ6hkKkqTeen1G83zxN0edN+kSJK0HXnn4r0+6hDVyTUGS1DMUJEk9Q0GS1DMUJEk9Q0GS1DMUJEk9Q0GS1DMUJEk9Q0GS1DMUJEk9Q0GS1DMUJEk9Q0GS1DMUJEk9Q0GS1DMUJEm9kYVCkuOT3JTk2wNtWyX5SpIr2s8tW3uSfCzJlUkuSbLXqOqSJK3eKNcUTgBeMKXtcOCcqtoNOKc9B3ghsFt7HAYcM8K6JEmrMbJQqKp/Bm6d0rwPcGIbPhHYd6D9M9U5H9giyXajqk2SNL1x71PYtqpuaMM3Atu24R2Aawamu7a1/TdJDkuyPMnylStXjq5SSVqAJrajuaoKqFnMd2xVLauqZUuWLBlBZZK0cI07FH64arNQ+3lTa78O2Glguh1bmyRpjMYdCmcBB7Xhg4AzB9pf1Y5C2hu4fWAzkyRpTBaP6oWTnAw8A9gmybXAEcBRwKlJDgFWAPu3yc8GXgRcCfwYOHhUdUmSVm9koVBVB6xm1LOnmbaA14+qFknScDyjWZLUMxQkST1DQZLUMxQkST1DQZLUMxQkST1DQZLUMxQkST1DQZLUMxQkST1DQZLUMxQkST1DQZLUMxQkST1DQZLUMxQkST1DQZLUMxQkST1DQZLUMxQkST1DQZLUMxQkST1DQZLUMxQkST1DQZLUMxQkST1DQZLUMxQkSb2JhEKSNye5LMm3k5yc5MFJHp7kgiRXJvlcko0mUZskLWRDhUKSXZI8pw1vnGTz2XaYZAfgjcCyqnocsAh4OfBB4OiqegRwG3DIbPuQJM3OGkMhyaHAacAnW9OOwBlz7HcxsHGSxcAmwA3As1o/ACcC+86xD0nSWhpmTeH1wNOAOwCq6grgobPtsKquAz4M/IAuDG4HLgJ+VFX3tsmuBXaYbR+SpNkZJhR+WlX3rHrSvt3XbDtMsiWwD/BwYHtgU+AFazH/YUmWJ1m+cuXK2ZYhSZrGMKFwXpJ30m3ueS7weeCLc+jzOcD3q2plVf0MOJ1uTWSLFjjQbaK6brqZq+rYqlpWVcuWLFkyhzIkSVMNEwqHAyuBS4HXAWcD75pDnz8A9k6ySZIAzwa+A3wN2K9NcxBw5hz6kCTNwuI1TVBVPwf+qj3mrKouSHIacDFwL/BN4Fjg74BTkryvtR23LvqTJA1vtaGQ5FJm2HdQVXvMttOqOgI4YkrzVcCTZ/uakqS5m2lN4cVjq0KSNC+sNhSqasWq4SQPo/sWX8A3qurGMdQmSRqzYU5eey1wIfAyuh3B5yd5zagLkySN3xp3NANvA365qm4BSLI18G/A8aMsTJI0fsMcknoLcOfA8ztbmyRpAzPMmsKVwAVJzqTbp7APcEmSPwCoqj8bYX2SpDEaJhT+sz1WWXVS2ayvlCpJmp+GOXntvQBJNmvP7xp1UZKkyRjm6KPHJfkmcBlwWZKLkjx29KVJksZtmB3NxwJ/UFW7VNUuwFtYR5e8kCTNL8OEwqZV9bVVT6rqXLrLXUuSNjDD7Gi+Ksm7gb9uz19Jd50iSdIGZpg1hdcAS+jue/AFYJvWJknawAxz9NFtwBuTbFpVd4+hJknShAxz9NGvJPkO8N32/AlJ/mLklUmSxm6YzUdHA8+nXdqiqv4f8GujLEqSNBnDhAJVdc2UpvtGUIskacKGOfromiS/AlSSBwJvom1KkiRtWIZZU/g94PXADsB1wJ7tuSRpAzPjmkKSfYFHAJ+pqleMpyRJ0qSsdk2hHWH0ZmBr4Mh2ApskaQM205rCrwFPqKr7kmwC/Atw5HjKkiRNwkz7FO6pqvsAqurHQMZTkiRpUmZaU3h0kkvacIBd2/MAVVV7jLw6SdJYzRQKjxlbFZKkeWG1oVBVK8ZZiCRp8oY6o1mStDAYCpKk3kznKZzTfn5wfOVIkiZpph3N27VrHr00ySlMOSS1qi6ebadJtgA+BTwOKLqb9lwOfA5YClwN7N/u5SBJGpOZQuE9wLuBHYE/mzKugGfNod+PAv9QVfsl2QjYBHgncE5VHZXkcOBw4O1z6EOStJZmOvroNOC0JO+uqnV2JnOSh9CdLf3q1s89wD1J9gGe0SY7ETgXQ0GSxmqY23EemeSl/OLGOudW1Zfm0OfDgZXAp5M8AbiI7nLc21bVDW2aG4Ftp5s5yWHAYQA777zzHMqQJE01zO04P0D3of2d9nhTkvfPoc/FwF7AMVX1y8DddJuKelVVdJuo/puqOraqllXVsiVLlsyhDEnSVMMckvobwHOr6viqOh54AfDiOfR5LXBtVV3Qnp9GFxI/TLIdQPt50xz6kCTNwrDnKWwxMPyQuXRYVTfS3c3tUa3p2XRrIGcBB7W2g4Az59KPJGntDXM7zg8A30zyNbrDUn+NKZt7ZuH3gZPakUdXAQfTBdSpSQ4BVgD7z7EPSdJaGmZH88lJzgWe1Jre3r7tz1pVfQtYNs2oZ8/ldSVJczPMmgLtqKCzRlyLJGnCvPaRJKlnKEiSejOGQpJFSb43rmIkSZM1Yyi0ezRfnsRThyVpARhmR/OWwGVJLqQ7+xiAqnrpyKqSJE3EMKHw7pFXIUmaF4Y5T+G8JLsAu1XVV5NsAiwafWmSpHEb5oJ4h9Jdn+iTrWkH4IxRFiVJmoxhDkl9PfA04A6AqroCeOgoi5IkTcYwofDTdiMcAJIsZjWXtZYkrd+GCYXzkrwT2DjJc4HPA18cbVmSpEkYJhQOp7tT2qXA64CzgXeNsihJ0mQMc/TRz5OcCFxAt9no8nZnNEnSBmaNoZDkN4C/BP6T7n4KD0/yuqr6+1EXJ0kar2FOXvsI8MyquhIgya7A3wGGgiRtYIbZp3DnqkBorgLuHFE9kqQJWu2aQpKXtcHlSc4GTqXbp/DbwDfGUJskacxm2nz0koHhHwK/3oZXAhuPrCJJ0sSsNhSq6uBxFiJJmrxhjj56OPD7wNLB6b10tiRteIY5+ugM4Di6s5h/PtpyJEmTNEwo/KSqPjbySiRJEzdMKHw0yRHAl4GfrmqsqotHVpUkaSKGCYXHAwcCz+IXm4+qPZckbUCGCYXfBv7H4OWzJUkbpmHOaP42sMWoC5EkTd4wawpbAN9L8g3uv0/BQ1IlaQMzTCgcMYqOkywClgPXVdWL2/kQpwBbAxcBB7rJSpLGa5j7KZw3or7fBHwX+KX2/IPA0VV1SpK/BA4BjhlR35Kkaaxxn0KSO5Pc0R4/SXJfkjvm0mmSHYHfAD7VnofuaKbT2iQnAvvOpQ9J0tobZk1h81XD7cN7H2DvOfb758D/AVa99tbAj6rq3vb8WmCH6WZMchhwGMDOO+88xzIkSYOGOfqoV50zgOfPtsMkLwZuqqqLZjN/VR1bVcuqatmSJUtmW4YkaRrDXBDvZQNPHwAsA34yhz6fBrw0yYuAB9PtU/gosEWSxW1tYUfgujn0IUmahWGOPhq8r8K9wNV0m5BmpareAbwDIMkzgLdW1SuSfB7Yj+4IpIOAM2fbhyRpdobZpzCu+yq8HTglyfuAb9JdmVWSNEYz3Y7zPTPMV1V15Fw7r6pzgXPb8FXAk+f6mpKk2ZtpTeHuado2pTt/YGtgzqEgSZpfZrod50dWDSfZnO5ks4Pptvl/ZHXzSZLWXzPuU0iyFfAHwCvoTijbq6puG0dhkqTxm2mfwoeAlwHHAo+vqrvGVpUkaSJmOnntLcD2wLuA6wcudXHnXC9zIUman2bap7BWZztLktZ/fvBLknqGgiSpZyhIknqGgiSpZyhIknqGgiSpZyhIknqGgiSpZyhIknqGgiSpZyhIknqGgiSpZyhIknqGgiSpZyhIknqGgiSpZyhIknqGgiSpZyhIknqGgiSpZyhIknqGgiSpN/ZQSLJTkq8l+U6Sy5K8qbVvleQrSa5oP7ccd22StNBNYk3hXuAtVbU7sDfw+iS7A4cD51TVbsA57bkkaYzGHgpVdUNVXdyG7wS+C+wA7AOc2CY7Edh33LVJ0kI30X0KSZYCvwxcAGxbVTe0UTcC265mnsOSLE+yfOXKlWOpU5IWiomFQpLNgC8A/7uq7hgcV1UF1HTzVdWxVbWsqpYtWbJkDJVK0sIxkVBI8kC6QDipqk5vzT9Msl0bvx1w0yRqk6SFbBJHHwU4DvhuVf3ZwKizgIPa8EHAmeOuTZIWusUT6PNpwIHApUm+1dreCRwFnJrkEGAFsP8EapOkBW3soVBVXweymtHPHmctkqT784xmSVLPUJAk9QwFSVLPUJAk9QwFSVLPUJAk9QwFSVLPUJAk9QwFSVLPUJAk9QwFSVLPUJAk9QwFSVLPUJAk9QwFSVLPUJAk9QwFSVLPUJAk9QwFSVLPUJAk9QwFSVLPUJAk9QwFSVLPUJAk9QwFSVLPUJAk9QwFSVLPUJAk9QwFSVJvXoVCkhckuTzJlUkOn3Q9krTQzJtQSLII+ATwQmB34IAku0+2KklaWOZNKABPBq6sqquq6h7gFGCfCdckSQvK4kkXMGAH4JqB59cCT5k6UZLDgMPa07uSXD6G2qS1tQ1w86SL0Pxy4DsmXUFvl9WNmE+hMJSqOhY4dtJ1SDNJsryqlk26DmltzafNR9cBOw0837G1SZLGZD6FwjeA3ZI8PMlGwMuBsyZckyQtKPNm81FV3ZvkDcA/AouA46vqsgmXJc2Wmzi1XkpVTboGSdI8MZ82H0mSJsxQkCT1DAVpDZIcn+SmJN+e0v77Sb6X5LIkf7qaeY9MckmSbyX5cpLtW3uSfKxd0uWSJHuNY1mkNTEUpDU7AXjBYEOSZ9Kdcf+Eqnos8OHVzPuhqtqjqvYEvgS8p7W/ENitPQ4DjhlB3dJaMxSkNaiqfwZundL8P4GjquqnbZqbVjPvHQNPNwVWHdmxD/CZ6pwPbJFku3VbubT2DAVpdh4J/GqSC5Kcl+RJq5swyZ8kuQZ4Bb9YU5jusi47jKxaaUiGgjQ7i4GtgL2BtwGnJsl0E1bVH1bVTsBJwBvGV6K09gwFaXauBU5vm38uBH4ObJPk022n8tnTzHMS8Ftt2Mu6aF4yFKTZOQN4JkCSRwIbATdX1cFVtWdVvaiN221gnn2A77Xhs4BXtaOQ9gZur6obxle+NL15c5kLab5KcjLwDLo1gWuBI4DjgePbYar3AAfV9JcHOCrJo+jWJFYAv9fazwZeBFwJ/Bg4eKQLIQ3Jy1xIknpuPpIk9QwFSVLPUJAk9QwFSVLPUJAk9QwFLThJ9k1SSR69Dl/zj5Jc105c+06SA9bVa0vjZChoIToA+Hr7uS4d3a6Gug/wySQPXMevL42coaAFJclmwNOBQ4CXD7Q/IMlftPsjfCXJ2Un2a+Oe2C56d1GSf1zT1Uyr6gq6E9K2bPMfk2R5u+/Cewf6vDrJe5NcnOTSVWsuSZa0Gi5L8qkkK5Js08a9MsmFbY3kk0kWreO3SAucoaCFZh/gH6rqP4Bbkjyxtb8MWArsDhwIPBWgfdv/v8B+VfVEujOZ/2SmDtoNc64YuJz2H1bVMmAP4NeT7DEw+c1VtRfd/RTe2tqOAP6p3afhNGDn9rqPAX4HeFpbI7mP7sqr0jrjZS600BwAfLQNn9KeX0S39vD5qvo5cGOSr7VpHgU8DvhKuwjqImB11yh6c5KD6S6r/ZKB9v2THEb3/7YdXfBc0sad3n5eRBdMtFp+E6Cq/iHJba392cATgW+0WjYGpr2PgzRbhoIWjCRbAc8CHp+k6D7gK8nbZpoNuKyqnjpEF0dX1YeTvBQ4LsmudCHwVuBJVXVbkhOABw/M89P28z7W/P8Y4MSqescQtUiz4uYjLST7AX9dVbtU1dJ2j4PvA78K/CvwW23fwrZ0F8ADuBxYkqTfnJTksTN1UlVnAcuBg4BfAu4Gbm+v+8Ih6vxXYP/W3/No+yaAc4D9kjy0jdsqyS7DLbo0HNcUtJAcAHxwStsXWvvr6TbPfIfujmgX013O+p62w/ljSR5C9z/z58Bla+jrj4HPAo8Bvkl3yexr6D7w1+S9wMlJDgT+HbgRuLOqbk7yLuDLSR4A/KzVvWKI15SG4lVSpSbJZlV1V5KtgQvpdujeOIE6HgTcV1X3tjWUY9qOZWnkXFOQfuFLSbagu2HOkZMIhGZnutt7PoDuXg2HTqgOLUCuKUiSeu5oliT1DAVJUs9QkCT1DAVJUs9QkCT1/j8340TbK/5uSwAAAABJRU5ErkJggg==\n"
          },
          "metadata": {
            "needs_background": "light"
          }
        }
      ]
    },
    {
      "cell_type": "code",
      "source": [
        "# Create a bar chart of the number of people in each gender group\n",
        "sns.countplot(x = \"Gender\", data = df2, palette=['#5E548E', '#9F86C0', '#BE95C4'])\n",
        "\n",
        "# Add a title and x and y labels\n",
        "plt.title(\"Number of People in Each Gender Group\")\n",
        "plt.xlabel(\"Gender\")\n",
        "plt.ylabel(\"Number of People\")\n",
        "\n",
        "# Show the plot\n",
        "plt.show()\n"
      ],
      "metadata": {
        "colab": {
          "base_uri": "https://localhost:8080/",
          "height": 295
        },
        "id": "QtLSbyayVwP9",
        "outputId": "fdfc758f-5348-437d-9e44-228a85cf7978"
      },
      "execution_count": null,
      "outputs": [
        {
          "output_type": "display_data",
          "data": {
            "text/plain": [
              "<Figure size 432x288 with 1 Axes>"
            ],
            "image/png": "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\n"
          },
          "metadata": {
            "needs_background": "light"
          }
        }
      ]
    },
    {
      "cell_type": "code",
      "source": [
        "# Create a bar chart of the number of people in each gender group\n",
        "sns.countplot(x = \"Weight\", data = df2, palette=['#5E548E', '#9F86C0', '#BE95C4'])\n",
        "\n",
        "# Add a title and x and y labels\n",
        "# plt.title(\"Number of People in Each Weight Group\")\n",
        "plt.xlabel(\"Weight\")\n",
        "plt.ylabel(\"Number of People\")\n",
        "plt.tick_params(axis = 'x', rotation = 90)\n",
        "\n",
        "# Show the plot\n",
        "plt.show()"
      ],
      "metadata": {
        "colab": {
          "base_uri": "https://localhost:8080/",
          "height": 298
        },
        "id": "hPjSb2JUsqHB",
        "outputId": "cbe25e12-06dc-4cf1-f13c-11064a4d386d"
      },
      "execution_count": null,
      "outputs": [
        {
          "output_type": "display_data",
          "data": {
            "text/plain": [
              "<Figure size 432x288 with 1 Axes>"
            ],
            "image/png": "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\n"
          },
          "metadata": {
            "needs_background": "light"
          }
        }
      ]
    },
    {
      "cell_type": "code",
      "source": [
        "# Count the number of occurrences of each category\n",
        "counts = df2['Education'].value_counts()\n",
        "\n",
        "# Plot the pie chart\n",
        "counts.plot.pie(title = 'Educational Qualification', colors = sns.color_palette('Paired', n_colors=len(counts)), autopct='%1.1f%%')\n",
        "\n",
        "# Show the plot\n",
        "plt.show()"
      ],
      "metadata": {
        "colab": {
          "base_uri": "https://localhost:8080/",
          "height": 264
        },
        "id": "twmpmWnb9Pc9",
        "outputId": "170d3d47-05b7-418c-ff03-d2abb434db11"
      },
      "execution_count": null,
      "outputs": [
        {
          "output_type": "display_data",
          "data": {
            "text/plain": [
              "<Figure size 432x288 with 1 Axes>"
            ],
            "image/png": "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\n"
          },
          "metadata": {}
        }
      ]
    },
    {
      "cell_type": "code",
      "source": [
        "# Count the number of occurrences of each category\n",
        "counts = df2['Employment_Status'].value_counts()\n",
        "\n",
        "# Plot the pie chart\n",
        "counts.plot.pie(title = 'Employment Status', colors = sns.color_palette('Paired', n_colors=len(counts)), autopct='%1.1f%%')\n",
        "\n",
        "# Show the plot\n",
        "plt.show()"
      ],
      "metadata": {
        "colab": {
          "base_uri": "https://localhost:8080/",
          "height": 264
        },
        "id": "yeXhQTMB9sex",
        "outputId": "cf325b3f-868a-4898-8783-82495b1a28b6"
      },
      "execution_count": null,
      "outputs": [
        {
          "output_type": "display_data",
          "data": {
            "text/plain": [
              "<Figure size 432x288 with 1 Axes>"
            ],
            "image/png": "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\n"
          },
          "metadata": {}
        }
      ]
    },
    {
      "cell_type": "code",
      "source": [
        "# Count the number of occurrences of each category\n",
        "counts = df2['Financial_Dependency'].value_counts()\n",
        "\n",
        "# Plot the pie chart\n",
        "counts.plot.pie(title = 'Financial Dependency', colors = sns.color_palette('Paired', n_colors=len(counts)), autopct='%1.1f%%')\n",
        "\n",
        "# Show the plot\n",
        "plt.show()"
      ],
      "metadata": {
        "colab": {
          "base_uri": "https://localhost:8080/",
          "height": 264
        },
        "id": "2-1Ku5qi_EJD",
        "outputId": "ebf479f3-f5d1-4d95-d5b1-e43b005ed928"
      },
      "execution_count": null,
      "outputs": [
        {
          "output_type": "display_data",
          "data": {
            "text/plain": [
              "<Figure size 432x288 with 1 Axes>"
            ],
            "image/png": "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\n"
          },
          "metadata": {}
        }
      ]
    },
    {
      "cell_type": "code",
      "source": [
        "# Count the number of occurrences of each category\n",
        "counts = df2['Marital_Status'].value_counts()\n",
        "\n",
        "# Plot the pie chart\n",
        "counts.plot.pie(title = 'Marital Status', colors = sns.color_palette('Paired', n_colors=len(counts)), autopct='%1.1f%%')\n",
        "\n",
        "# Show the plot\n",
        "plt.show()\n",
        "\n",
        "BMI_CAT = list(df2['Marital_Status'])\n",
        "bmi = [0, 0, 0]\n",
        "for values in BMI_CAT:\n",
        "  if values == \"Single\":\n",
        "    bmi[0] += 1\n",
        "  elif values == \"Married\":\n",
        "    bmi[1] += 1\n",
        "  elif values == \"Prefer not to say\":\n",
        "    bmi[2] += 1\n",
        "\n",
        "bmi"
      ],
      "metadata": {
        "colab": {
          "base_uri": "https://localhost:8080/",
          "height": 281
        },
        "id": "OZiDzATy_NPp",
        "outputId": "19376018-b336-4470-d89e-a235ec5efacc"
      },
      "execution_count": null,
      "outputs": [
        {
          "output_type": "display_data",
          "data": {
            "text/plain": [
              "<Figure size 432x288 with 1 Axes>"
            ],
            "image/png": "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\n"
          },
          "metadata": {}
        },
        {
          "output_type": "execute_result",
          "data": {
            "text/plain": [
              "[102, 7, 2]"
            ]
          },
          "metadata": {},
          "execution_count": 219
        }
      ]
    },
    {
      "cell_type": "code",
      "source": [
        "# Create a bar chart of the number of people in each group\n",
        "sns.countplot(x = \"Physical_Activity\", data = df2, color = '#A37DCA')\n",
        "\n",
        "# Add a title and x and y labels\n",
        "# plt.title(\"Number of People in Each Group\")\n",
        "plt.xlabel(\"Physical Activity Per Week\")\n",
        "plt.ylabel(\"Number of People\")\n",
        "\n",
        "# Show the plot\n",
        "plt.show()"
      ],
      "metadata": {
        "colab": {
          "base_uri": "https://localhost:8080/",
          "height": 279
        },
        "id": "c8bW21cc_cg5",
        "outputId": "baa254ab-da02-41af-e398-78327cc5af95"
      },
      "execution_count": null,
      "outputs": [
        {
          "output_type": "display_data",
          "data": {
            "text/plain": [
              "<Figure size 432x288 with 1 Axes>"
            ],
            "image/png": "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\n"
          },
          "metadata": {
            "needs_background": "light"
          }
        }
      ]
    },
    {
      "cell_type": "code",
      "source": [
        "# Create a bar chart of Ordering History distribution\n",
        "sns.countplot(x = \"Ordering_History\", data = df2, color = '#A37DCA')\n",
        "\n",
        "# Add a title and x and y labels\n",
        "plt.title(\"Ordering History Distribution\")\n",
        "plt.xlabel(\"Ordering History\")\n",
        "plt.ylabel(\"Number of People\")\n",
        "\n",
        "# Show the plot\n",
        "plt.show()"
      ],
      "metadata": {
        "colab": {
          "base_uri": "https://localhost:8080/",
          "height": 295
        },
        "id": "bc1L58OsFQXx",
        "outputId": "d02db180-2e04-4f1c-83d7-33c10e1a032b"
      },
      "execution_count": null,
      "outputs": [
        {
          "output_type": "display_data",
          "data": {
            "text/plain": [
              "<Figure size 432x288 with 1 Axes>"
            ],
            "image/png": "iVBORw0KGgoAAAANSUhEUgAAAX4AAAEWCAYAAABhffzLAAAABHNCSVQICAgIfAhkiAAAAAlwSFlzAAALEgAACxIB0t1+/AAAADh0RVh0U29mdHdhcmUAbWF0cGxvdGxpYiB2ZXJzaW9uMy4yLjIsIGh0dHA6Ly9tYXRwbG90bGliLm9yZy+WH4yJAAAevElEQVR4nO3debgcVZnH8e+PhCUQNBAikkAImwgiIAZkUxFQQFZ9QGRRoizjjCwKzsDwsARxAXeR0RFR9h0xBEQGRAKIbAkJhBCQiETCImGHIEvgnT/Oaajc9O1bd6m+uanf53n66arqqlNvdVW/ffpU1WlFBGZmVh9L9HcAZmbWXk78ZmY148RvZlYzTvxmZjXjxG9mVjNO/GZmNePEb90iabyk83ux/B8kHdCXMXVj3R+V9GB/rLu3+jr24n6QNE7Sn/uw7P0kXddX5Vnfc+KvkfwBny7pFUlPSvqFpGHtjCEidoqIc/q6XEnbSJrTZPokSQfldd8SEeuWKKtXX27dldf3hqSX8uOvkk6XtEpjnr6Ova/2g6QxkkLS4ELZF0TEp3pbtlXHib8mJB0FnAr8J/BuYHNgdeB6SUt1sszgZtN7uH5JqsXx1sP37ZKIWB5YEfgM8F5gSjH591FstdkP1jkfADUg6V3AScBhEXFtRLwREY8AnwPGAPvn+cZLulzS+ZJeBMZJWkPSTbkmej2wUoeyN5f0F0nPS7pH0jaF1yZJ+rakW4FXgDWLNfBGE4OkH0h6TtLfJe1UWH4NSTfndf9R0v/0splpgV8Fko6W9Fgu/0FJ20naETgW2FvSy5LuyfOOlDRR0rOSZkk6uFBOx/ftmPyranhhnk0kzZW0ZKsY876ZAewNzAWO6oPYW+6Hd4rU6ZJekPSApO0KLzwiafsO29vYDzfn5+fzOrfo2HQkaUtJd+Wy75K0ZeG1SZJOlnRr3pbrJC1wjFnfc+Kvhy2BZYArihMj4mXgGuCThcm7A5cDw4ALgAuBKaSEfzLwdvu8pFHA74FvkWqq3wB+K2lEobwvAIcAywOzm8T2EeDBXP73gF9LUn7tQuBOYDgwPpfVJyStCxwKbJpr2jsAj0TEtcB3SDXwoRGxUV7kYmAOMBLYE/iOpG0LRRbftx8Ck0hfrA1fAC6OiDfKxBcRbwJXAh/tg9gb6+9qP/yNtB9OBK6QtGKJUD+Wn4fldd7WIdYVScfIaaT9+CPg98UvRWBf4EvAe4ClSMeRVciJvx5WAp6OiPlNXnuCBWvxt0XEhIh4CxgBbAocHxGvRcTNwFWFefcHromIayLirYi4HpgMfLowz9kRMSMi5neS9GZHxK9yojsHWAVYWdLovO4TIuL1iPgzMLGL7RyZf3m8/QC27mTeN4GlgfUlLRkRj0TE35rNKGk1YCvg6Ih4NSKmAWcCXyzM9vb7FhH/ytvS+CU1CNgHOK+L+Dt6nPSF2uPYC7raD08BP8m/OC4hfRnv3M14m9kZeCgizsvrvgh4ANi1MM9ZEfHX/L5dCmzcB+u1Fpz46+FpYKVO2p5Xya83PFoYHgk8FxHzCtOKtcXVgb2aJNpiu3SxvGaebAxExCt5cGhe97OFaWXKejwihhUfQNOrVSJiFvA10i+JpyRdLGlkJ+U2YnmpMG02MKpFbFeSEvMapF9UL0TEnV3E39Eo4Nlext5ZfB09Fgv22DibtN29NZKFf2F0fO+eLAy/Qtr/ViEn/nq4DXgN+GxxoqShwE7ADYXJxQ//E8AKkpYrTBtdGH4UOK9Dsl0uIk7ppLzueAJYUdKyhWmr9bCspiLiwojYmvQFFqST37BwzI/nWJYvTBsNPFYsrkPZr5Jqr/uTmlm6VdtXOgG7K3BLL2NvGl8TowpNbJC27/E8PA8o7of3dqPcx3OMRR3fO2szJ/4aiIgXSCd3fyZpR0lLShpDSkxz6CQpRcRsUtPNSZKWkrQ1C/5EPx/YVdIOkgZJWiafhFy1D2JurHt8XvcWHdbdK5LWlbStpKWBV4F/AW/ll/8JjMnJl4h4FPgL8N28jRsCB5K2v5VzgXHAbpRM/JIGS1oPuIiUYH/Um9i74T3A4fnY2AtYj3T+B2Aa8Pn82ljSOY6GuXnda3ZS7jXA+yTtm7dtb2B94Opuxmd9yIm/JiLie6QrPn4AvAjcQaqxbxcRr7VYdF/Sib9nSSf9zi2U+SjppOaxpATwKOly0b46rvYDtgCeIZ1AvoT0y6UvLA2cQmrmepKU+P47v3ZZfn5G0t15eB/SFVCPA78DToyIP7ZaQUTcSkqKd+cvslb2lvQy8ALpXMYzwIcj4vEm83Y39jLuANbJZX4b2DMinsmvHQ+sBTxHqkBcWNjGV/L8t+bmvs2LheYydiFdnfQM8F/ALhFRbF60NpP/iMUGCkmXAA9ExIn9HUtZkv4EXBgRZ/Z3LGYNrvHbIkvSppLWkrREvkZ9d2BCf8dVlqRNgU1Iv1TMFhl9dmemWQXeS7r3YDjpXMS/R8TU/g2pHEnnAHsAR3S4Gsis37mpx8ysZtzUY2ZWMwOiqWellVaKMWPG9HcYZmYDypQpU56OiBEdpw+IxD9mzBgmT57c32GYmQ0okppeRuymHjOzmnHiNzOrGSd+M7OaceI3M6sZJ34zs5px4jczqxknfjOzmnHiNzOrGSd+M7OaGRB37lp9nH/KTf0dwmJv/2M+3t8hWD9zjd/MrGac+M3MasaJ38ysZpz4zcxqxonfzKxmnPjNzGrGid/MrGac+M3MasaJ38ysZpz4zcxqxonfzKxmnPjNzGrGid/MrGac+M3MasaJ38ysZpz4zcxqxonfzKxmnPjNzGrGid/MrGac+M3MasaJ38ysZipN/JK+LmmGpPskXSRpGUlrSLpD0ixJl0haqsoYzMxsQZUlfkmjgMOBsRGxATAI+DxwKvDjiFgbeA44sKoYzMxsYVU39QwGhkgaDCwLPAFsC1yeXz8H2KPiGMzMrKCyxB8RjwE/AP5BSvgvAFOA5yNifp5tDjCq2fKSDpE0WdLkuXPnVhWmmVntVNnUswKwO7AGMBJYDtix7PIRcUZEjI2IsSNGjKgoSjOz+qmyqWd74O8RMTci3gCuALYChuWmH4BVgccqjMHMzDqoMvH/A9hc0rKSBGwH3A/cCOyZ5zkAuLLCGMzMrIMq2/jvIJ3EvRuYntd1BnA0cKSkWcBw4NdVxWBmZgsb3PUsPRcRJwIndpj8MLBZles1M7PO+c5dM7OaceI3M6sZJ34zs5px4jczqxknfjOzmnHiNzOrGSd+M7OaceI3M6sZJ34zs5px4jczqxknfjOzmnHiNzOrGSd+M7OaceI3M6sZJ34zs5px4jczqxknfjOzmnHiNzOrGSd+M7OaceI3M6sZJ34zs5px4jczqxknfjOzmnHiNzOrmVKJX9LqkrbPw0MkLV9tWGZmVpUuE7+kg4HLgV/mSasCE6oMyszMqlOmxv9VYCvgRYCIeAh4T5VBmZlZdcok/tci4vXGiKTBQFQXkpmZValM4r9J0rHAEEmfBC4Drqo2LDMzq0qZxH8MMBeYDvwbcA1wXJVBmZlZdQZ3NUNEvAX8Kj/MzGyA6zTxS5pOi7b8iNiwkojMzKxSrWr8u7QtCjMza5tOE39EzG4MS3ovsBnpF8BdEfFkG2IzM7MKlLmB6yDgTuCzwJ7A7ZK+XHVgZmZWjS5P7gL/CXwoIp4BkDQc+AvwmyoDMzOzapS5nPMZ4KXC+Et5WpckDZN0uaQHJM2UtIWkFSVdL+mh/LxCTwI3M7OeKZP4ZwF3SBov6UTgduCvko6UdGQXy/4UuDYi3g9sBMwk3RdwQ0SsA9yQx83MrE3KNPX8LT8arszPLXvolPRu4GPAOIDc7cPrknYHtsmznQNMAo4uG7CZmfVOmRu4TgKQNDSPv1yy7DVId/yeJWkjYApwBLByRDyR53kSWLnZwpIOAQ4BGD16dMlVmplZV8pc1bOBpKnADGCGpCmSPlCi7MHAJsAvIuJDwDw6NOtERNDJTWIRcUZEjI2IsSNGjCixOjMzK6NMG/8ZwJERsXpErA4cRbnuG+YAcyLijjx+OemL4J+SVgHIz091P2wzM+upMol/uYi4sTESEZOA5bpaKN/k9aikdfOk7YD7gYnAAXnaAbxzzsDMzNqgzMndhyUdD5yXx/cHHi5Z/mHABZKWyst8ifRlc6mkA4HZwOe6F7KZmfVGmcT/ZeAk4ApSe/wteVqXImIaMLbJS9uVDdDMzPpWmat6ngMOl7RcRMxrQ0xmZlahMlf1bCnpftLNV0jaSNLPK4/MzMwqUebk7o+BHcjdNETEPaQbs8zMbAAqk/iJiEc7THqzgljMzKwNypzcfVTSlkBIWpJ09+3MasMyM7OqlKnxfwX4KjAKeAzYOI+bmdkA1LLGL2kPYG3g3IjYrz0hmZlZlTqt8ecrd74ODAdOzjdxmZnZANeqxv8xYKOIeFPSsqQbt05uT1hmZlaVVm38r0fEmwAR8Qqg9oRkZmZValXjf7+ke/OwgLXyuEg9Km9YeXRmZtbnWiX+9doWhZmZtU2niT8iZrczEDMza49Sd+6amdniw4nfzKxmWl3Hf0N+PrV94ZiZWdVandxdJffRs5uki+lwOWdE3F1pZGZmVolWif8E4HhgVeBHHV4LYNuqgjIzs+q0uqrncuByScdHhO/YNTNbTJT568WTJe3GO3++Mikirq42LDMzq0qZv178LqkP/vvz4whJ36k6MDMzq0aZP2LZGdg4It4CkHQOMBU4tsrAzMysGmWv4x9WGH53FYGYmVl7lKnxfxeYKulG0iWdHwOOqTQqMzOrTJmTuxdJmgRsmicdHRFPVhqVmZlVpkyNn4h4AphYcSxmZtYG7qvHzKxmnPjNzGqmZeKXNEjSA+0KxszMqtcy8ef/3H1Q0ug2xWNmZhUrc3J3BWCGpDuBeY2JEbFbZVGZmVllyiT+4yuPwszM2qbMdfw3SVodWCci/ihpWWBQ9aGZmVkVynTSdjBwOfDLPGkUMKHKoMzMrDplLuf8KrAV8CJARDwEvKfKoMzMrDplEv9rEfF6Y0TSYNI/cJmZ2QBUJvHfJOlYYIikTwKXAVdVG5aZmVWlTOI/BpgLTAf+DbgGOK7sCvJNYFMlXZ3H15B0h6RZki6RtFRPAjczs57pMvHnP2A5BzgZOAk4JyK609RzBDCzMH4q8OOIWBt4DjiwG2WZmVkvlbmqZ2fgb8BpwOnALEk7lSlc0qqkf/A6M48L2JZ0lRCkL5Q9uh+2mZn1VJkbuH4IfCIiZgFIWgv4PfCHEsv+BPgvYPk8Phx4PiLm5/E5pMtDFyLpEOAQgNGj3WOEmVlfKdPG/1Ij6WcPAy91tZCkXYCnImJKTwKLiDMiYmxEjB0xYkRPijAzsyY6rfFL+mwenCzpGuBS0mWcewF3lSh7K2A3SZ8GlgHeBfwUGCZpcK71rwo81ov4zcysm1rV+HfNj2WAfwIfB7YhXeEzpKuCI+K/I2LViBgDfB74U0TsB9wI7JlnOwC4sqfBm5lZ93Va44+IL1W0zqOBiyV9C5gK/Lqi9ZiZWRNdntyVtAZwGDCmOH93umWOiEnApDz8MLBZ98I0M7O+UuaqngmkWvlVwFvVhmNmZlUrk/hfjYjTKo/EzMzaokzi/6mkE4HrgNcaEyPi7sqiMjOzypRJ/B8EvkC647bR1BN53MzMBpgyiX8vYM1i18xmZjZwlblz9z5gWNWBmJlZe5Sp8Q8DHpB0Fwu28Ze+nNPMzBYdZRL/iZVHYWZmbdNl4o+Im9oRiJmZtUeZO3df4p3/2F0KWBKYFxHvqjIwMzOrRpkaf6Mv/cYfqewObF5lUGZmVp0yV/W8LZIJwA4VxWNmZhUr09Tz2cLoEsBY4NXKIjIzs0qVuapn18LwfOARUnOPmZkNQGXa+Kvql9/MzPpBq79ePKHFchERJ1cQj5mZVaxVjX9ek2nLAQcCwwEnfjOzAajVXy/+sDEsaXngCOBLwMXADztbzszMFm0t2/glrQgcCewHnANsEhHPtSMwMzOrRqs2/u8DnwXOAD4YES+3LSozM6tMqxu4jgJGAscBj0t6MT9ekvRie8IzM7O+1qqNv1t39ZqZ2cDg5G5mVjNO/GZmNePEb2ZWM078ZmY148RvZlYzTvxmZjXjxG9mVjNO/GZmNePEb2ZWM078ZmY148RvZlYzTvxmZjXjxG9mVjNO/GZmNVNZ4pe0mqQbJd0vaYakI/L0FSVdL+mh/LxCVTGYmdnCqqzxzweOioj1gc2Br0paHzgGuCEi1gFuyONmZtYmlSX+iHgiIu7Owy8BM4FRwO6k/+8lP+9RVQxmZrawtrTxSxoDfAi4A1g5Ip7ILz0JrNzJModImixp8ty5c9sRpplZLVSe+CUNBX4LfC0iFviv3ogIIJotFxFnRMTYiBg7YsSIqsM0M6uNShO/pCVJSf+CiLgiT/6npFXy66sAT1UZg5mZLajKq3oE/BqYGRE/Krw0ETggDx8AXFlVDGZmtrDBFZa9FfAFYLqkaXnascApwKWSDgRmA5+rMAYzM+ugssQfEX8G1MnL21W1XjMza8137pqZ1YwTv5lZzTjxm5nVjBO/mVnNOPGbmdWME7+ZWc048ZuZ1YwTv5lZzTjxm5nVjBO/mVnNOPGbmdWME7+ZWc1U2Ttnvzj/lJv6O4TF3v7HfLy/QzCzXnCN38ysZpz4zcxqxonfzKxmnPjNzGrGid/MrGac+M3MasaJ38ysZpz4zcxqxonfzKxmFrs7d82sf/iu+er11V3zrvGbmdWME7+ZWc048ZuZ1YwTv5lZzTjxm5nVjBO/mVnNOPGbmdWME7+ZWc048ZuZ1YwTv5lZzTjxm5nVjBO/mVnNOPGbmdWME7+ZWc30S+KXtKOkByXNknRMf8RgZlZXbU/8kgYB/wPsBKwP7CNp/XbHYWZWV/1R498MmBURD0fE68DFwO79EIeZWS0pItq7QmlPYMeIOCiPfwH4SEQc2mG+Q4BD8ui6wINtDbS9VgKe7u8grEe87wa2xX3/rR4RIzpOXGT/ejEizgDO6O842kHS5IgY299xWPd53w1sdd1//dHU8xiwWmF81TzNzMzaoD8S/13AOpLWkLQU8HlgYj/EYWZWS21v6omI+ZIOBf4PGAT8JiJmtDuORUwtmrQWU953A1st91/bT+6amVn/8p27ZmY148RvZlYzi0Xil/RyG9ZxbGF4jKT7KljHMpLulHSPpBmSTurrdXSx/nGSRhbGH5G0UoXrC0nnF8YHS5or6eoK1rWxpE8XxsdL+kZfryeXvY2kaXkf3lTFOlqsu/LjtCrdOf4ljZZ0naSZku6XNKaNcbb1c1KFxSLxt8mxXc/Sa68B20bERsDGwI6SNm/DehvGASO7mqkPzQM2kDQkj3+Sbl7aK6nsBQobA5/ucq5ekjQM+DmwW0R8ANir6nV20I7jtCrdOf7PBb4fEeuRegN4qk0xQvs/J31usU38ktaSdK2kKZJukfT+PH0vSfflWsXNedoHck1jmqR7Ja3ToaxTgCH59Qvy5EGSfpVrJtc1kpekgyXdlcv/raRl8/SzJZ0m6S+SHs53MC8gksavlyXzY6Gz75ImSfqxpMm5xrOppCskPSTpW4X5jszbep+kr+VpY/IyC8Se4xkLXJC3s5GMD5N0t6Tphffw43meaZKmSlq+Z3sJgGuAnfPwPsBFhfhXlDQh75PbJW2Yp4+XdJ6kW4HzJI3I7/Vd+bFVh/drKeCbwN455r3zS+vn9/JhSYcX5p+Qj5sZSneQN6a/LOnbed/eLmnlJtuzL3BFRPwDICKaJqRc1vfzOv4oabNCLLvleZaRdFZ+76dK+kSePi7v72vzPv9ent6d4/TwXFO+V9LFXe6lNujG8b8+MDgirs/LvRwRrzSZb3H6nPStiBjwD+DlJtNuANbJwx8B/pSHpwOj8vCw/PwzYL88vBQwpNU6gDHAfGDjPH4psH8eHl6Y71vAYXn4bOAy0pft+qT+ipptyyBgGvAycGon80xqvAYcATwOrAIsDcwBhgMfztu6HDAUmAF8qIvYJwFjC+t5pBD/fwBn5uGrgK3y8FDSh7BH+w3YELgcWCZv9zbA1YX9cmIe3haYlofHA1Ma+wm4ENg6D48GZjZZ1zjg9ML4eOAv+T1bCXgGWDK/tmJ+HgLc19inpCS0ax7+HnBck/X8hNQJ4aQc4xc72fYAdsrDvwOuIyW6jQrbeRTpcmeA9wP/yO/TOOBh4N15fDawWjeP08eBpYufg0XhQbnjfw/gauAKYCrwfWDQ4vo5qeKxWNb4JQ0FtgQukzQN+CVphwPcCpwt6WDSQQZwG3CspKNJfVv8q8Rq/h4R0/LwFNKBAqnp4hZJ04H9gA8UlpkQEW9FxP1As9oiEfFmRGxMuqN5M0kbdLL+xk1v04EZEfFERLxGSgirAVsDv4uIeZFqUVcAH+0i9mauaDLfrcCPci15WETMb7F8SxFxby53H1Ltv2hr4Lw835+A4ZLelV+bWNhP2wOn5309EXhXPga68vuIeC0iniY1FTT2yeGS7gFuJ72XjV+Ar5MSDnT+vg0mJZOdgR2A4yW9r8l8rwPX5uHpwE0R8UYebpS7NXB+3v4HSAm+UdYNEfFCRLwK3A+s3sk2drav7yXVWvcnJbhFQsnjfzDpWP4GsCmwJunLsJnF4nPS1xbLxE/arucjYuPCYz2AiPgKcBxpp0+RNDwiLgR2A/4FXCNp2xLreK0w/Cbv3Ax3NnBoRHwQOIlUI2u2jFoVHhHPAzcCO3ax/rc6lPsWXd+Y11nsreZ9e76IOAU4iFQjvrXx07YXJgI/oNDMU8K8wvASwOaFfT0q3mkyaGWh90HSNqQvki0itTVP5Z19+Ebk6hudv29zgP/LieRp4GZSLb6jYllv78OIKLP/msbezfl2Jv0y2QS4S+XPlbRF8fiX9JFCk8lupPd4WqQefucDE0jb0czi9DnpM4tl4o+IF4G/S9oLQMlGeXitiLgjIk4A5gKrSVoTeDgiTgOuJDU/dPSGpCVLrH554Ik8737diTu3VQ/Lw0NIJzsf6E4ZBbcAe0haVtJywGfytFZeIsXfVZxrRcT0iDiV1AVHbw/o3wAnRcT0DtNvIb+HOSE/nfdtR9cBhxXi27jJPKW2jdR88lxEvJI/qN09uX4lsLXSFUrLkpoZZ3azjIbi9r+P1IzVVS+1XR6nkpYgNQ3dCBxN2uYyv5Aq1dnxnz+vjS/1iaRjbpikRq+T25J+9fTEQPqc9JnFJfEvK2lO4XEk6QNzYP7JPoN3+vz/fj4Bcx+pjfce4HPAfbmpYAPSFQMdnQHcWzhp1pnjgTtIP/O6m7RXAW6UdC/pQLk+Inp0aWNE3E369XFnjufMiJjaxWJnA//b4aRVM1/LJ8LuBd4A/tCTGAuxzslfuh2NBz6c13MKcEAnRRwOjM0nKu8HvtJknhtJJ3OLJ3ebuZZU85+Z13l72e0AiIiZuYx7Se/9mRHR00sqfw4skZsNLwHG5WaKVsocp4OA83O5U4HTcg27v5U6/iPiTVIzzw15GwT8qicrHEifk77kLhvMzGpmcanxm5lZSU78ZmY148RvZlYzTvxmZjXjxG9mVjNO/LZIk7SqpCtz/yp/k/RTpb53yiw7SVK3/khb0jclbd+zaBcqa4FeG5V67bw6D+8m6ZgWyy7Qm6hZX3Lit0WWJJFuhZ8QEeuQuisYCny7yby9vvNU0qCIOCEi/tjbsroSERPznZ2d6XZvoova3be26HLit0XZtsCrEXEWvH3jzteBL+c7LcdJmijpT6SbeYZIulipV8XfkW6VB0DSpyTdlntQvKzRl0+ulZ8q6W5gL6VeVPcsvHaSFu51cYSk65V6bTxT0mx1sz/2HPvpeXiBHmPVpDdRle+p9ObincuS/qx817pZg2sItij7AKnTq7dFxIuS/gGsnSdtAmwYEc/mO7ZfiYj1cmK8GyAn5eOA7SNinlJnfEeSkivAMxGxSZ63Y99IT0fEJpL+g3S36EHAiaTeXr+b5z+wxTbcKOnNPDyU5ndznwDsEBGPSRoWEa9LOoHUA+ShOa6fAVMjYg+lvqTOJf0qgNTb69YR8S9JB5A6LPta7uZhmYi4p0V8VkOu8dtAd31EPJuHP8Y7vVneS+o2AVJ/O+uTOsqaRur6odib5SUtym/W6+LWwMV5PdcCz7VY/hONfmZIXxrNNOsxtqOyPZVeBuyi1F/Pl0ndC5gtwDV+W5TdDyzwhzU52Y0GZpFq+/OaLNeRSF8Q+3TyeqsyFup1sa9FxFckfYTUY+YUSR/uZhFvx587l7ue1DfV50hdRJstwDV+W5TdQOqA74uQTr4CPwTOjib/uETqAnnfPO8GvNPL6u3AVpLWzq8tp+Z95Jd1KympIulTwAq9KKtpj7Es3ANk2Z5KAc4ETgPuiohWv0asppz4bZGV+6v/DOmk60PAX4FX6fx/ZX8BDM09a36TfH4gIuaS2r0vyj0l3kbvusg9CfiUUg+vewFPkhJ1TzXrMbZjb6LjKddTKRExBXgROKsXMdlizL1zmnWTpKWBNyNivqQtgF/kNvxFgqSRpL8HfH/+YxezBbiN36z7RgOXKv2hyevAwf0cz9tys9i3gSOd9K0zrvGbmdWM2/jNzGrGid/MrGac+M3MasaJ38ysZpz4zcxq5v8BRF2Cv2pz3NIAAAAASUVORK5CYII=\n"
          },
          "metadata": {
            "needs_background": "light"
          }
        }
      ]
    },
    {
      "cell_type": "code",
      "source": [
        "#Label for each category\n",
        "x = ['Breakfast', 'Lunch', 'Evening Snacks', 'Dinner', 'Midnight snacks']\n",
        "y = [0 for _ in range(len(x))]\n",
        "\n",
        "#Calculates distribution for each category\n",
        "for values in df2['Ordering_Time']:\n",
        "  ordering_times = values.split(', ')\n",
        "  for ordering_time in ordering_times:\n",
        "    for i in range(len(x)):\n",
        "      if ordering_time == x[i]:\n",
        "        y[i] += 1\n",
        "\n",
        "# Create a bar chart of BMI distribution\n",
        "sns.barplot(x = y, y = x, color = '#A37DCA')\n",
        "\n",
        "# Add a title and x and y labels\n",
        "plt.title(\"Ordering Time Distribution\")\n",
        "plt.ylabel(\"Ordering Time\")\n",
        "plt.xlabel(\"Number of People\")\n",
        "\n",
        "# Show the plot\n",
        "plt.show()"
      ],
      "metadata": {
        "colab": {
          "base_uri": "https://localhost:8080/",
          "height": 295
        },
        "id": "F2ErNwRBFlIz",
        "outputId": "912ecc52-adcb-4b12-ee7a-3d4fb4349351"
      },
      "execution_count": null,
      "outputs": [
        {
          "output_type": "display_data",
          "data": {
            "text/plain": [
              "<Figure size 432x288 with 1 Axes>"
            ],
            "image/png": "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\n"
          },
          "metadata": {
            "needs_background": "light"
          }
        }
      ]
    },
    {
      "cell_type": "code",
      "source": [
        "#Label for each category\n",
        "x = ['foodpanda', 'HungryNaki', 'Pathao', 'Others']\n",
        "y = [0 for _ in range(len(x))]\n",
        "\n",
        "apps_distribution = []\n",
        "\n",
        "#Calculates distribution for each category\n",
        "for values in df2['OFO_APPS']:\n",
        "  apps = values.split(', ')\n",
        "  for app in apps:\n",
        "    apps_distribution.append(app)\n",
        "\n",
        "for app in apps_distribution:\n",
        "  if app == 'foodpanda':\n",
        "    y[0] += 1\n",
        "  elif app == 'HungryNaki':\n",
        "    y[1] += 1\n",
        "  elif app == 'Pathao':\n",
        "    y[2] += 1\n",
        "  else:\n",
        "    y[3] += 1\n",
        "\n",
        "\n",
        "# Create a bar chart of BMI distribution\n",
        "sns.barplot(x = y, y = x, color = '#A37DCA')\n",
        "\n",
        "# Add a title and x and y labels\n",
        "plt.title(\"Online Food Ordering Apps Distribution\")\n",
        "plt.ylabel(\"Apps\")\n",
        "plt.xlabel(\"Number of People\")\n",
        "\n",
        "# Show the plot\n",
        "plt.show()"
      ],
      "metadata": {
        "colab": {
          "base_uri": "https://localhost:8080/",
          "height": 295
        },
        "id": "UuiXTrn2Mwr5",
        "outputId": "fdc286f8-5ad8-4e6a-e740-3f4cdc9e7e21"
      },
      "execution_count": null,
      "outputs": [
        {
          "output_type": "display_data",
          "data": {
            "text/plain": [
              "<Figure size 432x288 with 1 Axes>"
            ],
            "image/png": "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\n"
          },
          "metadata": {
            "needs_background": "light"
          }
        }
      ]
    },
    {
      "cell_type": "code",
      "source": [
        "#Calculates total distribution\n",
        "foods_distribution = []\n",
        "for values in df2['Food_Types']:\n",
        "  foods = values.split(', ')\n",
        "  for food in foods:\n",
        "    foods_distribution.append(food)\n",
        "\n",
        "#Label for each category\n",
        "x = list(set(foods_distribution))\n",
        "y = [0 for _ in range(len(x))]\n",
        "\n",
        "#Calculates distribution for each category\n",
        "for values in foods_distribution:\n",
        "  for i in range(len(x)):\n",
        "    if values == x[i]:\n",
        "      y[i] += 1\n",
        "\n",
        "# Create a bar chart of BMI distribution\n",
        "sns.barplot(x = y, y = x, color = '#A37DCA')\n",
        "\n",
        "# Add a title and x and y labels\n",
        "# plt.title(\"Food Type Distribution\")\n",
        "plt.ylabel(\"Types of Food\")\n",
        "plt.xlabel(\"Number of People\")\n",
        "\n",
        "# Show the plot\n",
        "plt.show()"
      ],
      "metadata": {
        "colab": {
          "base_uri": "https://localhost:8080/",
          "height": 279
        },
        "id": "YAoGdjhGQLRY",
        "outputId": "450e3ec1-a61a-4c5b-9d23-646e54594c45"
      },
      "execution_count": null,
      "outputs": [
        {
          "output_type": "display_data",
          "data": {
            "text/plain": [
              "<Figure size 432x288 with 1 Axes>"
            ],
            "image/png": "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\n"
          },
          "metadata": {
            "needs_background": "light"
          }
        }
      ]
    },
    {
      "cell_type": "code",
      "source": [
        "likert_scale = ['Strongly Disagree', 'Disagree', 'Neutral', 'Agree', 'Strongly Agree']\n",
        "\n",
        "column_names = list(behavioral_data.columns.values)\n",
        "chart_values = []\n",
        "\n",
        "for i in range(len(column_names)):\n",
        "  arr = behavioral_data[column_names[i]].value_counts()\n",
        "  arr = np.roll(arr, 2)\n",
        "  chart_values.append(arr.tolist())\n",
        "\n",
        "results = dict(zip(column_names, chart_values))\n",
        "\n",
        "\n",
        "def survey(results, likert_scale):\n",
        "    \"\"\"\n",
        "    Parameters\n",
        "    ----------\n",
        "    results : dict\n",
        "        A mapping from question labels to a list of answers per category.\n",
        "        It is assumed all lists contain the same number of entries and that\n",
        "        it matches the length of *likert_scale*.\n",
        "    likert_scale : list of str\n",
        "        The category labels.\n",
        "    \"\"\"\n",
        "    labels = list(results.keys())\n",
        "    data = np.array(list(results.values()))\n",
        "    data_cum = data.cumsum(axis=1)\n",
        "    category_colors = cm.RdYlGn(np.linspace(0.15, 0.85, data.shape[1]))\n",
        "\n",
        "    fig, ax = plt.subplots(figsize=(9.2, 5))\n",
        "    ax.invert_yaxis()\n",
        "    ax.xaxis.set_visible(False)\n",
        "    ax.set_xlim(0, np.sum(data, axis=1).max())\n",
        "\n",
        "    for i, (colname, color) in enumerate(zip(likert_scale, category_colors)):\n",
        "        widths = data[:, i]\n",
        "        starts = data_cum[:, i] - widths\n",
        "        rects = ax.barh(labels, widths, left=starts, height=0.5,\n",
        "                        label=colname, color=color)\n",
        "        r, g, b, _ = color\n",
        "        text_color = 'white' if (r + g + b) / 3 < 0.5 else 'darkgrey'\n",
        "        for rect, label in zip(rects, widths):\n",
        "            ax.text(rect.get_x() + rect.get_width() / 2,\n",
        "                    rect.get_y() + rect.get_height() / 2,\n",
        "                    label, ha='center', va='center', color=text_color)\n",
        "    ax.legend(ncol=len(likert_scale), bbox_to_anchor=(0, 1),\n",
        "              loc='lower left', fontsize='small')\n",
        "\n",
        "    return fig, ax\n",
        "\n",
        "\n",
        "survey(results, likert_scale)\n",
        "\n",
        "plt.show()"
      ],
      "metadata": {
        "colab": {
          "base_uri": "https://localhost:8080/",
          "height": 343
        },
        "id": "TR0hscnPXjzQ",
        "outputId": "fc12ad93-3fde-4b7c-bf49-c7e8fa63dea7"
      },
      "execution_count": null,
      "outputs": [
        {
          "output_type": "display_data",
          "data": {
            "text/plain": [
              "<Figure size 1440x864 with 0 Axes>"
            ]
          },
          "metadata": {}
        },
        {
          "output_type": "display_data",
          "data": {
            "text/plain": [
              "<Figure size 662.4x360 with 1 Axes>"
            ],
            "image/png": "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\n"
          },
          "metadata": {
            "needs_background": "light"
          }
        }
      ]
    },
    {
      "cell_type": "code",
      "source": [
        "#set resolution of the output\n",
        "plt.figure(figsize=(20, 12))\n",
        "\n",
        "# Create a bar chart of BMI distribution\n",
        "sns.countplot(x = \"BMI_CAT\", data = df2, color = '#A37DCA')\n",
        "\n",
        "# Add a title and x and y labels\n",
        "plt.title(\"BMI Distribution\")\n",
        "plt.xlabel(\"BMI\")\n",
        "plt.ylabel(\"Number of People\")\n",
        "\n",
        "# Show the plot\n",
        "plt.show()"
      ],
      "metadata": {
        "colab": {
          "base_uri": "https://localhost:8080/",
          "height": 747
        },
        "id": "NjFS1-4xVx7B",
        "outputId": "1e3786b5-e88d-44da-cd10-217cae9c55dd"
      },
      "execution_count": null,
      "outputs": [
        {
          "output_type": "display_data",
          "data": {
            "text/plain": [
              "<Figure size 1440x864 with 1 Axes>"
            ],
            "image/png": "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\n"
          },
          "metadata": {
            "needs_background": "light"
          }
        },
        {
          "output_type": "display_data",
          "data": {
            "text/plain": [
              "<Figure size 24000x18000 with 0 Axes>"
            ]
          },
          "metadata": {}
        }
      ]
    },
    {
      "cell_type": "code",
      "source": [
        "# BMI_CAT = list(df2['BMI_CAT'])\n",
        "# bmi = [0, 0, 0, 0]\n",
        "# for values in BMI_CAT:\n",
        "#   if values == \"Obese\":\n",
        "#     bmi[0] += 1\n",
        "#   elif values == \"Overweight\":\n",
        "#     bmi[1] += 1\n",
        "#   elif values == \"Normal\":\n",
        "#     bmi[2] += 1\n",
        "#   else:\n",
        "#     bmi[3] += 1\n",
        "# for val in bmi:\n",
        "#   print((val/111)*100)"
      ],
      "metadata": {
        "id": "AMpUaaxVv7vM"
      },
      "execution_count": null,
      "outputs": []
    },
    {
      "cell_type": "code",
      "source": [
        "#set resolution of the output\n",
        "plt.figure(figsize=(20, 12))\n",
        "\n",
        "# Create a bar chart of Ordering Frequency\n",
        "sns.countplot(x = \"Order_Per_Month\", data = df2, color = '#A37DCA')\n",
        "\n",
        "# Add a title and x and y labels\n",
        "plt.title(\"Distribution of Order Frequency\")\n",
        "plt.xlabel(\"Orders Per Month\")\n",
        "plt.ylabel(\"Number of People\")\n",
        "plt.tick_params(axis = 'x', rotation = 90)\n",
        "\n",
        "# Show the plot\n",
        "plt.show()"
      ],
      "metadata": {
        "colab": {
          "base_uri": "https://localhost:8080/",
          "height": 733
        },
        "id": "nG-XZsnwV46y",
        "outputId": "76203c6c-5c58-478e-9797-cadcb47f6af2"
      },
      "execution_count": null,
      "outputs": [
        {
          "output_type": "display_data",
          "data": {
            "text/plain": [
              "<Figure size 1440x864 with 1 Axes>"
            ],
            "image/png": "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\n"
          },
          "metadata": {
            "needs_background": "light"
          }
        }
      ]
    },
    {
      "cell_type": "markdown",
      "source": [
        "## **Correlation Analysis between BMI and Ordering Frequency**"
      ],
      "metadata": {
        "id": "2oAq7V9GLgpa"
      }
    },
    {
      "cell_type": "markdown",
      "source": [
        "**Pearson Correlation**"
      ],
      "metadata": {
        "id": "nOne6aOnzT6C"
      }
    },
    {
      "cell_type": "code",
      "source": [
        "# Compute the Pearson correlation coefficient and p-value\n",
        "corr, p_value = pearsonr(df2['BMI'], df2['Order_Per_Month'])\n",
        "\n",
        "print(\"Pearson correlation coefficient:\", corr)\n",
        "print(\"p-value:\", p_value)"
      ],
      "metadata": {
        "colab": {
          "base_uri": "https://localhost:8080/"
        },
        "id": "hF_C1Y_RXavi",
        "outputId": "b7849b9d-eb59-439a-e878-e0efe3fd6adf"
      },
      "execution_count": null,
      "outputs": [
        {
          "output_type": "stream",
          "name": "stdout",
          "text": [
            "Pearson correlation coefficient: 0.2962513501764273\n",
            "p-value: 0.001593713372689572\n"
          ]
        }
      ]
    },
    {
      "cell_type": "markdown",
      "source": [
        "**Spearman correlation**"
      ],
      "metadata": {
        "id": "7VeiGnLVzY3g"
      }
    },
    {
      "cell_type": "code",
      "source": [
        "# # Map categorical values of BMI to ordinal values\n",
        "# bmi_map = {'Underweight': 1, 'Normal': 2, 'Overweight': 3, 'Obese': 4}\n",
        "# df2['BMI_ordinal'] = df2['BMI_CAT'].map(bmi_map)\n",
        "\n",
        "# # Calculate spearman rank correlation\n",
        "# corr, pvalue = spearmanr(df2['BMI_ordinal'], df2['Order_Per_Month'])\n",
        "\n",
        "# print(\"Spearman rank correlation between BMI and Order_Per_Month:\")\n",
        "# print(\"correlation coefficient: \", corr)\n",
        "# print(\"p-value: \", pvalue)"
      ],
      "metadata": {
        "id": "fcTqXkePyhct"
      },
      "execution_count": null,
      "outputs": []
    },
    {
      "cell_type": "markdown",
      "source": [
        "**Point-biserial correlation**"
      ],
      "metadata": {
        "id": "IzkQhILhzdGD"
      }
    },
    {
      "cell_type": "code",
      "source": [
        "# BMI_data = df2['BMI_CAT']\n",
        "\n",
        "# # Create a binary variable for each level of BMI\n",
        "# BMI_data['BMI_Underweight'] = (df2['BMI_CAT'] == 'Underweight').astype(int)\n",
        "# BMI_data['BMI_Normal'] = (df2['BMI_CAT'] == 'Normal').astype(int)\n",
        "# BMI_data['BMI_Overweight'] = (df2['BMI_CAT'] == 'Overweight').astype(int)\n",
        "# BMI_data['BMI_Obese'] = (df2['BMI_CAT'] == 'Obese').astype(int)\n",
        "\n",
        "# # Calculate point-biserial correlation for each binary variable\n",
        "# corr_underweight, p_value_underweight = pointbiserialr(BMI_data['BMI_Underweight'], df2['Order_Per_Month'])\n",
        "# corr_normal, p_value_normal = pointbiserialr(BMI_data['BMI_Normal'], df2['Order_Per_Month'])\n",
        "# corr_overweight, p_value_overweight = pointbiserialr(BMI_data['BMI_Overweight'], df2['Order_Per_Month'])\n",
        "# corr_obese, p_value_obese = pointbiserialr(BMI_data['BMI_Obese'], df2['Order_Per_Month'])\n",
        "\n",
        "# print(\"Point-biserial correlation between BMI and Order_Per_Month\")\n",
        "# print(\"Underweight: \", corr_underweight)\n",
        "# print(\"P-Value: \", p_value_underweight)\n",
        "# print(\"Normal: \", corr_normal)\n",
        "# print(\"P-Value: \", p_value_normal)\n",
        "# print(\"Overweight: \", corr_overweight)\n",
        "# print(\"P-Value: \", p_value_overweight)\n",
        "# print(\"Obese: \", corr_obese)\n",
        "# print(\"P-Value: \", p_value_obese)\n"
      ],
      "metadata": {
        "id": "cNAmG-zqYzuA"
      },
      "execution_count": null,
      "outputs": []
    },
    {
      "cell_type": "markdown",
      "source": [
        "## **Finding Factors that influence online food ordering**"
      ],
      "metadata": {
        "id": "bpNZSnOW4kfH"
      }
    },
    {
      "cell_type": "markdown",
      "source": [
        "# **Linear Regression**"
      ],
      "metadata": {
        "id": "9S5A1jJKQtKV"
      }
    },
    {
      "cell_type": "code",
      "source": [
        "# Extract the independent variables (factors) and the dependent variable (orders)\n",
        "X = behavioral_data_encoded\n",
        "y = df2['Order_Per_Month']\n",
        "\n",
        "# Split the data into training and testing sets\n",
        "X_train, X_test, y_train, y_test = train_test_split(X, y, test_size=0.2, random_state=42)\n",
        "\n",
        "# Create a linear regression object and fit it to the training data\n",
        "model = LinearRegression()\n",
        "model.fit(X_train, y_train)\n",
        "\n",
        "# Use the model to predict the number of orders on the testing data\n",
        "y_pred = model.predict(X_test)\n",
        "\n",
        "# # Check the model's R-squared value (a measure of the model's goodness of fit)\n",
        "# r_squared = model.score(X_test, y_test)\n",
        "# print(\"R-squared: \", r_squared)\n",
        "\n",
        "#check the coefficients and feature importance\n",
        "lr_coef = model.coef_\n",
        "lr_max = 0\n",
        "lr_max_index = 0\n",
        "for i in range(len(X.columns)):\n",
        "  if lr_coef[i] > lr_max:\n",
        "      lr_max = lr_coef[i]\n",
        "      lr_max_index = i\n",
        "  print(f\"{X.columns[i]}: {lr_coef[i]}\")\n",
        "\n",
        "\n",
        "print(\"\\nMost Influencing Factor: \" + X.columns[lr_max_index])"
      ],
      "metadata": {
        "colab": {
          "base_uri": "https://localhost:8080/"
        },
        "id": "LJR36cTzWHLd",
        "outputId": "6c0550c4-bade-4190-e7e6-cd4c686e5fc4"
      },
      "execution_count": null,
      "outputs": [
        {
          "output_type": "stream",
          "name": "stdout",
          "text": [
            "New_Tech: 0.01804467371719557\n",
            "Impulsive_Decision: -1.0689127245912267\n",
            "Busy_To_Cook: 0.08141504728003995\n",
            "Dont_Like_To_Cook: -0.6173367198267719\n",
            "Ordering_Easy: -0.003313700249449797\n",
            "Options_To_Choose: 0.04814142532804072\n",
            "Ordering_Inexpensive: 0.5092982815923135\n",
            "Promo_Discounts: 0.5614262270580554\n",
            "Quick_Delivery: 0.3652979259480113\n",
            "Food_Safety: 0.1157649162946231\n",
            "Nutritious: 0.2102337376017522\n",
            "\n",
            "Most Influencing Factor: Promo_Discounts\n"
          ]
        }
      ]
    },
    {
      "cell_type": "markdown",
      "source": [
        "# **Decision Tree**"
      ],
      "metadata": {
        "id": "RLZEyAhzQql6"
      }
    },
    {
      "cell_type": "code",
      "source": [
        "# Extract the independent variables (factors) and the dependent variable (orders)\n",
        "X = behavioral_data_encoded\n",
        "y = df2['Order_Per_Month']\n",
        "\n",
        "# Split the data into training and testing sets\n",
        "X_train, X_test, y_train, y_test = train_test_split(X, y, test_size=0.2, random_state=42)\n",
        "\n",
        "# Create a DecisionTreeRegressor object and fit it to the training data\n",
        "model = DecisionTreeRegressor()\n",
        "model.fit(X_train, y_train)\n",
        "\n",
        "# Use the model to predict the number of orders on the testing data\n",
        "y_pred = model.predict(X_test)\n",
        "\n",
        "# # Check the model's R-squared value (a measure of the model's goodness of fit)\n",
        "# r_squared = model.score(X_test, y_test)\n",
        "# print(\"R-squared: \", r_squared)\n",
        "\n",
        "#check the feature importance\n",
        "dt_importance = model.feature_importances_\n",
        "dt_max = 0\n",
        "dt_max_index = 0\n",
        "for i in range(len(X.columns)):\n",
        "  if dt_importance[i] > dt_max:\n",
        "      dt_max = dt_importance[i]\n",
        "      dt_max_index = i\n",
        "  # print(f\"{X.columns[i]}: {dt_importance[i]}\")\n",
        "  print(f\"{dt_importance[i]}\")\n",
        "\n",
        "print(\"\\nMost Influencing Factor: \" + X.columns[dt_max_index])"
      ],
      "metadata": {
        "colab": {
          "base_uri": "https://localhost:8080/"
        },
        "id": "1beYb8PWN23k",
        "outputId": "29b2b65d-63e6-4b46-e2cd-a21ac283094e"
      },
      "execution_count": null,
      "outputs": [
        {
          "output_type": "stream",
          "name": "stdout",
          "text": [
            "0.09217617941485542\n",
            "0.13253198776814176\n",
            "0.049411921596728754\n",
            "0.05184418312821428\n",
            "0.019355400696864117\n",
            "0.011731928543775217\n",
            "0.035089927569944\n",
            "0.5070748919135916\n",
            "0.03722222222222219\n",
            "0.000425861401471156\n",
            "0.06313549574419138\n",
            "\n",
            "Most Influencing Factor: Promo_Discounts\n"
          ]
        }
      ]
    },
    {
      "cell_type": "markdown",
      "source": [
        "# **Random Forest**"
      ],
      "metadata": {
        "id": "yc719q0kQoEZ"
      }
    },
    {
      "cell_type": "code",
      "source": [
        "# Extract the independent variables (factors) and the dependent variable (orders)\n",
        "X = behavioral_data_encoded\n",
        "y = df2['Order_Per_Month']\n",
        "\n",
        "# Split the data into training and testing sets\n",
        "X_train, X_test, y_train, y_test = train_test_split(X, y, test_size=0.2, random_state=42)\n",
        "\n",
        "# Create a RandomForestRegressor object and fit it to the training data\n",
        "model = RandomForestRegressor(n_estimators=100)\n",
        "model.fit(X_train, y_train)\n",
        "\n",
        "# Use the model to predict the number of orders on the testing data\n",
        "y_pred = model.predict(X_test)\n",
        "\n",
        "# # Check the model's R-squared value (a measure of the model's goodness of fit)\n",
        "# r_squared = model.score(X_test, y_test)\n",
        "# print(\"R-squared: \", r_squared)\n",
        "\n",
        "#check the feature importance\n",
        "rf_importance = model.feature_importances_\n",
        "rf_max = 0\n",
        "rf_max_index = 0\n",
        "for i in range(len(X.columns)):\n",
        "  \n",
        "    if rf_importance[i] > rf_max:\n",
        "      rf_max = rf_importance[i]\n",
        "      rf_max_index = i\n",
        "    print(f\"{X.columns[i]}: {rf_importance[i]}\")\n",
        "\n",
        "print(\"\\nMost Influencing Factor: \" + X.columns[rf_max_index])"
      ],
      "metadata": {
        "colab": {
          "base_uri": "https://localhost:8080/"
        },
        "id": "JHVJJaTOPWCy",
        "outputId": "d9787416-bff8-47a7-f5b4-ad235fbfd7cd"
      },
      "execution_count": null,
      "outputs": [
        {
          "output_type": "stream",
          "name": "stdout",
          "text": [
            "New_Tech: 0.0697501477910417\n",
            "Impulsive_Decision: 0.1766477120163295\n",
            "Busy_To_Cook: 0.04024321583021763\n",
            "Dont_Like_To_Cook: 0.0958142719008788\n",
            "Ordering_Easy: 0.05144834400079796\n",
            "Options_To_Choose: 0.07731559608922967\n",
            "Ordering_Inexpensive: 0.037897638696857326\n",
            "Promo_Discounts: 0.27734007964516083\n",
            "Quick_Delivery: 0.07200064033347699\n",
            "Food_Safety: 0.051026459740046944\n",
            "Nutritious: 0.050515893955962836\n",
            "\n",
            "Most Influencing Factor: Promo_Discounts\n"
          ]
        }
      ]
    },
    {
      "cell_type": "code",
      "source": [
        "behavioral_data_encoded"
      ],
      "metadata": {
        "colab": {
          "base_uri": "https://localhost:8080/",
          "height": 424
        },
        "id": "XMkCt1eAM_vl",
        "outputId": "49252e62-00e2-4b98-a386-7f9cd4b25597"
      },
      "execution_count": null,
      "outputs": [
        {
          "output_type": "execute_result",
          "data": {
            "text/plain": [
              "     New_Tech  Impulsive_Decision  Busy_To_Cook  Dont_Like_To_Cook  \\\n",
              "0           0                   3             1                  1   \n",
              "1           3                   2             2                  1   \n",
              "2           2                   2             1                  1   \n",
              "3           2                   0             2                  2   \n",
              "4           0                   0             2                  1   \n",
              "..        ...                 ...           ...                ...   \n",
              "106         3                   3             1                  3   \n",
              "107         0                   0             2                  2   \n",
              "108         2                   2             1                  1   \n",
              "109         3                   0             3                  3   \n",
              "110         2                   4             2                  4   \n",
              "\n",
              "     Ordering_Easy  Options_To_Choose  Ordering_Inexpensive  Promo_Discounts  \\\n",
              "0                3                  0                     2                3   \n",
              "1                0                  3                     1                0   \n",
              "2                3                  3                     3                3   \n",
              "3                0                  0                     0                3   \n",
              "4                3                  3                     3                3   \n",
              "..             ...                ...                   ...              ...   \n",
              "106              3                  3                     2                0   \n",
              "107              3                  0                     0                0   \n",
              "108              2                  2                     1                2   \n",
              "109              3                  3                     4                4   \n",
              "110              3                  0                     1                4   \n",
              "\n",
              "     Quick_Delivery  Food_Safety  Nutritious  \n",
              "0                 2            1           4  \n",
              "1                 1            2           2  \n",
              "2                 0            2           2  \n",
              "3                 0            2           2  \n",
              "4                 2            0           2  \n",
              "..              ...          ...         ...  \n",
              "106               2            1           0  \n",
              "107               0            0           0  \n",
              "108               2            1           1  \n",
              "109               2            2           0  \n",
              "110               2            2           2  \n",
              "\n",
              "[111 rows x 11 columns]"
            ],
            "text/html": [
              "\n",
              "  <div id=\"df-7a1dc6a2-b44a-45a5-a502-e4f96f9ee2fe\">\n",
              "    <div class=\"colab-df-container\">\n",
              "      <div>\n",
              "<style scoped>\n",
              "    .dataframe tbody tr th:only-of-type {\n",
              "        vertical-align: middle;\n",
              "    }\n",
              "\n",
              "    .dataframe tbody tr th {\n",
              "        vertical-align: top;\n",
              "    }\n",
              "\n",
              "    .dataframe thead th {\n",
              "        text-align: right;\n",
              "    }\n",
              "</style>\n",
              "<table border=\"1\" class=\"dataframe\">\n",
              "  <thead>\n",
              "    <tr style=\"text-align: right;\">\n",
              "      <th></th>\n",
              "      <th>New_Tech</th>\n",
              "      <th>Impulsive_Decision</th>\n",
              "      <th>Busy_To_Cook</th>\n",
              "      <th>Dont_Like_To_Cook</th>\n",
              "      <th>Ordering_Easy</th>\n",
              "      <th>Options_To_Choose</th>\n",
              "      <th>Ordering_Inexpensive</th>\n",
              "      <th>Promo_Discounts</th>\n",
              "      <th>Quick_Delivery</th>\n",
              "      <th>Food_Safety</th>\n",
              "      <th>Nutritious</th>\n",
              "    </tr>\n",
              "  </thead>\n",
              "  <tbody>\n",
              "    <tr>\n",
              "      <th>0</th>\n",
              "      <td>0</td>\n",
              "      <td>3</td>\n",
              "      <td>1</td>\n",
              "      <td>1</td>\n",
              "      <td>3</td>\n",
              "      <td>0</td>\n",
              "      <td>2</td>\n",
              "      <td>3</td>\n",
              "      <td>2</td>\n",
              "      <td>1</td>\n",
              "      <td>4</td>\n",
              "    </tr>\n",
              "    <tr>\n",
              "      <th>1</th>\n",
              "      <td>3</td>\n",
              "      <td>2</td>\n",
              "      <td>2</td>\n",
              "      <td>1</td>\n",
              "      <td>0</td>\n",
              "      <td>3</td>\n",
              "      <td>1</td>\n",
              "      <td>0</td>\n",
              "      <td>1</td>\n",
              "      <td>2</td>\n",
              "      <td>2</td>\n",
              "    </tr>\n",
              "    <tr>\n",
              "      <th>2</th>\n",
              "      <td>2</td>\n",
              "      <td>2</td>\n",
              "      <td>1</td>\n",
              "      <td>1</td>\n",
              "      <td>3</td>\n",
              "      <td>3</td>\n",
              "      <td>3</td>\n",
              "      <td>3</td>\n",
              "      <td>0</td>\n",
              "      <td>2</td>\n",
              "      <td>2</td>\n",
              "    </tr>\n",
              "    <tr>\n",
              "      <th>3</th>\n",
              "      <td>2</td>\n",
              "      <td>0</td>\n",
              "      <td>2</td>\n",
              "      <td>2</td>\n",
              "      <td>0</td>\n",
              "      <td>0</td>\n",
              "      <td>0</td>\n",
              "      <td>3</td>\n",
              "      <td>0</td>\n",
              "      <td>2</td>\n",
              "      <td>2</td>\n",
              "    </tr>\n",
              "    <tr>\n",
              "      <th>4</th>\n",
              "      <td>0</td>\n",
              "      <td>0</td>\n",
              "      <td>2</td>\n",
              "      <td>1</td>\n",
              "      <td>3</td>\n",
              "      <td>3</td>\n",
              "      <td>3</td>\n",
              "      <td>3</td>\n",
              "      <td>2</td>\n",
              "      <td>0</td>\n",
              "      <td>2</td>\n",
              "    </tr>\n",
              "    <tr>\n",
              "      <th>...</th>\n",
              "      <td>...</td>\n",
              "      <td>...</td>\n",
              "      <td>...</td>\n",
              "      <td>...</td>\n",
              "      <td>...</td>\n",
              "      <td>...</td>\n",
              "      <td>...</td>\n",
              "      <td>...</td>\n",
              "      <td>...</td>\n",
              "      <td>...</td>\n",
              "      <td>...</td>\n",
              "    </tr>\n",
              "    <tr>\n",
              "      <th>106</th>\n",
              "      <td>3</td>\n",
              "      <td>3</td>\n",
              "      <td>1</td>\n",
              "      <td>3</td>\n",
              "      <td>3</td>\n",
              "      <td>3</td>\n",
              "      <td>2</td>\n",
              "      <td>0</td>\n",
              "      <td>2</td>\n",
              "      <td>1</td>\n",
              "      <td>0</td>\n",
              "    </tr>\n",
              "    <tr>\n",
              "      <th>107</th>\n",
              "      <td>0</td>\n",
              "      <td>0</td>\n",
              "      <td>2</td>\n",
              "      <td>2</td>\n",
              "      <td>3</td>\n",
              "      <td>0</td>\n",
              "      <td>0</td>\n",
              "      <td>0</td>\n",
              "      <td>0</td>\n",
              "      <td>0</td>\n",
              "      <td>0</td>\n",
              "    </tr>\n",
              "    <tr>\n",
              "      <th>108</th>\n",
              "      <td>2</td>\n",
              "      <td>2</td>\n",
              "      <td>1</td>\n",
              "      <td>1</td>\n",
              "      <td>2</td>\n",
              "      <td>2</td>\n",
              "      <td>1</td>\n",
              "      <td>2</td>\n",
              "      <td>2</td>\n",
              "      <td>1</td>\n",
              "      <td>1</td>\n",
              "    </tr>\n",
              "    <tr>\n",
              "      <th>109</th>\n",
              "      <td>3</td>\n",
              "      <td>0</td>\n",
              "      <td>3</td>\n",
              "      <td>3</td>\n",
              "      <td>3</td>\n",
              "      <td>3</td>\n",
              "      <td>4</td>\n",
              "      <td>4</td>\n",
              "      <td>2</td>\n",
              "      <td>2</td>\n",
              "      <td>0</td>\n",
              "    </tr>\n",
              "    <tr>\n",
              "      <th>110</th>\n",
              "      <td>2</td>\n",
              "      <td>4</td>\n",
              "      <td>2</td>\n",
              "      <td>4</td>\n",
              "      <td>3</td>\n",
              "      <td>0</td>\n",
              "      <td>1</td>\n",
              "      <td>4</td>\n",
              "      <td>2</td>\n",
              "      <td>2</td>\n",
              "      <td>2</td>\n",
              "    </tr>\n",
              "  </tbody>\n",
              "</table>\n",
              "<p>111 rows × 11 columns</p>\n",
              "</div>\n",
              "      <button class=\"colab-df-convert\" onclick=\"convertToInteractive('df-7a1dc6a2-b44a-45a5-a502-e4f96f9ee2fe')\"\n",
              "              title=\"Convert this dataframe to an interactive table.\"\n",
              "              style=\"display:none;\">\n",
              "        \n",
              "  <svg xmlns=\"http://www.w3.org/2000/svg\" height=\"24px\"viewBox=\"0 0 24 24\"\n",
              "       width=\"24px\">\n",
              "    <path d=\"M0 0h24v24H0V0z\" fill=\"none\"/>\n",
              "    <path d=\"M18.56 5.44l.94 2.06.94-2.06 2.06-.94-2.06-.94-.94-2.06-.94 2.06-2.06.94zm-11 1L8.5 8.5l.94-2.06 2.06-.94-2.06-.94L8.5 2.5l-.94 2.06-2.06.94zm10 10l.94 2.06.94-2.06 2.06-.94-2.06-.94-.94-2.06-.94 2.06-2.06.94z\"/><path d=\"M17.41 7.96l-1.37-1.37c-.4-.4-.92-.59-1.43-.59-.52 0-1.04.2-1.43.59L10.3 9.45l-7.72 7.72c-.78.78-.78 2.05 0 2.83L4 21.41c.39.39.9.59 1.41.59.51 0 1.02-.2 1.41-.59l7.78-7.78 2.81-2.81c.8-.78.8-2.07 0-2.86zM5.41 20L4 18.59l7.72-7.72 1.47 1.35L5.41 20z\"/>\n",
              "  </svg>\n",
              "      </button>\n",
              "      \n",
              "  <style>\n",
              "    .colab-df-container {\n",
              "      display:flex;\n",
              "      flex-wrap:wrap;\n",
              "      gap: 12px;\n",
              "    }\n",
              "\n",
              "    .colab-df-convert {\n",
              "      background-color: #E8F0FE;\n",
              "      border: none;\n",
              "      border-radius: 50%;\n",
              "      cursor: pointer;\n",
              "      display: none;\n",
              "      fill: #1967D2;\n",
              "      height: 32px;\n",
              "      padding: 0 0 0 0;\n",
              "      width: 32px;\n",
              "    }\n",
              "\n",
              "    .colab-df-convert:hover {\n",
              "      background-color: #E2EBFA;\n",
              "      box-shadow: 0px 1px 2px rgba(60, 64, 67, 0.3), 0px 1px 3px 1px rgba(60, 64, 67, 0.15);\n",
              "      fill: #174EA6;\n",
              "    }\n",
              "\n",
              "    [theme=dark] .colab-df-convert {\n",
              "      background-color: #3B4455;\n",
              "      fill: #D2E3FC;\n",
              "    }\n",
              "\n",
              "    [theme=dark] .colab-df-convert:hover {\n",
              "      background-color: #434B5C;\n",
              "      box-shadow: 0px 1px 3px 1px rgba(0, 0, 0, 0.15);\n",
              "      filter: drop-shadow(0px 1px 2px rgba(0, 0, 0, 0.3));\n",
              "      fill: #FFFFFF;\n",
              "    }\n",
              "  </style>\n",
              "\n",
              "      <script>\n",
              "        const buttonEl =\n",
              "          document.querySelector('#df-7a1dc6a2-b44a-45a5-a502-e4f96f9ee2fe button.colab-df-convert');\n",
              "        buttonEl.style.display =\n",
              "          google.colab.kernel.accessAllowed ? 'block' : 'none';\n",
              "\n",
              "        async function convertToInteractive(key) {\n",
              "          const element = document.querySelector('#df-7a1dc6a2-b44a-45a5-a502-e4f96f9ee2fe');\n",
              "          const dataTable =\n",
              "            await google.colab.kernel.invokeFunction('convertToInteractive',\n",
              "                                                     [key], {});\n",
              "          if (!dataTable) return;\n",
              "\n",
              "          const docLinkHtml = 'Like what you see? Visit the ' +\n",
              "            '<a target=\"_blank\" href=https://colab.research.google.com/notebooks/data_table.ipynb>data table notebook</a>'\n",
              "            + ' to learn more about interactive tables.';\n",
              "          element.innerHTML = '';\n",
              "          dataTable['output_type'] = 'display_data';\n",
              "          await google.colab.output.renderOutput(dataTable, element);\n",
              "          const docLink = document.createElement('div');\n",
              "          docLink.innerHTML = docLinkHtml;\n",
              "          element.appendChild(docLink);\n",
              "        }\n",
              "      </script>\n",
              "    </div>\n",
              "  </div>\n",
              "  "
            ]
          },
          "metadata": {},
          "execution_count": 235
        }
      ]
    },
    {
      "cell_type": "code",
      "source": [
        "ols_data = behavioral_data_encoded\n",
        "ols_data['Order_Per_Month'] = df2['Order_Per_Month']"
      ],
      "metadata": {
        "id": "o-2FWtDmn1z6"
      },
      "execution_count": null,
      "outputs": []
    },
    {
      "cell_type": "code",
      "source": [
        "from statsmodels.formula.api import ols\n",
        "\n",
        "# Define the SEM model\n",
        "model = ols(\"Order_Per_Month ~ New_Tech + Impulsive_Decision + Busy_To_Cook + Dont_Like_To_Cook + Ordering_Easy\t+ Options_To_Choose\t+ Ordering_Inexpensive + Promo_Discounts + Quick_Delivery + Food_Safety + Nutritious\", ols_data).fit()\n",
        "\n",
        "# Print summary of the model\n",
        "print(model.summary())\n",
        "\n"
      ],
      "metadata": {
        "colab": {
          "base_uri": "https://localhost:8080/"
        },
        "id": "2OPezuSJnwDd",
        "outputId": "968ad69e-065e-41e1-e2e4-1d038fbea5b7"
      },
      "execution_count": null,
      "outputs": [
        {
          "output_type": "stream",
          "name": "stdout",
          "text": [
            "                            OLS Regression Results                            \n",
            "==============================================================================\n",
            "Dep. Variable:        Order_Per_Month   R-squared:                       0.092\n",
            "Model:                            OLS   Adj. R-squared:                 -0.009\n",
            "Method:                 Least Squares   F-statistic:                    0.9148\n",
            "Date:                Sat, 14 Jan 2023   Prob (F-statistic):              0.529\n",
            "Time:                        10:11:14   Log-Likelihood:                -326.95\n",
            "No. Observations:                 111   AIC:                             677.9\n",
            "Df Residuals:                      99   BIC:                             710.4\n",
            "Df Model:                          11                                         \n",
            "Covariance Type:            nonrobust                                         \n",
            "========================================================================================\n",
            "                           coef    std err          t      P>|t|      [0.025      0.975]\n",
            "----------------------------------------------------------------------------------------\n",
            "Intercept                5.5694      1.378      4.041      0.000       2.835       8.304\n",
            "New_Tech                 0.0486      0.416      0.117      0.907      -0.777       0.874\n",
            "Impulsive_Decision      -1.0247      0.399     -2.570      0.012      -1.816      -0.234\n",
            "Busy_To_Cook             0.1407      0.408      0.345      0.731      -0.668       0.950\n",
            "Dont_Like_To_Cook       -0.2975      0.377     -0.789      0.432      -1.046       0.451\n",
            "Ordering_Easy           -0.1732      0.408     -0.424      0.672      -0.983       0.637\n",
            "Options_To_Choose        0.0600      0.411      0.146      0.884      -0.755       0.875\n",
            "Ordering_Inexpensive    -0.0327      0.411     -0.080      0.937      -0.847       0.782\n",
            "Promo_Discounts          0.2533      0.371      0.682      0.497      -0.483       0.990\n",
            "Quick_Delivery           0.6154      0.408      1.509      0.135      -0.194       1.425\n",
            "Food_Safety             -0.0173      0.559     -0.031      0.975      -1.127       1.092\n",
            "Nutritious               0.1568      0.387      0.405      0.687      -0.612       0.925\n",
            "==============================================================================\n",
            "Omnibus:                       74.676   Durbin-Watson:                   2.072\n",
            "Prob(Omnibus):                  0.000   Jarque-Bera (JB):              367.047\n",
            "Skew:                           2.352   Prob(JB):                     1.98e-80\n",
            "Kurtosis:                      10.565   Cond. No.                         18.8\n",
            "==============================================================================\n",
            "\n",
            "Notes:\n",
            "[1] Standard Errors assume that the covariance matrix of the errors is correctly specified.\n"
          ]
        }
      ]
    },
    {
      "cell_type": "markdown",
      "source": [
        "## **Hypothesis Testing**"
      ],
      "metadata": {
        "id": "Laiu3b-G8HOk"
      }
    },
    {
      "cell_type": "markdown",
      "source": [
        "**Null Hypothesis:** There is no relationship between trying out new technology and thinking ordering online is easy.<br>\n",
        "**Alternate Hypothesis:** There is a significant relationship between trying out new technology and thinking ordering online is easy.<br><br>\n",
        "As people who try new technologies (e.g. online ordering platforms or mobile apps) can find it easier to place an order."
      ],
      "metadata": {
        "id": "wCEsolih81lf"
      }
    },
    {
      "cell_type": "markdown",
      "source": [
        "**Chi-Squared Test**"
      ],
      "metadata": {
        "id": "fzEp54fCfqOz"
      }
    },
    {
      "cell_type": "code",
      "source": [
        "# Define the significance level\n",
        "alpha = 0.05\n",
        "\n",
        "factor1 = 'New_Tech'\n",
        "factor2 = 'Ordering_Easy'\n",
        "# Create a contingency table\n",
        "ct = pd.crosstab(behavioral_data_encoded[factor1], behavioral_data_encoded[factor2])\n",
        "\n",
        "# Perform the chi-square test\n",
        "chi2, p, dof, expected = chi2_contingency(ct)\n",
        "\n",
        "\n",
        "# Print the results\n",
        "if p < alpha:\n",
        "  print(f'{factor1} has significant relationship with Ordering_Easy (p = {p:.6f})\\n')\n",
        "else:\n",
        "  print(f'{factor1} has no relationship with Ordering_Easy (p = {p:.6f})')"
      ],
      "metadata": {
        "colab": {
          "base_uri": "https://localhost:8080/"
        },
        "id": "bgjvAJlw8J02",
        "outputId": "6f4e67ec-352f-4ee4-e5bb-65c85a8af377"
      },
      "execution_count": null,
      "outputs": [
        {
          "output_type": "stream",
          "name": "stdout",
          "text": [
            "New_Tech has significant relationship with Ordering_Easy (p = 0.000020)\n",
            "\n"
          ]
        }
      ]
    },
    {
      "cell_type": "markdown",
      "source": [
        "**Spearman's rank correlation coefficient**"
      ],
      "metadata": {
        "id": "Yaf3K4j1fn1Y"
      }
    },
    {
      "cell_type": "code",
      "source": [
        "# Define the significance level\n",
        "alpha = 0.05\n",
        "\n",
        "factor = 'New_Tech'\n",
        "factor2 = 'Ordering_Easy'\n",
        "\n",
        "# Calculate spearman rank correlation\n",
        "corr, pvalue = spearmanr(behavioral_data_encoded[factor], behavioral_data_encoded[factor2])\n",
        "\n",
        "print(\"Spearman rank correlation between New_Tech and Ordering_Easy:\")\n",
        "print(\"correlation coefficient: \", corr)\n",
        "print(\"p-value: \", pvalue)\n",
        "\n",
        "# Print the results\n",
        "if pvalue < alpha:\n",
        "  print(f'{factor} has significant relationship with Ordering_Easy (p = {pvalue:.6f})\\n')\n",
        "else:\n",
        "  print(f'{factor} has no relationship with Ordering_Easy (p = {pvalue:.6f})')"
      ],
      "metadata": {
        "colab": {
          "base_uri": "https://localhost:8080/"
        },
        "id": "Ar85tDhJfAau",
        "outputId": "57a83b1e-9925-4b52-83b5-819cb150cfaf"
      },
      "execution_count": null,
      "outputs": [
        {
          "output_type": "stream",
          "name": "stdout",
          "text": [
            "Spearman rank correlation between New_Tech and Ordering_Easy:\n",
            "correlation coefficient:  0.10368474056996041\n",
            "p-value:  0.2788339357362308\n",
            "New_Tech has no relationship with Ordering_Easy (p = 0.278834)\n"
          ]
        }
      ]
    },
    {
      "cell_type": "markdown",
      "source": [
        "**Null Hypothesis:** There is no relationship between making impulsive decision when ordering food and being too busy to cook.<br>\n",
        "**Alternate Hypothesis:** There is a significant relationship between making impulsive decision when ordering food and being too busy to cook.<br><br>\n",
        "As individuals who are busy may be more likely to make impulsive decisions to order food rather than cook at home"
      ],
      "metadata": {
        "id": "7p05sdAD-lYG"
      }
    },
    {
      "cell_type": "markdown",
      "source": [
        "**Chi-Squared Test**"
      ],
      "metadata": {
        "id": "BbZNO6MCelHi"
      }
    },
    {
      "cell_type": "code",
      "source": [
        "# Define the significance level\n",
        "alpha = 0.05\n",
        "\n",
        "factor = 'Busy_To_Cook'\n",
        "factor2 = 'Impulsive_Decision'\n",
        "# Create a contingency table\n",
        "ct = pd.crosstab(behavioral_data_encoded[factor], behavioral_data_encoded[factor2])\n",
        "\n",
        "# Perform the chi-square test\n",
        "chi2, p, dof, expected = chi2_contingency(ct)\n",
        "\n",
        "# Print the results\n",
        "if p < alpha:\n",
        "  print(f'{factor} has significant relationship with Impulsive_Decision (p = {p:.6f})\\n')\n",
        "else:\n",
        "  print(f'{factor} has no relationship with Impulsive_Decision (p = {p:.6f})')"
      ],
      "metadata": {
        "colab": {
          "base_uri": "https://localhost:8080/"
        },
        "id": "HoCMgzKN-ZB8",
        "outputId": "88173409-f337-4f70-fe99-d25287de86e1"
      },
      "execution_count": null,
      "outputs": [
        {
          "output_type": "stream",
          "name": "stdout",
          "text": [
            "Busy_To_Cook has no relationship with Impulsive_Decision (p = 0.114328)\n"
          ]
        }
      ]
    },
    {
      "cell_type": "markdown",
      "source": [
        "**Spearman's rank correlation coefficient**"
      ],
      "metadata": {
        "id": "S1KlfkIVenSV"
      }
    },
    {
      "cell_type": "code",
      "source": [
        "# Define the significance level\n",
        "alpha = 0.05\n",
        "\n",
        "factor = 'Busy_To_Cook'\n",
        "factor2 = 'Impulsive_Decision'\n",
        "\n",
        "# Calculate spearman rank correlation\n",
        "corr, pvalue = spearmanr(behavioral_data_encoded[factor], behavioral_data_encoded[factor2])\n",
        "\n",
        "print(\"Spearman rank correlation between Busy_To_Cook and Impulsive_Decision:\")\n",
        "print(\"correlation coefficient: \", corr)\n",
        "print(\"p-value: \", pvalue)\n",
        "\n",
        "# Print the results\n",
        "if pvalue < alpha:\n",
        "  print(f'{factor} has significant relationship with Impulsive_Decision (p = {pvalue:.6f})\\n')\n",
        "else:\n",
        "  print(f'{factor} has no relationship with Impulsive_Decision (p = {pvalue:.6f})')"
      ],
      "metadata": {
        "colab": {
          "base_uri": "https://localhost:8080/"
        },
        "id": "BdGnAAGOebg3",
        "outputId": "746319be-475c-4e43-c88a-f4f462eb0357"
      },
      "execution_count": null,
      "outputs": [
        {
          "output_type": "stream",
          "name": "stdout",
          "text": [
            "Spearman rank correlation between Busy_To_Cook and Impulsive_Decision:\n",
            "correlation coefficient:  0.010932354539183897\n",
            "p-value:  0.9093336662017517\n",
            "Busy_To_Cook has no relationship with Impulsive_Decision (p = 0.909334)\n"
          ]
        }
      ]
    },
    {
      "cell_type": "markdown",
      "source": [
        "**Null Hypothesis:** There is no relationship between people not liking to cook and finding there are many options to choose when ordering online.<br>\n",
        "**Alternate Hypothesis:** There is a significant relationship between people not liking to cook and finding there are many options to choose when ordering online.<br><br>\n",
        "As individuals who dislike cooking may be more likely to appreciate a wide variety of food options when ordering from a delivery service."
      ],
      "metadata": {
        "id": "9yU4-VYz-5Rn"
      }
    },
    {
      "cell_type": "markdown",
      "source": [
        "**Chi-Squared Test**"
      ],
      "metadata": {
        "id": "uP26rcXCeU0n"
      }
    },
    {
      "cell_type": "code",
      "source": [
        "# Define the significance level\n",
        "alpha = 0.05\n",
        "\n",
        "factor = 'Options_To_Choose'\n",
        "factor2 = 'Dont_Like_To_Cook'\n",
        "# Create a contingency table\n",
        "ct = pd.crosstab(behavioral_data_encoded[factor], behavioral_data_encoded[factor2])\n",
        "\n",
        "# Perform the chi-square test\n",
        "chi2, p, dof, expected = chi2_contingency(ct)\n",
        "\n",
        "# Print the results\n",
        "if p < alpha:\n",
        "  print(f'{factor} has significant relationship with Dont_Like_To_Cook (p = {p:.6f})\\n')\n",
        "else:\n",
        "  print(f'{factor} has no relationship with Dont_Like_To_Cook (p = {p:.6f})')"
      ],
      "metadata": {
        "colab": {
          "base_uri": "https://localhost:8080/"
        },
        "id": "g-AnFj9v-57Z",
        "outputId": "40dd61c5-fc49-4f95-f9ae-27830096495a"
      },
      "execution_count": null,
      "outputs": [
        {
          "output_type": "stream",
          "name": "stdout",
          "text": [
            "Options_To_Choose has significant relationship with Dont_Like_To_Cook (p = 0.000170)\n",
            "\n"
          ]
        }
      ]
    },
    {
      "cell_type": "markdown",
      "source": [
        "**Spearman's rank correlation coefficient**"
      ],
      "metadata": {
        "id": "wuhLdZ9SePE7"
      }
    },
    {
      "cell_type": "code",
      "source": [
        "# Define the significance level\n",
        "alpha = 0.05\n",
        "\n",
        "factor = 'Options_To_Choose'\n",
        "factor2 = 'Dont_Like_To_Cook'\n",
        "\n",
        "# Calculate spearman rank correlation\n",
        "corr, pvalue = spearmanr(behavioral_data_encoded[factor], behavioral_data_encoded[factor2])\n",
        "\n",
        "print(\"Spearman rank correlation between Options_To_Choose and Dont_Like_To_Cook:\")\n",
        "print(\"correlation coefficient: \", corr)\n",
        "print(\"p-value: \", pvalue)\n",
        "\n",
        "# Print the results\n",
        "if pvalue < alpha:\n",
        "  print(f'{factor} has significant relationship with Dont_Like_To_Cook (p = {pvalue:.6f})\\n')\n",
        "else:\n",
        "  print(f'{factor} has no relationship with Dont_Like_To_Cook (p = {pvalue:.6f})')"
      ],
      "metadata": {
        "colab": {
          "base_uri": "https://localhost:8080/"
        },
        "id": "hbFF2b8hd2pZ",
        "outputId": "33799af6-3bad-4113-f558-ecd7c499fe06"
      },
      "execution_count": null,
      "outputs": [
        {
          "output_type": "stream",
          "name": "stdout",
          "text": [
            "Spearman rank correlation between Options_To_Choose and Dont_Like_To_Cook:\n",
            "correlation coefficient:  0.2149631969496416\n",
            "p-value:  0.023469984260402227\n",
            "Options_To_Choose has significant relationship with Dont_Like_To_Cook (p = 0.023470)\n",
            "\n"
          ]
        }
      ]
    },
    {
      "cell_type": "markdown",
      "source": [
        "**Null Hypothesis:** There is no relationship between thinking ordering is inexpensive and ordering because of promo codes and discounts.<br>\n",
        "**Alternate Hypothesis:** There is a significant relationship between thinking ordering is inexpensive and ordering because of promo codes and discounts.<br><br>\n",
        "As promo discounts can make ordering food more inexpensive."
      ],
      "metadata": {
        "id": "DKCfhSid__lN"
      }
    },
    {
      "cell_type": "markdown",
      "source": [
        "**Chi-Squared Test**"
      ],
      "metadata": {
        "id": "uf3K0BLxdtKH"
      }
    },
    {
      "cell_type": "code",
      "source": [
        "# Define the significance level\n",
        "alpha = 0.05\n",
        "\n",
        "factor = 'Ordering_Inexpensive'\n",
        "factor2 = 'Promo_Discounts'\n",
        "# Create a contingency table\n",
        "ct = pd.crosstab(behavioral_data_encoded[factor], behavioral_data_encoded[factor2])\n",
        "\n",
        "# Perform the chi-square test\n",
        "chi2, p, dof, expected = chi2_contingency(ct)\n",
        "\n",
        "# Print the results\n",
        "if p < alpha:\n",
        "  print(f'{factor} has significant relationship with Promo_Discounts (p = {p:.6f})\\n')\n",
        "else:\n",
        "  print(f'{factor} has no relationship with Promo_Discounts (p = {p:.6f})')"
      ],
      "metadata": {
        "colab": {
          "base_uri": "https://localhost:8080/"
        },
        "id": "BM9atiMmAW8j",
        "outputId": "00e11742-a571-44be-a280-a117f3ad439a"
      },
      "execution_count": null,
      "outputs": [
        {
          "output_type": "stream",
          "name": "stdout",
          "text": [
            "Ordering_Inexpensive has significant relationship with Promo_Discounts (p = 0.000037)\n",
            "\n"
          ]
        }
      ]
    },
    {
      "cell_type": "markdown",
      "source": [
        "**Spearman's rank correlation coefficient**"
      ],
      "metadata": {
        "id": "EFOytitKdvmZ"
      }
    },
    {
      "cell_type": "code",
      "source": [
        "# Define the significance level\n",
        "alpha = 0.05\n",
        "\n",
        "factor = 'Ordering_Inexpensive'\n",
        "factor2 = 'Promo_Discounts'\n",
        "\n",
        "# Calculate spearman rank correlation\n",
        "corr, pvalue = spearmanr(behavioral_data_encoded[factor], behavioral_data_encoded[factor2])\n",
        "\n",
        "print(\"Spearman rank correlation between Ordering_Inexpensive and Promo_Discounts:\")\n",
        "print(\"correlation coefficient: \", corr)\n",
        "print(\"p-value: \", pvalue)\n",
        "\n",
        "# Print the results\n",
        "if pvalue < alpha:\n",
        "  print(f'{factor} has significant relationship with Promo_Discounts (p = {pvalue:.6f})\\n')\n",
        "else:\n",
        "  print(f'{factor} has no relationship with Promo_Discounts (p = {pvalue:.6f})')"
      ],
      "metadata": {
        "colab": {
          "base_uri": "https://localhost:8080/"
        },
        "id": "S1nO8xNOcUvL",
        "outputId": "f7e0d32a-41c6-4b1c-b6d8-d398b732cfe2"
      },
      "execution_count": null,
      "outputs": [
        {
          "output_type": "stream",
          "name": "stdout",
          "text": [
            "Spearman rank correlation between Ordering_Inexpensive and Promo_Discounts:\n",
            "correlation coefficient:  0.2582013504715333\n",
            "p-value:  0.006217527602788854\n",
            "Ordering_Inexpensive has significant relationship with Promo_Discounts (p = 0.006218)\n",
            "\n"
          ]
        }
      ]
    }
  ]
}
