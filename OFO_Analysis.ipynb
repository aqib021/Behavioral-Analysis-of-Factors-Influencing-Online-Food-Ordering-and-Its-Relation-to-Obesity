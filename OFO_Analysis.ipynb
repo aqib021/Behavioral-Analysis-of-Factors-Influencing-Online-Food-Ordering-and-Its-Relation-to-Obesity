{
  "nbformat": 4,
  "nbformat_minor": 0,
  "metadata": {
    "colab": {
      "provenance": []
    },
    "kernelspec": {
      "name": "python3",
      "display_name": "Python 3"
    },
    "language_info": {
      "name": "python"
    }
  },
  "cells": [
    {
      "cell_type": "markdown",
      "source": [
        "## **Importing Dataset & Libraries**\n"
      ],
      "metadata": {
        "id": "kF6kCy50Ui9Q"
      }
    },
    {
      "cell_type": "code",
      "execution_count": null,
      "metadata": {
        "id": "MkARLADmTDuD"
      },
    {
      "cell_type": "markdown",
      "source": [
        "## **Data Preprocessing**"
      ],
      "metadata": {
        "id": "M5sqSt40Uhpz"
      }
    },
      "metadata": {
        "colab": {
          "base_uri": "https://localhost:8080/"
        },
        "id": "g0WNULQ0UXRi",
        "outputId": "ae784b27-4d88-4a57-97cb-2de67f8876fb"
      },
      "execution_count": null,
      "outputs": [
        {
          "output_type": "stream",
          "name": "stderr",
          "text": [
            "<ipython-input-209-7d32d71079b8>:41: SettingWithCopyWarning: \n",
            "A value is trying to be set on a copy of a slice from a DataFrame\n",
            "\n",
            "See the caveats in the documentation: https://pandas.pydata.org/pandas-docs/stable/user_guide/indexing.html#returning-a-view-versus-a-copy\n",
            "  df2['BMI_CAT'][i] = \"Obese\"\n",
            "/usr/local/lib/python3.8/dist-packages/pandas/core/indexing.py:1732: SettingWithCopyWarning: \n",
            "A value is trying to be set on a copy of a slice from a DataFrame\n",
            "\n",
            "See the caveats in the documentation: https://pandas.pydata.org/pandas-docs/stable/user_guide/indexing.html#returning-a-view-versus-a-copy\n",
            "  self._setitem_single_block(indexer, value, name)\n"
          ]
        }
      ]
    },
    {
      "cell_type": "code",
      "source": [
        "# Extracting behavioral features\n",
        "behavioral_data = df2[['New_Tech', 'Impulsive_Decision', 'Busy_To_Cook', 'Dont_Like_To_Cook', \n",
        "                       'Ordering_Easy', 'Options_To_Choose', 'Ordering_Inexpensive', \n",
        "                       'Promo_Discounts', 'Quick_Delivery', 'Food_Safety', 'Nutritious']].copy()\n",
        "behavioral_data"
      ],
      "metadata": {
        "colab": {
          "base_uri": "https://localhost:8080/",
          "height": 424
        },
        "id": "cEl-kUkQm3e7",
        "outputId": "dac63210-0e9b-40d2-89fe-a6c3163e4947"
      },
      "execution_count": null,
      "outputs": [
        {
          "output_type": "execute_result",
          "data": {
            "text/plain": [
              "           New_Tech Impulsive_Decision    Busy_To_Cook  Dont_Like_To_Cook  \\\n",
              "0             Agree     Strongly Agree        Disagree           Disagree   \n",
              "1    Strongly Agree            Neutral         Neutral           Disagree   \n",
              "2           Neutral            Neutral        Disagree           Disagree   \n",
              "3           Neutral              Agree         Neutral            Neutral   \n",
              "4             Agree              Agree         Neutral           Disagree   \n",
              "..              ...                ...             ...                ...   \n",
              "106  Strongly Agree     Strongly Agree        Disagree     Strongly Agree   \n",
              "107           Agree              Agree         Neutral            Neutral   \n",
              "108         Neutral            Neutral        Disagree           Disagree   \n",
              "109  Strongly Agree              Agree  Strongly Agree     Strongly Agree   \n",
              "110         Neutral  Strongly Disagree         Neutral  Strongly Disagree   \n",
              "\n",
              "    .dataframe thead th {\n",
              "        text-align: right;\n",
              "    }\n",
              "</style>\n",
              "<table border=\"1\" class=\"dataframe\">\n",
              "  <thead>\n",
              "    <tr style=\"text-align: right;\">\n",
              "      <th></th>\n",
              "      <th>New_Tech</th>\n",
              "      <th>Impulsive_Decision</th>\n",
              "      <th>Busy_To_Cook</th>\n",
              "      <th>Dont_Like_To_Cook</th>\n",
              "      <th>Ordering_Easy</th>\n",
              "      <th>Options_To_Choose</th>\n",
              "      <th>Ordering_Inexpensive</th>\n",
              "      <th>Promo_Discounts</th>\n",
              "      <th>Quick_Delivery</th>\n",
              "      <th>Food_Safety</th>\n",
              "      <th>Nutritious</th>\n",
              "    </tr>\n",
              "  </thead>\n",
              "  <tbody>\n",
              "    <tr>\n",
              "      <th>0</th>\n",
              "      <td>Agree</td>\n",
              "      <td>Strongly Agree</td>\n",
              "      <td>Disagree</td>\n",
              "      <td>Disagree</td>\n",
              "      <td>Strongly Agree</td>\n",
              "      <td>Agree</td>\n",
              "      <td>Neutral</td>\n",
              "      <td>Strongly Agree</td>\n",
              "      <td>Neutral</td>\n",
              "      <td>Disagree</td>\n",
              "      <td>Strongly Disagree</td>\n",
              "    </tr>\n",
              "    <tr>\n",
              "      <th>1</th>\n",
              "      <td>Strongly Agree</td>\n",
              "      <td>Neutral</td>\n",
              "      <td>Neutral</td>\n",
              "      <td>Disagree</td>\n",
              "      <td>Agree</td>\n",
              "      <td>Strongly Agree</td>\n",
              "      <td>Disagree</td>\n",
              "      <td>Agree</td>\n",
              "      <td>Disagree</td>\n",
              "      <td>Neutral</td>\n",
              "      <td>Neutral</td>\n",
              "    </tr>\n",
              "    <tr>\n",
              "      <th>2</th>\n",
              "      <td>Neutral</td>\n",
              "      <td>Neutral</td>\n",
              "      <td>Disagree</td>\n",
              "      <td>Disagree</td>\n",
              "      <td>Strongly Agree</td>\n",
              "      <td>Strongly Agree</td>\n",
              "      <td>Strongly Agree</td>\n",
              "      <td>Strongly Agree</td>\n",
              "      <td>Agree</td>\n",
              "      <td>Neutral</td>\n",
              "      <td>Neutral</td>\n",
              "    </tr>\n",
              "    <tr>\n",
              "      <th>3</th>\n",
              "      <td>Neutral</td>\n",
              "      <td>Agree</td>\n",
              "      <td>Neutral</td>\n",
              "      <td>Neutral</td>\n",
              "      <td>Agree</td>\n",
              "      <td>Agree</td>\n",
              "      <td>Agree</td>\n",
              "      <td>Strongly Agree</td>\n",
              "      <td>Agree</td>\n",
              "      <td>Neutral</td>\n",
              "      <td>Neutral</td>\n",
              "    </tr>\n",
              "    <tr>\n",
              "      <th>4</th>\n",
              "      <td>Agree</td>\n",
              "      <td>Agree</td>\n",
              "      <td>Neutral</td>\n",
              "      <td>Disagree</td>\n",
              "      <td>Strongly Agree</td>\n",
              "      <td>Strongly Agree</td>\n",
              "      <td>Strongly Agree</td>\n",
              "      <td>Strongly Agree</td>\n",
              "      <td>Neutral</td>\n",
              "      <td>Agree</td>\n",
              "      <td>Neutral</td>\n",
              "    </tr>\n",
              "    <tr>\n",
              "      <th>...</th>\n",
              "      <td>...</td>\n",
              "      <td>...</td>\n",
              "      <td>...</td>\n",
              "      <td>...</td>\n",
              "      <td>...</td>\n",
              "      <td>...</td>\n",
              "      <td>...</td>\n",
              "      <td>...</td>\n",
              "      <td>...</td>\n",
              "      <td>...</td>\n",
              "      <td>...</td>\n",
              "    </tr>\n",
              "    <tr>\n",
              "      <th>106</th>\n",
              "\n",
              "    [theme=dark] .colab-df-convert {\n",
              "      background-color: #3B4455;\n",
              "      fill: #D2E3FC;\n",
              "    }\n",
              "\n",
              "    [theme=dark] .colab-df-convert:hover {\n",
              "      background-color: #434B5C;\n",
              "      box-shadow: 0px 1px 3px 1px rgba(0, 0, 0, 0.15);\n",
              "      filter: drop-shadow(0px 1px 2px rgba(0, 0, 0, 0.3));\n",
              "      fill: #FFFFFF;\n",
              "    }\n",
              "  </style>\n",
              "\n",
              "      <script>\n",
              "        const buttonEl =\n",
              "          document.querySelector('#df-2ff21e73-ae1e-4d35-9938-bb1ecacdb231 button.colab-df-convert');\n",
              "        buttonEl.style.display =\n",
              "          google.colab.kernel.accessAllowed ? 'block' : 'none';\n",
              "\n",
              "        async function convertToInteractive(key) {\n",
              "          const element = document.querySelector('#df-2ff21e73-ae1e-4d35-9938-bb1ecacdb231');\n",
              "          const dataTable =\n",
              "            await google.colab.kernel.invokeFunction('convertToInteractive',\n",
              "                                                     [key], {});\n",
              "          if (!dataTable) return;\n",
              "\n",
              "          const docLinkHtml = 'Like what you see? Visit the ' +\n",
              "            '<a target=\"_blank\" href=https://colab.research.google.com/notebooks/data_table.ipynb>data table notebook</a>'\n",
              "            + ' to learn more about interactive tables.';\n",
              "          element.innerHTML = '';\n",
              "          dataTable['output_type'] = 'display_data';\n",
              "          await google.colab.output.renderOutput(dataTable, element);\n",
              "          const docLink = document.createElement('div');\n",
              "          docLink.innerHTML = docLinkHtml;\n",
              "          element.appendChild(docLink);\n",
              "        }\n",
              "      </script>\n",
              "    </div>\n",
              "  </div>\n",
              "  "
            ]
          },
          "metadata": {},
          "execution_count": 210
        }
      ]
    },
    {
      "cell_type": "code",
      "source": [
        "# label_encoder object knows how to understand word labels.\n",
        "label_encoder = preprocessing.LabelEncoder()\n",
        "\n",
        "behavioral_data_encoded = behavioral_data\n",
        "column_names = list(behavioral_data.columns.values)\n",
        "\n",
        "# Encode labels\n",
        "for i in range(len(column_names)):\n",
        "  behavioral_data_encoded[column_names[i]] = label_encoder.fit_transform(behavioral_data_encoded[column_names[i]])\n",
        "\n",
        "behavioral_data_encoded"
      ],
      "metadata": {
        "colab": {
          "base_uri": "https://localhost:8080/",
          "height": 424
        },
        "id": "I6IuR84umwQi",
        "outputId": "83bc56f9-8c0c-405e-efe5-b6489e6c26b3"
      },
      "execution_count": null,
      "outputs": [
        {
          "output_type": "execute_result",
          "data": {
            "text/plain": [
              "     New_Tech  Impulsive_Decision  Busy_To_Cook  Dont_Like_To_Cook  \\\n",
              "0           0                   3             1                  1   \n",
              "1           3                   2             2                  1   \n",
              "2           2                   2             1                  1   \n",
              "3           2                   0             2                  2   \n",
              "4           0                   0             2                  1   \n",
              "..        ...                 ...           ...                ...   \n",
              "106         3                   3             1                  3   \n",
              "107         0                   0             2                  2   \n",
              "108         2                   2             1                  1   \n",
              "109         3                   0             3                  3   \n",
              "110         2                   4             2                  4   \n",
              "\n",
              "     Ordering_Easy  Options_To_Choose  Ordering_Inexpensive  Promo_Discounts  \\\n",
              "0                3                  0                     2                3   \n",
              "1                0                  3                     1                0   \n",
              "2                3                  3                     3                3   \n",
              "3                0                  0                     0                3   \n",
              "4                3                  3                     3                3   \n",
              "..             ...                ...                   ...              ...   \n",
              "106              3                  3                     2                0   \n",
              "107              3                  0                     0                0   \n",
              "108              2                  2                     1                2   \n",
              "109              3                  3                     4                4   \n",
              "110              3                  0                     1                4   \n",
              "\n",
              "      <th>1</th>\n",
              "      <td>3</td>\n",
              "      <td>2</td>\n",
              "      <td>2</td>\n",
              "      <td>1</td>\n",
              "      <td>0</td>\n",
              "      <td>3</td>\n",
              "      <td>1</td>\n",
              "      <td>0</td>\n",
              "      <td>1</td>\n",
              "      <td>2</td>\n",
              "      <td>2</td>\n",
              "    </tr>\n",
              "    <tr>\n",
              "      <th>2</th>\n",
              "      <td>2</td>\n",
              "      <td>2</td>\n",
              "      <td>1</td>\n",
              "      <td>1</td>\n",
              "      <td>3</td>\n",
              "      <td>3</td>\n",
              "      <td>3</td>\n",
              "      <td>3</td>\n",
              "      <td>0</td>\n",
              "      <td>2</td>\n",
              "      <td>2</td>\n",
              "    </tr>\n",
              "    <tr>\n",
              "      <th>3</th>\n",
              "      <td>2</td>\n",
              "      <td>0</td>\n",
              "      <td>2</td>\n",
              "      <td>2</td>\n",
              "      <td>0</td>\n",
              "      <td>0</td>\n",
              "      <td>0</td>\n",
              "      <td>3</td>\n",
              "      <td>0</td>\n",
              "      <td>2</td>\n",
              "      <td>2</td>\n",
              "    </tr>\n",
              "    <tr>\n",
              "      <th>4</th>\n",
              "      <td>0</td>\n",
              "      <td>0</td>\n",
              "      <td>2</td>\n",
              "      <td>1</td>\n",
              "      <td>3</td>\n",
              "      <td>3</td>\n",
              "      <td>3</td>\n",
              "      <td>3</td>\n",
              "      <td>2</td>\n",
              "      <td>0</td>\n",
              "      <td>2</td>\n",
              "    </tr>\n",
              "    </tr>\n",
              "    <tr>\n",
              "      <th>106</th>\n",
              "      <td>3</td>\n",
              "      <td>3</td>\n",
              "      <td>1</td>\n",
              "      <td>3</td>\n",
              "      <td>3</td>\n",
              "      <td>3</td>\n",
              "      <td>2</td>\n",
              "      <td>0</td>\n",
              "      <td>2</td>\n",
              "      <td>1</td>\n",
              "      <td>0</td>\n",
              "    </tr>\n",
              "    <tr>\n",
              "      <th>107</th>\n",
              "      <td>0</td>\n",
              "      <td>0</td>\n",
              "      <td>2</td>\n",
              "      <td>2</td>\n",
              "      <td>3</td>\n",
              "      <td>0</td>\n",
              "      <td>0</td>\n",
              "      <td>0</td>\n",
              "      <td>0</td>\n",
              "      <td>0</td>\n",
              "      <td>0</td>\n",
              "    </tr>\n",
              "    <tr>\n",
              "      <th>108</th>\n",
              "      <td>2</td>\n",
              "      <td>2</td>\n",
              "      <td>1</td>\n",
              "      <td>1</td>\n",
              "      <td>2</td>\n",
              "      <td>2</td>\n",
              "      <td>1</td>\n",
              "      <td>2</td>\n",
              "      <td>2</td>\n",
              "      <td>1</td>\n",
              "      <td>1</td>\n",
              "    </tr>\n",
              "    <tr>\n",
              "      <th>109</th>\n",
              "      <td>3</td>\n",
              "      <td>0</td>\n",
              "      <td>3</td>\n",
              "      <td>3</td>\n",
              "      <td>3</td>\n",
              "      <td>3</td>\n",
              "      <td>4</td>\n",
              "      <td>4</td>\n",
              "      <td>2</td>\n",
              "      <td>2</td>\n",
              "      <td>0</td>\n",
              "    </tr>\n",
              "  </tbody>\n",
              "</table>\n",
              "<p>111 rows × 11 columns</p>\n",
              "</div>\n",
              "      <button class=\"colab-df-convert\" onclick=\"convertToInteractive('df-4a1adb6b-f87d-4f4b-80f4-c1f4ad2ffdd7')\"\n",
              "              title=\"Convert this dataframe to an interactive table.\"\n",
              "              style=\"display:none;\">\n",
              "        \n",
              "  <svg xmlns=\"http://www.w3.org/2000/svg\" height=\"24px\"viewBox=\"0 0 24 24\"\n",
              "       width=\"24px\">\n",
              "    <path d=\"M0 0h24v24H0V0z\" fill=\"none\"/>\n",
              "    <path d=\"M18.56 5.44l.94 2.06.94-2.06 2.06-.94-2.06-.94-.94-2.06-.94 2.06-2.06.94zm-11 1L8.5 8.5l.94-2.06 2.06-.94-2.06-.94L8.5 2.5l-.94 2.06-2.06.94zm10 10l.94 2.06.94-2.06 2.06-.94-2.06-.94-.94-2.06-.94 2.06-2.06.94z\"/><path d=\"M17.41 7.96l-1.37-1.37c-.4-.4-.92-.59-1.43-.59-.52 0-1.04.2-1.43.59L10.3 9.45l-7.72 7.72c-.78.78-.78 2.05 0 2.83L4 21.41c.39.39.9.59 1.41.59.51 0 1.02-.2 1.41-.59l7.78-7.78 2.81-2.81c.8-.78.8-2.07 0-2.86zM5.41 20L4 18.59l7.72-7.72 1.47 1.35L5.41 20z\"/>\n",
              "  </svg>\n",
              "      </button>\n",
              "      \n",
              "  <style>\n",
              "    .colab-df-container {\n",
              "      display:flex;\n",
              "      flex-wrap:wrap;\n",
              "      gap: 12px;\n",
              "    }\n",
              "\n",
              "    .colab-df-convert {\n",
              "      background-color: #E8F0FE;\n",
              "      border: none;\n",
              "      border-radius: 50%;\n",
              "      cursor: pointer;\n",
              "      display: none;\n",
              "      fill: #1967D2;\n",
              "      height: 32px;\n",
              "      padding: 0 0 0 0;\n",
              "      width: 32px;\n",
              "    }\n",
              "\n",
              "    .colab-df-convert:hover {\n",
              "      background-color: #E2EBFA;\n",
              "      box-shadow: 0px 1px 2px rgba(60, 64, 67, 0.3), 0px 1px 3px 1px rgba(60, 64, 67, 0.15);\n",
              "      fill: #174EA6;\n",
              "    }\n",
              "\n",
              "    [theme=dark] .colab-df-convert {\n",
              "      background-color: #3B4455;\n",
              "      fill: #D2E3FC;\n",
              "    }\n",
              "\n",
              "    [theme=dark] .colab-df-convert:hover {\n",
              "      background-color: #434B5C;\n",
              "      box-shadow: 0px 1px 3px 1px rgba(0, 0, 0, 0.15);\n",
              "      filter: drop-shadow(0px 1px 2px rgba(0, 0, 0, 0.3));\n",
              "      fill: #FFFFFF;\n",
              "    }\n",
              "  </style>\n",
              "\n",
              "      <script>\n",
              "        const buttonEl =\n",
              "          document.querySelector('#df-4a1adb6b-f87d-4f4b-80f4-c1f4ad2ffdd7 button.colab-df-convert');\n",
              "        buttonEl.style.display =\n",
              "          google.colab.kernel.accessAllowed ? 'block' : 'none';\n",
              "\n",
              "        async function convertToInteractive(key) {\n",
              "          const element = document.querySelector('#df-4a1adb6b-f87d-4f4b-80f4-c1f4ad2ffdd7');\n",
              "          const dataTable =\n",
              "            await google.colab.kernel.invokeFunction('convertToInteractive',\n",
              "                                                     [key], {});\n",
              "          if (!dataTable) return;\n",
              "\n",
              "          const docLinkHtml = 'Like what you see? Visit the ' +\n",
              "            '<a target=\"_blank\" href=https://colab.research.google.com/notebooks/data_table.ipynb>data table notebook</a>'\n",
              "            + ' to learn more about interactive tables.';\n",
              "          element.innerHTML = '';\n",
              "          dataTable['output_type'] = 'display_data';\n",
              "          await google.colab.output.renderOutput(dataTable, element);\n",
              "          const docLink = document.createElement('div');\n",
              "          docLink.innerHTML = docLinkHtml;\n",
              "          element.appendChild(docLink);\n",
              "        }\n",
              "      </script>\n",
              "    </div>\n",
              "  </div>\n",
              "  "
            ]
          },
          "metadata": {},
          "execution_count": 211
        }
      ]
    },
              "\n",
              "    .dataframe tbody tr th {\n",
              "        vertical-align: top;\n",
              "    }\n",
              "\n",
              "    .dataframe thead th {\n",
              "        text-align: right;\n",
              "    }\n",
              "</style>\n",
              "<table border=\"1\" class=\"dataframe\">\n",
              "  <thead>\n",
              "    <tr style=\"text-align: right;\">\n",
              "      <th></th>\n",
              "      <th>Gender</th>\n",
              "      <th>Age</th>\n",
              "      <th>Weight</th>\n",
              "      <th>Height</th>\n",
              "      <th>BMI</th>\n",
              "      <th>BMI_CAT</th>\n",
              "      <th>Education</th>\n",
              "      <th>Employment_Status</th>\n",
              "      <th>Financial_Dependency</th>\n",
              "      <th>Marital_Status</th>\n",
              "      <th>Physical_Activity</th>\n",
              "      <th>Ordering_History</th>\n",
              "      <th>Order_Per_Month</th>\n",
              "      <th>Ordering_Time</th>\n",
              "      <th>Food_Types</th>\n",
              "      <th>New_Tech</th>\n",
              "      <th>Impulsive_Decision</th>\n",
              "      <th>Busy_To_Cook</th>\n",
              "      <th>Dont_Like_To_Cook</th>\n",
              "      <th>Ordering_Easy</th>\n",
              "      <th>Options_To_Choose</th>\n",
              "      <th>Ordering_Inexpensive</th>\n",
              "      <th>Promo_Discounts</th>\n",
              "      <th>Quick_Delivery</th>\n",
              "      <th>Food_Safety</th>\n",
              "      <th>Nutritious</th>\n",
              "      <th>OFO_APPS</th>\n",
              "    </tr>\n",
              "  </thead>\n",
              "  <tbody>\n",
              "    <tr>\n",
              "      <th>0</th>\n",
              "      <td>Female</td>\n",
              "      <td>16-30</td>\n",
              "      <td>80.0</td>\n",
              "      <td>1.6256</td>\n",
              "      <td>30.273498</td>\n",
              "      <td>Obese</td>\n",
              "      <td>Undergraduate</td>\n",
              "      <td>Prefer not to say</td>\n",
              "      <td>Partially dependent</td>\n",
              "      <td>Single</td>\n",
              "      <td>3</td>\n",
              "      <td>Less than 3 months</td>\n",
              "      <td>4</td>\n",
              "      <td>Evening Snacks, Dinner</td>\n",
              "      <td>Chinese, Pizza, Pasta, Fried chicken, French f...</td>\n",
              "      <td>Agree</td>\n",
              "      <td>Strongly Agree</td>\n",
              "      <td>Disagree</td>\n",
              "      <td>Disagree</td>\n",
              "      <td>Strongly Agree</td>\n",
              "      <td>Agree</td>\n",
              "      <td>Neutral</td>\n",
              "      <td>Strongly Agree</td>\n",
              "      <td>Neutral</td>\n",
              "      <td>Disagree</td>\n",
              "      <td>Strongly Disagree</td>\n",
              "      <td>foodpanda, Pathao</td>\n",
              "    </tr>\n",
              "    <tr>\n",
              "      <th>1</th>\n",
              "      <td>Male</td>\n",
              "      <td>16-30</td>\n",
              "      <td>90.0</td>\n",
              "      <td>1.7526</td>\n",
              "      <td>29.300626</td>\n",
              "      <td>Overweight</td>\n",
              "      <td>Undergraduate</td>\n",
              "      <td>Seeking opportunities currently</td>\n",
              "      <td>Fully Dependendent</td>\n",
              "      <td>Single</td>\n",
              "      <td>0</td>\n",
              "      <td>More than 6 months</td>\n",
              "      <td>2</td>\n",
              "      <td>Lunch, Dinner, Midnight snacks</td>\n",
              "      <td>Indian, Burger, Pizza, Pasta, Fried chicken, Cake</td>\n",
              "      <td>Strongly Agree</td>\n",
              "      <td>Neutral</td>\n",
              "      <td>Neutral</td>\n",
              "      <td>Disagree</td>\n",
              "      <td>Agree</td>\n",
              "      <td>Strongly Agree</td>\n",
              "      <td>Disagree</td>\n",
              "      <td>Agree</td>\n",
              "      <td>Disagree</td>\n",
              "      <td>Neutral</td>\n",
              "      <td>Neutral</td>\n",
              "      <td>foodpanda, HungryNaki, Pathao, Munchies</td>\n",
              "    </tr>\n",
              "    <tr>\n",
              "      <th>2</th>\n",
              "      <td>Male</td>\n",
              "      <td>16-30</td>\n",
              "      <td>75.0</td>\n",
              "      <td>1.6764</td>\n",
              "      <td>26.687381</td>\n",
              "      <td>Overweight</td>\n",
              "      <td>Undergraduate</td>\n",
              "      <td>Prefer not to say</td>\n",
              "      <td>Fully Dependendent</td>\n",
              "      <td>Single</td>\n",
              "      <td>0</td>\n",
              "      <td>More than 6 months</td>\n",
              "      <td>2</td>\n",
              "      <td>Evening Snacks</td>\n",
              "      <td>Burger, Pizza, Fried chicken, French fries</td>\n",
              "      <td>Neutral</td>\n",
              "      <td>Neutral</td>\n",
              "      <td>Disagree</td>\n",
              "      <td>Disagree</td>\n",
              "      <td>Strongly Agree</td>\n",
              "      <td>Strongly Agree</td>\n",
              "      <td>Strongly Agree</td>\n",
              "      <td>Strongly Agree</td>\n",
              "      <td>Agree</td>\n",
              "      <td>Neutral</td>\n",
              "      <td>Neutral</td>\n",
              "      <td>foodpanda, Pathao</td>\n",
              "    </tr>\n",
              "    <tr>\n",
              "      <th>3</th>\n",
              "      <td>Male</td>\n",
              "      <td>16-30</td>\n",
              "      <td>78.0</td>\n",
              "      <td>1.7780</td>\n",
              "      <td>24.673519</td>\n",
              "      <td>Normal</td>\n",
              "      <td>Undergraduate</td>\n",
              "      <td>Prefer not to say</td>\n",
              "      <td>Partially dependent</td>\n",
              "      <td>Single</td>\n",
              "      <td>0</td>\n",
              "      <td>More than 6 months</td>\n",
              "      <td>3</td>\n",
              "      <td>Evening Snacks, Dinner, Midnight snacks</td>\n",
              "      <td>Burger, Pizza, Biriyani/Khichuri/Tehari</td>\n",
              "      <td>Neutral</td>\n",
              "      <td>Agree</td>\n",
              "      <td>Neutral</td>\n",
              "      <td>Neutral</td>\n",
              "      <td>Agree</td>\n",
              "      <td>Agree</td>\n",
              "      <td>Agree</td>\n",
              "      <td>Strongly Agree</td>\n",
              "      <td>Agree</td>\n",
              "      <td>Neutral</td>\n",
              "      <td>Neutral</td>\n",
              "      <td>foodpanda</td>\n",
              "    </tr>\n",
              "    <tr>\n",
              "      <th>4</th>\n",
              "      <td>Male</td>\n",
              "      <td>16-30</td>\n",
              "      <td>98.0</td>\n",
              "      <td>1.7780</td>\n",
              "      <td>31.000062</td>\n",
              "      <td>Obese</td>\n",
              "      <td>Undergraduate</td>\n",
              "      <td>Part-time</td>\n",
              "      <td>Fully Dependendent</td>\n",
              "      <td>Single</td>\n",
              "      <td>5</td>\n",
              "      <td>More than 6 months</td>\n",
              "      <td>5</td>\n",
              "      <td>Lunch, Evening Snacks, Dinner</td>\n",
              "      <td>Pizza, Fried chicken, French fries, Biriyani/K...</td>\n",
              "      <td>Agree</td>\n",
              "      <td>Agree</td>\n",
              "      <td>Neutral</td>\n",
              "      <td>Disagree</td>\n",
              "      <td>Strongly Agree</td>\n",
              "      <td>Strongly Agree</td>\n",
              "      <td>Strongly Agree</td>\n",
              "      <td>Strongly Agree</td>\n",
              "      <td>Neutral</td>\n",
              "      <td>Agree</td>\n",
              "      <td>Neutral</td>\n",
              "      <td>Pathao</td>\n",
              "    </tr>\n",
              "    <tr>\n",
              "      <th>...</th>\n",
              "      <td>...</td>\n",
              "      <td>...</td>\n",
              "      <td>...</td>\n",
              "      <td>...</td>\n",
              "      <td>...</td>\n",
              "      <td>...</td>\n",
              "      <td>...</td>\n",
              "      <td>...</td>\n",
              "      <td>...</td>\n",
              "      <td>...</td>\n",
              "      <td>...</td>\n",
              "      <td>...</td>\n",
              "      <td>...</td>\n",
              "      <td>...</td>\n",
              "      <td>...</td>\n",
              "      <td>...</td>\n",
              "      <td>...</td>\n",
              "      <td>...</td>\n",
              "      <td>...</td>\n",
              "      <td>...</td>\n",
              "      <td>...</td>\n",
              "      <td>...</td>\n",
              "      <td>...</td>\n",
              "      <td>...</td>\n",
              "      <td>...</td>\n",
              "      <td>...</td>\n",
              "      <td>...</td>\n",
              "    </tr>\n",
              "    <tr>\n",
              "      <th>106</th>\n",
              "      <td>Male</td>\n",
              "      <td>16-30</td>\n",
              "      <td>90.0</td>\n",
              "      <td>1.8034</td>\n",
              "      <td>27.673136</td>\n",
              "      <td>Overweight</td>\n",
              "      <td>Undergraduate</td>\n",
              "      <td>Seeking opportunities currently</td>\n",
              "      <td>Independent</td>\n",
              "      <td>Single</td>\n",
              "      <td>0</td>\n",
              "      <td>More than 6 months</td>\n",
              "      <td>5</td>\n",
              "      <td>Dinner</td>\n",
              "      <td>Chinese, Pizza, Pasta, Biriyani/Khichuri/Tehari</td>\n",
              "      <td>Strongly Agree</td>\n",
              "      <td>Strongly Agree</td>\n",
              "      <td>Disagree</td>\n",
              "      <td>Strongly Agree</td>\n",
              "      <td>Strongly Agree</td>\n",
              "      <td>Strongly Agree</td>\n",
              "      <td>Neutral</td>\n",
              "      <td>Agree</td>\n",
              "      <td>Neutral</td>\n",
              "      <td>Disagree</td>\n",
              "      <td>Agree</td>\n",
              "      <td>foodpanda</td>\n",
              "    </tr>\n",
              "    <tr>\n",
              "      <th>107</th>\n",
              "      <td>Male</td>\n",
              "      <td>16-30</td>\n",
              "      <td>58.0</td>\n",
              "      <td>1.6510</td>\n",
              "      <td>21.278149</td>\n",
              "      <td>Normal</td>\n",
              "      <td>Undergraduate</td>\n",
              "      <td>Part-time</td>\n",
              "      <td>Partially dependent</td>\n",
              "      <td>Single</td>\n",
              "      <td>0</td>\n",
              "      <td>More than 6 months</td>\n",
              "      <td>2</td>\n",
              "      <td>Lunch</td>\n",
              "      <td>Pizza, Fried chicken</td>\n",
              "      <td>Agree</td>\n",
              "  </tbody>\n",
              "</table>\n",
              "<p>111 rows × 27 columns</p>\n",
              "</div>\n",
              "      <button class=\"colab-df-convert\" onclick=\"convertToInteractive('df-d1e2b3b3-15c3-4599-a3c4-6b541fdf6ab1')\"\n",
              "              title=\"Convert this dataframe to an interactive table.\"\n",
              "              style=\"display:none;\">\n",
              "        \n",
              "  <svg xmlns=\"http://www.w3.org/2000/svg\" height=\"24px\"viewBox=\"0 0 24 24\"\n",
              "       width=\"24px\">\n",
              "    <path d=\"M0 0h24v24H0V0z\" fill=\"none\"/>\n",
              "    <path d=\"M18.56 5.44l.94 2.06.94-2.06 2.06-.94-2.06-.94-.94-2.06-.94 2.06-2.06.94zm-11 1L8.5 8.5l.94-2.06 2.06-.94-2.06-.94L8.5 2.5l-.94 2.06-2.06.94zm10 10l.94 2.06.94-2.06 2.06-.94-2.06-.94-.94-2.06-.94 2.06-2.06.94z\"/><path d=\"M17.41 7.96l-1.37-1.37c-.4-.4-.92-.59-1.43-.59-.52 0-1.04.2-1.43.59L10.3 9.45l-7.72 7.72c-.78.78-.78 2.05 0 2.83L4 21.41c.39.39.9.59 1.41.59.51 0 1.02-.2 1.41-.59l7.78-7.78 2.81-2.81c.8-.78.8-2.07 0-2.86zM5.41 20L4 18.59l7.72-7.72 1.47 1.35L5.41 20z\"/>\n",
              "  </svg>\n",
              "      </button>\n",
              "      \n",
              "  <style>\n",
              "    .colab-df-container {\n",
              "      display:flex;\n",
              "      flex-wrap:wrap;\n",
              "      gap: 12px;\n",
              "    }\n",
              "\n",
              "    .colab-df-convert {\n",
              "      background-color: #E8F0FE;\n",
              "      border: none;\n",
              "      border-radius: 50%;\n",
              "      cursor: pointer;\n",
              "      display: none;\n",
              "      fill: #1967D2;\n",
              "      height: 32px;\n",
              "      padding: 0 0 0 0;\n",
              "      width: 32px;\n",
              "    }\n",
              "\n",
              "    .colab-df-convert:hover {\n",
              "      background-color: #E2EBFA;\n",
              "      box-shadow: 0px 1px 2px rgba(60, 64, 67, 0.3), 0px 1px 3px 1px rgba(60, 64, 67, 0.15);\n",
              "      fill: #174EA6;\n",
              "    }\n",
              "\n",
              "    [theme=dark] .colab-df-convert {\n",
              "      background-color: #3B4455;\n",
              "      fill: #D2E3FC;\n",
              "    }\n",
              "\n",
              "    [theme=dark] .colab-df-convert:hover {\n",
              "      background-color: #434B5C;\n",
              "      box-shadow: 0px 1px 3px 1px rgba(0, 0, 0, 0.15);\n",
              "      filter: drop-shadow(0px 1px 2px rgba(0, 0, 0, 0.3));\n",
              "      fill: #FFFFFF;\n",
              "    }\n",
              "  </style>\n",
              "\n",
              "      <script>\n",
              "        const buttonEl =\n",
              "          document.querySelector('#df-d1e2b3b3-15c3-4599-a3c4-6b541fdf6ab1 button.colab-df-convert');\n",
              "        buttonEl.style.display =\n",
              "          google.colab.kernel.accessAllowed ? 'block' : 'none';\n",
              "\n",
              "        async function convertToInteractive(key) {\n",
              "          const element = document.querySelector('#df-d1e2b3b3-15c3-4599-a3c4-6b541fdf6ab1');\n",
              "          const dataTable =\n",
              "            await google.colab.kernel.invokeFunction('convertToInteractive',\n",
              "                                                     [key], {});\n",
              "          if (!dataTable) return;\n",
              "\n",
              "          const docLinkHtml = 'Like what you see? Visit the ' +\n",
              "            '<a target=\"_blank\" href=https://colab.research.google.com/notebooks/data_table.ipynb>data table notebook</a>'\n",
              "            + ' to learn more about interactive tables.';\n",
              "          element.innerHTML = '';\n",
              "          dataTable['output_type'] = 'display_data';\n",
              "          await google.colab.output.renderOutput(dataTable, element);\n",
              "          const docLink = document.createElement('div');\n",
              "          docLink.innerHTML = docLinkHtml;\n",
              "          element.appendChild(docLink);\n",
              "        }\n",
              "      </script>\n",
              "    </div>\n",
              "  </div>\n",
              "  "
            ]
          },
          "metadata": {},
          "execution_count": 212
        }
      ]
    },
    {
      "cell_type": "markdown",
      "source": [
        "## **Data Visualization**\n",
        "\n"
      ],
      "metadata": {
        "id": "FGqJVAeBVXoD"
      }
    },
    {
      "cell_type": "code",
      "source": [
        "# Create a bar chart of the number of people in each age range\n",
        "sns.countplot(x = \"Age\", data = df2, color = '#A37DCA')\n",
        "\n",
        "# Add a title and x and y labels\n",
        "plt.title(\"Number of People in Each Age Range\")\n",
        "plt.xlabel(\"Age Range\")\n",
        "plt.ylabel(\"Number of People\")\n",
        "\n",
        "# Show the plot\n",
        "plt.show()"
      ],
      "metadata": {
        "colab": {
          "base_uri": "https://localhost:8080/",
          "height": 295
        },
        "id": "z3QN8MYpVcTN",
        "outputId": "a5f04601-206a-4d4e-ac70-39256c145162"
      },
      "execution_count": null,
      "outputs": [
        {
          "output_type": "display_data",
          "data": {
            "text/plain": [
              "<Figure size 432x288 with 1 Axes>"
            ],
            "image/png": "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\n"
          },
          "metadata": {
            "needs_background": "light"
          }
        }
      ]
    },
    {
      "cell_type": "code",
      "source": [
        "# Create a bar chart of the number of people in each gender group\n",
        "sns.countplot(x = \"Gender\", data = df2, palette=['#5E548E', '#9F86C0', '#BE95C4'])\n",
        "\n",
        "# Add a title and x and y labels\n",
        "plt.title(\"Number of People in Each Gender Group\")\n",
        "plt.xlabel(\"Gender\")\n",
        "plt.ylabel(\"Number of People\")\n",
        "\n",
        "# Show the plot\n",
        "plt.show()\n"
      ],
      "metadata": {
        "colab": {
          "base_uri": "https://localhost:8080/",
          "height": 295
        },
        "id": "QtLSbyayVwP9",
        "outputId": "fdfc758f-5348-437d-9e44-228a85cf7978"
      },
      "execution_count": null,
      "outputs": [
        {
          "output_type": "display_data",
          "data": {
            "text/plain": [
              "<Figure size 432x288 with 1 Axes>"
            ],
            "image/png": "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\n"
          },
          "metadata": {
            "needs_background": "light"
          }
        }
      ]
    },
    {
      "cell_type": "code",
      "source": [
        "# Create a bar chart of the number of people in each gender group\n",
        "sns.countplot(x = \"Weight\", data = df2, palette=['#5E548E', '#9F86C0', '#BE95C4'])\n",
        "\n",
        "# Add a title and x and y labels\n",
        "# plt.title(\"Number of People in Each Weight Group\")\n",
        "plt.xlabel(\"Weight\")\n",
        "plt.ylabel(\"Number of People\")\n",
        "plt.tick_params(axis = 'x', rotation = 90)\n",
        "\n",
        "# Show the plot\n",
        "plt.show()"
      ],
      "metadata": {
        "colab": {
          "base_uri": "https://localhost:8080/",
          "height": 298
        },
        "id": "hPjSb2JUsqHB",
        "outputId": "cbe25e12-06dc-4cf1-f13c-11064a4d386d"
      },
      "execution_count": null,
      "outputs": [
        {
          "output_type": "display_data",
          "data": {
            "text/plain": [
              "<Figure size 432x288 with 1 Axes>"
            ],
            "image/png": "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\n"
          },
          "metadata": {
            "needs_background": "light"
          }
        }
      ]
    },
    {
      "cell_type": "code",
      "source": [
        "# Count the number of occurrences of each category\n",
        "counts = df2['Education'].value_counts()\n",
        "\n",
        "# Plot the pie chart\n",
        "counts.plot.pie(title = 'Educational Qualification', colors = sns.color_palette('Paired', n_colors=len(counts)), autopct='%1.1f%%')\n",
        "\n",
        "# Show the plot\n",
        "plt.show()"
      ],
      "metadata": {
        "colab": {
          "base_uri": "https://localhost:8080/",
          "height": 264
        },
        "id": "twmpmWnb9Pc9",
        "outputId": "170d3d47-05b7-418c-ff03-d2abb434db11"
      },
      "execution_count": null,
      "outputs": [
        {
          "output_type": "display_data",
          "data": {
            "text/plain": [
              "<Figure size 432x288 with 1 Axes>"
            ],
            "image/png": "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\n"
          },
          "metadata": {}
        }
      ]
    },
    {
      "cell_type": "code",
      "source": [
        "# Count the number of occurrences of each category\n",
        "counts = df2['Employment_Status'].value_counts()\n",
        "\n",
        "# Plot the pie chart\n",
        "counts.plot.pie(title = 'Employment Status', colors = sns.color_palette('Paired', n_colors=len(counts)), autopct='%1.1f%%')\n",
        "\n",
        "# Show the plot\n",
        "plt.show()"
      ],
      "metadata": {
        "colab": {
          "base_uri": "https://localhost:8080/",
          "height": 264
        },
        "id": "yeXhQTMB9sex",
        "outputId": "cf325b3f-868a-4898-8783-82495b1a28b6"
      },
      "execution_count": null,
      "outputs": [
        {
          "output_type": "display_data",
          "data": {
            "text/plain": [
              "<Figure size 432x288 with 1 Axes>"
            ],
            "image/png": "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\n"
          },
          "metadata": {}
        }
      ]
    },
    {
      "cell_type": "code",
      "source": [
        "# Count the number of occurrences of each category\n",
        "counts = df2['Financial_Dependency'].value_counts()\n",
        "\n",
        "# Plot the pie chart\n",
        "counts.plot.pie(title = 'Financial Dependency', colors = sns.color_palette('Paired', n_colors=len(counts)), autopct='%1.1f%%')\n",
        "\n",
        "# Show the plot\n",
        "plt.show()"
      ],
      "metadata": {
        "colab": {
          "base_uri": "https://localhost:8080/",
          "height": 264
        },
        "id": "2-1Ku5qi_EJD",
        "outputId": "ebf479f3-f5d1-4d95-d5b1-e43b005ed928"
      },
      "execution_count": null,
      "outputs": [
        {
          "output_type": "display_data",
          "data": {
            "text/plain": [
              "<Figure size 432x288 with 1 Axes>"
            ],
            "image/png": "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\n"
          },
          "metadata": {}
        }
      ]
    },
    {
      "cell_type": "code",
      "source": [
        "# Count the number of occurrences of each category\n",
        "counts = df2['Marital_Status'].value_counts()\n",
        "\n",
        "# Plot the pie chart\n",
        "counts.plot.pie(title = 'Marital Status', colors = sns.color_palette('Paired', n_colors=len(counts)), autopct='%1.1f%%')\n",
        "\n",
        "# Show the plot\n",
        "plt.show()\n",
        "\n",
        "BMI_CAT = list(df2['Marital_Status'])\n",
        "bmi = [0, 0, 0]\n",
        "for values in BMI_CAT:\n",
        "  if values == \"Single\":\n",
        "    bmi[0] += 1\n",
        "  elif values == \"Married\":\n",
        "    bmi[1] += 1\n",
        "  elif values == \"Prefer not to say\":\n",
        "    bmi[2] += 1\n",
        "\n",
        "bmi"
      ],
      "metadata": {
        "colab": {
          "base_uri": "https://localhost:8080/",
          "height": 281
        },
        "id": "OZiDzATy_NPp",
        "outputId": "19376018-b336-4470-d89e-a235ec5efacc"
      },
      "execution_count": null,
      "outputs": [
          "metadata": {
            "needs_background": "light"
          }
        }
      ]
    },
    {
      "cell_type": "code",
      "source": [
        "#Label for each category\n",
        "x = ['Breakfast', 'Lunch', 'Evening Snacks', 'Dinner', 'Midnight snacks']\n",
        "y = [0 for _ in range(len(x))]\n",
        "\n",
        "#Calculates distribution for each category\n",
        "for values in df2['Ordering_Time']:\n",
        "  ordering_times = values.split(', ')\n",
        "  for ordering_time in ordering_times:\n",
        "    for i in range(len(x)):\n",
        "      if ordering_time == x[i]:\n",
        "        y[i] += 1\n",
        "\n",
        "# Create a bar chart of BMI distribution\n",
        "sns.barplot(x = y, y = x, color = '#A37DCA')\n",
        "\n",
        "# Add a title and x and y labels\n",
        "plt.title(\"Ordering Time Distribution\")\n",
        "plt.ylabel(\"Ordering Time\")\n",
        "plt.xlabel(\"Number of People\")\n",
        "\n",
        "# Show the plot\n",
        "plt.show()"
      ],
      "metadata": {
        "colab": {
          "base_uri": "https://localhost:8080/",
          "height": 295
        },
        "id": "F2ErNwRBFlIz",
        "outputId": "912ecc52-adcb-4b12-ee7a-3d4fb4349351"
      },
      "execution_count": null,
      "outputs": [
        {
          "output_type": "display_data",
          "data": {
            "text/plain": [
              "<Figure size 432x288 with 1 Axes>"
            ],
            "image/png": "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\n"
          },
          "metadata": {
            "needs_background": "light"
          }
        }
      ]
    },
    {
      "cell_type": "code",
      "source": [
        "#Label for each category\n",
        "x = ['foodpanda', 'HungryNaki', 'Pathao', 'Others']\n",
        "y = [0 for _ in range(len(x))]\n",
        "\n",
        "apps_distribution = []\n",
        "\n",
        "#Calculates distribution for each category\n",
        "for values in df2['OFO_APPS']:\n",
        "  apps = values.split(', ')\n",
        "  for app in apps:\n",
        "    apps_distribution.append(app)\n",
        "\n",
        "for app in apps_distribution:\n",
        "  if app == 'foodpanda':\n",
        "    y[0] += 1\n",
        "  elif app == 'HungryNaki':\n",
        "    y[1] += 1\n",
        "  elif app == 'Pathao':\n",
        "    y[2] += 1\n",
        "  else:\n",
        "    y[3] += 1\n",
        "\n",
        "\n",
        "# Create a bar chart of BMI distribution\n",
        "sns.barplot(x = y, y = x, color = '#A37DCA')\n",
        "\n",
        "# Add a title and x and y labels\n",
        "plt.title(\"Online Food Ordering Apps Distribution\")\n",
        "plt.ylabel(\"Apps\")\n",
        "plt.xlabel(\"Number of People\")\n",
        "\n",
        "# Show the plot\n",
        "plt.show()"
      ],
      "metadata": {
        "colab": {
          "base_uri": "https://localhost:8080/",
          "height": 295
        },
        "id": "UuiXTrn2Mwr5",
        "outputId": "fdc286f8-5ad8-4e6a-e740-3f4cdc9e7e21"
      },
      "execution_count": null,
      "outputs": [
        {
          "output_type": "display_data",
          "data": {
            "text/plain": [
              "<Figure size 432x288 with 1 Axes>"
            ],
            "image/png": "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\n"
          },
          "metadata": {
            "needs_background": "light"
          }
        }
      ]
    },
    {
      "cell_type": "code",
      "source": [
        "#Calculates total distribution\n",
        "foods_distribution = []\n",
        "for values in df2['Food_Types']:\n",
        "  foods = values.split(', ')\n",
        "  for food in foods:\n",
        "    foods_distribution.append(food)\n",
        "\n",
        "#Label for each category\n",
        "x = list(set(foods_distribution))\n",
        "y = [0 for _ in range(len(x))]\n",
        "\n",
        "#Calculates distribution for each category\n",
        "for values in foods_distribution:\n",
        "  for i in range(len(x)):\n",
        "    if values == x[i]:\n",
        "      y[i] += 1\n",
        "\n",
        "# Create a bar chart of BMI distribution\n",
        "sns.barplot(x = y, y = x, color = '#A37DCA')\n",
        "\n",
        "# Add a title and x and y labels\n",
        "# plt.title(\"Food Type Distribution\")\n",
        "plt.ylabel(\"Types of Food\")\n",
        "plt.xlabel(\"Number of People\")\n",
        "\n",
        "# Show the plot\n",
        "plt.show()"
      ],
      "metadata": {
        "colab": {
          "base_uri": "https://localhost:8080/",
          "height": 279
        },
        "id": "YAoGdjhGQLRY",
        "outputId": "450e3ec1-a61a-4c5b-9d23-646e54594c45"
      },
      "execution_count": null,
      "outputs": [
        {
          "output_type": "display_data",
          "data": {
            "text/plain": [
              "<Figure size 432x288 with 1 Axes>"
            ],
            "image/png": "iVBORw0KGgoAAAANSUhEUgAAAeUAAAEGCAYAAABb4I1OAAAABHNCSVQICAgIfAhkiAAAAAlwSFlzAAALEgAACxIB0t1+/AAAADh0RVh0U29mdHdhcmUAbWF0cGxvdGxpYiB2ZXJzaW9uMy4yLjIsIGh0dHA6Ly9tYXRwbG90bGliLm9yZy+WH4yJAAAgAElEQVR4nO3debyd093+8c8lCUEkHkNVURFURCohoeZKTaVqqCiqLdVK/R5DadNWHx4NHWhVqVnMykNrbFpqCiEUmQdRQ02t1lhjIiKS7++PtXZz52Tvc/Y5Z+8zXu/X67yy97qHve6dw8pa972upYjAzMzM2t9y7V0BMzMzS9wom5mZdRBulM3MzDoIN8pmZmYdhBtlMzOzDqJne1fAOrc11lgj+vfv397VMDPrVKZOnfpGRKzZsNyNsrVK396rc/zIs9q7GmZmbeqrJ362VcdLerFcuYevuwBJiyTNkPS4pBslrSRpuKRz27tuZmZWPTfKXcP8iBgaEYOBD4GjImJKRBzX3hUzM7PquVHueiYCG0naWdKfACTdkXvSMyS9I+kwSZcVyl6X9GNJfSSNlzRN0mxJ+7bztZiZdSu+p9yFSOoJ7AncWSyPiL3y9mHAlcBtEXF1Lls/738V8AGwf0S8K2kN4FFJ46JBFqukUcAogNVXXauu12Rm1p24p9w1rChpBjAF+DtwecMdciP7W+ArEfFOLusN3AgcGxEvAgJ+LmkWcC+wDrBMqxsRYyNieEQM77tyv3pdk5lZt+OectcwPyKGFgskFV/3AG4ATouIxwu7XQzcEhH35veHAmsCwyJioaQXgN71rLiZmS3hnnL3cAYwKyJuKBVIOhpYJSLOKOzXD3gtN8gjgPXbuJ5mZt2ae8rdw2hgTh7iBjglly0slF0MXAf8UdJs0lD4k02deLWPr9Lq+XpmZpa4Ue4CIqJPmbIJwIT8Wg23A+MqnG7bmlXMzMyaxY1yK0haBMwuFO0XES/U4XN2BkZHxN5N7DeQdO84gJER8WyD7XeQHvR6u1Z1e/OV97j2jAdqdTqzpXgUxrobN8qts8wDViVKT1opIha3YX32A26KiJ9WqMtebVgXMzNrJj/oVUOS+kt6StI1wOPAepK+L2mypFmSTi3s91dJl0qaI+luSSvmbRtJulfSzBzisWE+fR9JN0l6UtJ1Kj5enY7bCzge+H+S7q9Qlxfy1CgkfVXSpBwecomkHvnnqhzXOVvSCW301ZmZGW6UW2vFQirWrblsY+DCiNgM2CS/3xoYCgyTtFNhvwvyfm8DB+Ty63L5EGA74OVcvgWp0R0EDAC2L1YkIu4gPax1dkSMaFiXPA8ZAEmbAgcB2+ee/iLSdKihwDoRMTgiPk0KGjEzszbi4evWWWr4WlJ/4MWIeDQX7Z5/puf3fUgN5d+B5yOi9OTzVKC/pFVIjeKtABHxQT4vwKSIeCm/nwH0Bx5qon7FuhTtAgwDJudzrwi8BvwRGCDpPOB24O5yJ3Wil5lZfbhRrr15hdcCTo+IS4o75MZ7QaFoEalhbEzD/av5u5tXoVzA1RHxo2U2SEOAPYCjgC8DRzTcJyLGAmMBBqy7STTcbmZmLePh6/q6CzhCUh8ASetI+lilnSPiPeAlSfvl/VeQtFId6jUeGFmqi6TVJK2f7zcvFxE3AycDW9bhs83MrAL3lOsoIu7O928fycPEc4Gvknq6lXwNuETSacBC4MA61OsJSScDd0taLn/O0cB84MpcBrBMT7ohh4eYmdWOGiwAZNYsw4cPjylTprR3NczMOhVJUyNieMNy95StVTpreIh792bWEfmecp1JCknXFt73lPS6pD/l9/tIOjG/HiNpdH49QdIy/4qq8BlV75v337n0+WZm1nG4p1x/84DBklaMiPnAbsA/SxsjYhyVc6jNzKwbcU+5bdwBfCG/PgS4vrRB0uGSzq90oKTlcsrWT5tI3DowJ3Q9LWnHfGx/SRNzMtg0SduVOf9WkqZL2lDSMEkPSJoq6S5Ja9fm8s3MrBpulNvGDcDBknoDmwOPVXlcT1LC1zMRcTKNJ271jIitSalfP85lrwG7RcSWpASvc4snz430xcC+pECT80gLWQwDrgB+Vq5SkkZJmiJpyrvz3qnyUszMrCkevm4DETErB4YcQuo1V+sS4PcRUWocn6Ny4tYt+c+ppLQvgF7A+ZJKUZqfKuy/KSkAZPeI+JekwcBg4J48fasHSyI+G16Pw0PMzOrAPeW2Mw74FYWh6yr8BRiRe9hExFvAENI6yUcBlxX2LSV+FdO+TgBezccMB5Yv7P8y8AEpUxtSyteciBiafz4dEbs3o65mZtZKbpTbzhXAqRExu8k9l7ic1LP+fX5qu7mJW/2Al/PykV8j9X5L3ibd5z5dab3mp4A1JW0LIKmXpM2aUVczM2slD1+3kbyYxLlN7rjscb+W1A/4LXAGzUvcuhC4WdLXgTtpkIUdEa9K2hv4MynjeiRwbv68nsA5wJzGPsCJXmZmteNEL2sVJ3qZmTVfpUQvD193AjmA5KzC+9GSxjRxzH+CSFrxuZdJGtTYPqVEr86Y6mVm1tG4Ue4cFgBfyveU24SkHhHxrYh4oq0+08ysu3Oj3Dl8RJqCdELDDZLWlHSzpMn5Z/vC5kE5gvM5SccVjrktB4TMkTSqUD5X0lmSZgLbNje+08zMWscPenUeFwCzJP2yQflvgLMj4iFJnySt4bxp3jYQGAGsAjwl6aKIWAgcERFvSloRmCzp5oj4N7Ay8FhEfA8gz1deRm7IRwGsvupaNb1IM7PuzI1yJxER70q6BjiOtO5xya6kHnHpfV9JffLr2yNiAbBA0mvAWsBLwHGS9s/7rAdsDPybNMf55irq4vAQM7M6cKPcuZwDTGPpeM3lgG0i4oPijrmRXlAoWgT0zHOSdwW2jYj3JU0Aeud9PoiIRfWpupmZNcX3lDuRiHgT+D3wzULx3cCxpTc5UrMx/YC3coM8ENim5hU1M7MWcU+58zkLOKbw/jjgAkmzSH+fD5IiOCu5EzhK0l9JKV6PtqYyDg8xM6sdh4dYqzg8xMys+SqFh7inbK1SCg8xawselbGuzveUOzFJiyTNkPS4pBslrdTM4/tL+kq96mdmZs3jRrlzm5+XWRwMfEjj95LL6Q+4UTYz6yDcKHcdE4GNJH1R0mOSpku6V9JaAJI+m3vVM/K2VUirTu2Yy07IPeeJkqbln+3a9YrMzLoZ31PuAiT1BPYkPVn9EGneckj6FvAD4HvAaODoiHg4h4t8AJwIjI6IvfN5VgJ2i4gPJG0MXA8s8yCCE73MzOrDjXLntqKkGfn1ROByYBPgd5LWBpYHns/bHwZ+Lek64JaIeKlMjGYv4Pw813kR8KlyH+pELzOz+nCj3LnNj4ilwkIknQf8OiLG5fSuMQARcYak24G9gIcl7VHmfCcArwJDSLc2Piizj5mZ1Ykb5a6nH/DP/PqwUqGkDSNiNjBb0lakxSr+QVqsonjsSxGxWNJhQI82qrOZmeFGuSsaA9wo6S3gPmCDXH68pBHAYmAO8Of8elFeqvEq4ELgZklfJ92fntfUhznRy8ysdpzoZa3iRC8zs+ZzolcXIGluRPRpes//7L8z+elqSfsAgyLijFrWyYleXY9HPszajxvlbiIixgHj2rseZmZWmcNDOiFJO0uaIOkmSU9Kuk55fpOkz+eyacCXCsccLun8/LpSwMgYSVfkcz8n6bh2uUAzs27KjXLntQVwPDAIGABsL6k3cCnwRWAY8PEKx5YCRrYAbiAFjJQMBPYAtgZ+LKlXw4MljZI0RdKUd+e9U6vrMTPr9twod16TIuKliFgMzCDlWA8Eno+IZyI9wXdthWPXBe6SNBv4PrBZYdvtEbEgIt4AXgOWieyKiLERMTwihvdduV8NL8nMrHtzo9x5LSi8XkTzng84Dzg/Ij4NfBvoXaPzmplZK7hR7lqeBPpL2jC/P6TCfmUDRszMrH25F9SF5IUkRgG3S3qflIe9Spldx1A+YKTZHB5iZlY7Dg+xVnF4iJlZ81UKD/HwtbVKKTzEASJmZq3XbRtlSXMLr/eS9LSk9duzTs0l6aicU11p+z6STmzLOpmZWct1+3vKknYBzgX2iIgXq9hfpGH/xXWvXBMi4uImtjvFy8ysE+m2PWUASTuRwjb2johnc9l3JT2ef47PZf0lPSXpGuBxYD1J35c0WdIsSacWznmbpKmS5uSHrkrlcyX9TNJMSY+WUrQa1KePpCslzc7nPaB0bGGfkZKuyq/HSBqdXx8n6Yl83A25rJjidZWkcyX9Jad1jSycs+y1mJlZ2+rOjfIKwG3AfhHxJICkYcA3gM8A2wBHStoi778xcGFEbAZskt9vDQwFhuUGHuCIiBgGDAeOk7R6Ll8ZeDQihgAPAkeWqdP/Au9ExKcjYnPSk9HVOhHYIh93VIV91gZ2APYGzsjXvHsj11KWE73MzOqjOzfKC4G/AN8slO0A3BoR8yJiLnALsGPe9mJEPJpf755/pgPTSElaG+dtx+X1iR8F1iuUfwj8Kb+eSkrgamhX4ILSm4h4qxnXMwu4TtJXgY8q7HNbRCyOiCdYktTV2LWU5UQvM7P66M73lBcDXwbGS/qfiPh5E/vPK7wWcHpEXFLcIS+VuCuwbUS8L2kCS9KyFsaS+WfNTcoqzlvrXWGfLwA7kXKvT5L06TL7FNO6VPhzmWsxM7O21517ykTE+6TG7FBJ3ySFbewnaSVJKwP757KG7gKOkNQHQNI6kj5GSsp6KzfIA0lD4M1xD3B06Y2k/8ovX5W0qaTlcp2WksvXi4j7gR/melS77nKlazEzszbWnXvKAETEm5I+T7rP+x3gKmBS3nxZREyX1L/BMXdL2hR4JK+YOBf4KnAncJSkvwJPkYawm+OnwAWSHif1pk8lDaGfSBr6fh2YwrINbg/gWkn9SD3fcyPi7Vy3RjVyLa9VU2EnepmZ1Y4TvaxVBqy7SZx2zFgAN85mZlVyolcbk3RSnhY1S9IMSZ+R9IKkNdq7bmZm1jF1++HrepC0LWna0ZYRsSA3xMu3U106TNiJmZk1zj3l+lgbeCMiFgBExBsR8a+87VhJ03JAyEAASVtLekTS9BzusUkuv13S5vn1dEmn5NenSToyh42ML5xv37y9YdjJjpKezAEiT0u6TtKukh6W9IykrRurh5mZtQ03yvVxNyn162lJF0oq3mx9IyK2BC4CRueyJ4EdI2IL4BSgND1rIqlB7Ueae7x9Lt+R9GDaB8D++XwjgLO05OmuYtjJi8BGwFmkecgDga+Q5mWPBv6niXosxeEhZmb14eHrOoiIuTkdbEdSY/k7LVkY4pb851TgS/l1P+BqSRuT5iT3yuUTgeOA54Hbgd0krQRsEBFPSeoF/DwncC0G1mFJKEgx7ATg+YiYDSBpDjA+IkLSbJYEmVSqR8PrGwuMhfSgV/O+HTMzq8SNcp1ExCJgAjAhN3yH5U2lAI9igMhPgPsjYv88/WpCLp9Miut8jjSHeQ1SPOfUvP1QYE1gWEQslPQCS8JFimEnxc+F1IAvKLxuqh5mZtYGPHxdB5I2yb3NkqGkIeRK+gH/zK8PLxVGxIfAP4ADgUdIPefRpKHr0nGv5QZ5BNDapSfL1sPMzNqGe8r10Qc4T9KqpHvBfwNGkZ7ILueXpGHjk0nD1EUTgV0iYr6kicC6LEkZuw74Y+6JTyHdE26NxupRlsNDzMxqx+Eh1irDhw+PKVOmtHc1zMw6lUrhIe4pW6u8+cp7XHvGA+1djTbjUQEzq6eK95Ql/VHSuEo/bVnJ1pK0KKdqlX76t+AccyuUXyVpZDPPdbCkk/LrPfP0oify/OCzWnLePDf5K82pR4PjV5X034X3n5B0U0vPZ2ZmzddYT/lX+c8vAR8Hrs3vDwFerWel6mB+RAxt70oU7AmcK2kwcD7whYh4UlIP0r3nluhPmnv8fy08flXgv4ELAXLYSbP+sWFmZq1TsaccEQ9ExAPA9hFxUET8Mf98hTT/tlMr5lBLGq609jE5JevKnJA1S9IBhWN+JmmmpEclrVXmnD/JPdweki7KPeA5kk4t7CPS09jTgB8AP4uIJyFNo4qIiwqn3Cknaz1X6jUrOVPS47mOB+V9zyAFjcyQdIKkwyX9QdKEnNr140IdvpuPf1zS8YXjN8zHn5l73o+39ns2M7PqVXNPeWVJAyLiOQBJGwAr17daNbeipBn59fMRscyaxAX/C7wTEZ+GpdY0Xhl4NCJOkvRL0nzhn5YOknQmsArwjRzKcVJeFrIHMF7S5hExC9gCmJn3GUxK2apkbVLq1kBgHHATaeRiKDCENG95sqQHScs7jo6IvXN9Dge2BgYD7+f9bieFgnwD+AxpmcfHJD2Qjx9cGlFobIhf0ihyj371VZf5t4mZmbVQNY3yCaQAjOdI/xNfn5YPsbaX5gxf7wocXHoTEW/llx+S1jSGFN6xW+GY/wUei4ji9/Ll3Hj1JDWug4BZwOeBP1dZl9vyQhJPFHrmOwDX53CSV3ODuhXwbpnj74mIfwNIuiUfG8CtETGvUL4jqdGvihO9zMzqo8lGOSLuzEEYA3PRk6WFFjq5j1gyfN+7sR2zhbFk/lgxjQtS8tYwSavl3vEGpJCPrSLiLUlXFT5jd6A0JD4HGAbMrPCZxe9ZFfZpTMMG0w2omVkH1mSjnPOVvw3slIsmSLokIhbWtWb19wKpQfwzSxpJSHGWRwPHQxq+LvSWK7kTuAu4XdLuQF9SzOU7uYe7J+l76wf0LPVegTOBWyQ9FBFPS1oOGBURFzfyWROBb0u6GliN9PfyfVLu9SoN9t1N0mrAfGA/4AhSrOZVks4gNfT7A18D3itzfJMcHmJmVjvVxGxeRGq8Lsw/w3JZZ3cq8BtJU0g935KfAv+VH4KaSVpQokkRcSNwKWkY+GlgOilh6/+Ah/NuuwH3Fo6ZRWr8r5f0V9IyiwOa+KhbScPgM4H7gB9ExCu5bFF+EO2EvO8k4Oa87eaImBIR04Cr8rbHgMsiYnr+h8LD+brPrOaazcystppM9JI0MyKGNFVmTZN0GakRfLTJnVv/WYcDwyPimHp+zoB1N4nTjhlbz48wszbiUa+2owqJXtX0lBdJ2rBwogEs3bPs0qoJHpF0h1LOdaMi4lsR8WiernR+M+pQKbjkKElfb+TQdST9qZHtZmbWgVTz9PX3gfsbPH39jbrWqmOp+OR2nnOsiNirjesEQGP3niPiKqWlHEe3XY3MzKw1muwpR8R4YGPgOOBYYJOIuL/eFeuocqjGU5KuId0DXq9BEMlXJU3KvepL8jxlJH1D0tOSJgHbVzh3s4JLJI2RNDq/3kjSvXmfacXRjbx9K6UYzw0lDZP0gKSpku6StHbeZ4KkX+T6Py2p04fEmJl1Jk02yoWnr0/JP0fmsu5ixcLQ9a25bGPgwojYLCL+s06ypE2Bg0gpaENJw/yH5kbvVFJjvANpznI5/wkuiYjNSQ9ywZLgkiGktZSPLHPsdcAFeZ/tgJcL9doOuBjYF/g7cB4wMiKGAVcAPyucp2dEbE16AO3HlCFplFJa2ZR3571T4VLMzKy5qhm+vgjoRc5EJk2fuQj4Vr0q1cEsNXyd7ym/WOFhrV1IT6dPTiPbrAi8RkrPmhARr+dz/A74VJnjWxJcgqRVgHUi4tZ83Ae5HGBTUtDH7hHxr5wiNhi4J2/vQaEBB24pfE7/MnV0eIiZWZ1U0yhv1eBJ6/vyVKHubF6FcgFXR8SPliqU9mvl5zUWXNKUl0nBJVsA/8p1nBMR21bYvxRY0tzPMTOzVvLT17U1Hhgp6WMAklaTtD5pPvBnJa2eh/4PrHB8KbiEfPx/VdhvKRHxHvBSqfGXtIKklfLmt4EvAKdL2hl4ClhT0rZ5316SNmvmdZqZWR346esaiognJJ0M3J3TuRYCR+dpUGOAR0iN5IwKp/gpcIHS6kyLSPehb6mwb0NfAy6RdFr+3P80/BHxqqS9SellR5CWZDy3lDAGnEOK/Gw2J3qZmdVOxfAQST0j4qP8egVgk7zpqS6SfW01MHz48JgyZUp7V8PMrFOpFB7SWE95ErBlfv2riDi2LjWziiSdBHyF1GteDHw7Ih6r8WfsDHwYEX9pyfFvvvIe157xQC2r1CbcuzezjqixRrm4KlHZebVWP/me797AlhGxIM+DXr4OH7UzMBdoUaNsZma109iDXp7q0r7WBt4o3SqIiDdIsZm3AEjaV9J8SctL6p3v+ZPDQe7MwSATJQ3M5WtKulnS5PyzfZ7edRRwQp6HvaOkA5UX45D0YHtcuJlZd9VYT3mgpFmkHvOG+TX5feRwC6ufu4FTJD1NWlnqd6TVpkpzpnckJYptRfp7LA1rjwWOiohnJH2GNL/8c8BvgLMj4iFJnwTuiohNJV0MzI2IXwFImg3sERH/VBV53mZmVjuNNcqbtlktbBkRMVfSMFLjO4LUKJ8IPJuTw7YGfk1aT7kHMFFSH1Ka1405GARghfznrsCgQnnfvH9DD5PWW/49FZ78ljQKGAWw+qprteYyzcysoGKjXIyPtPYREYuACcCE3IM9jBSzuSdp2tO9pLWRe5Cmri0HvF1hAY3lgG1KaV8lhUa69JlH5R72F4CpkobltZaL+zjRy8ysDqoJD7F2IGkTSRsXioYCLwITSbnUj+TYztVJ09Uej4h3geclHZjPIUmlNLa7SQuKlM5farjfA1YplG8YEY9FxCnA68B6dblAMzNbhmMUO64+wHn5vu5HwN9IQ8bzgLVIPWaAWcDHCzGchwIX5RCTXsANwEzSKl8X5GcDeubjjwL+CNwkaV9So31C/seASAlljUaqOjzEzKx2GgsPGR8Ru0j6RUT8sI3rZZ2Ew0PMzJqvJeEha+cl//aRdANLz1smIqbVuI7WCRXDQ9xjNjNrncYa5VNI6/uuS3rKtyhI02ysjUhaBMwm/Z39FTgsIt5v5Tn3A56OiCdqUEUzM2ulig96RcRNEbEn8MuIGNHgxw1y25sfEUMjYjBpfeWjqjlIUmP/8NoPGFSLypmZWes1+aBXRPxE0j6k+bAAEyLiT/WtljVhIrC5pNWAK4ABwPvAqIiYlVek2jCX/13Sj/J+a5CeqP4GaQRkH9KSkicDB5BGP0aR4jz/Bnyttb1xMzOrXpNToiSdDnwHeCL/fEfSz+tdMSsv93z3JA1lnwpMz+lq/wNcU9h1ELBrRBwCnAdcnfe7Djg3L0AxDvh+7oE/C9wSEVtFxBDSEPk3K9RhlKQpkqa8O++dOl2pmVn3U82UqC8AQyNiMYCkq4HppEbA2s6KkkrrME8ELidFax4AEBH3SVpdUt+8z7iImJ9fbwt8Kb/+LfDLCp8xWNJPgVVJU7LuKreTw0PMzOqj2nnKqwJv5tf96lQXa9z8hkldDdO4GpjXgs+4CtgvImZKOpy0gpSZmbWRahK9TgemS7oq95KnAj+rb7WsShNJYSGldZHfyKleDf0FODi/PjQfBw3SvPLrlyX1Kp3XzMzaTsXwkKV2ktYmrUYEMCkiXqlrrWwZkuZGRJ8GZY096FVc+Wl94EoKD3pFxN8lbQ9cCiwARgK7Az/I+zwGrBIRhzdWL4eHmJk1X6XwkKoaZbNK3CibmTVfpUbZC1K0E0mLJM2QNEfSTEnfk9Tivw9Jc8uU3S9pjwZlx0u6qJHzXCZpUH59R1NrKpcSvUqpXmZm1nJekKL9/OfBLUkfA/4P6Av8uIafcT3pXnLxKeqDSUPUZUXEtwqv96phXczMrAnVzFPeUNIK+fXOko5rqvdkzRMRr5FCO47Jyy32lzRR0rT8sx2ApD6Sxuey2Xllp8bcBHxB0vL5+P7AJ4CJki7Kc43nSDq1dICkCZKG59cvSFqj9ldsZmblVDNcejOwSNJGpLmp65F6dVZDEfEc0AP4GPAasFtEbAkcBJybd/sA2D+XjwDOUiPzoiLiTWASKWwEUi/593mZx5Py/YzNSalem9fhsszMrBmqaZQXR8RHwP7AeRHxfWDt+lar2+sFXCppNnAjS/KpBfw8r4l8L7AOaW3lxpSGsMl/Xp9ff1nSNFIQzGY0IwPbiV5mZvVRTaO8UNIhwGFAKfO6V/2q1D1JGgAsIvWSTwBeBYYAw0lZ1JDmDq8JDMv3o18Fejdx6j8Au0jaElgpIqZK2gAYDeySozdvr+I8/xERYyNieEQM77uys2TMzGqlmkb5G6SYxp9FxPP5f+i/rW+1uhdJawIXA+fnoeV+wMs52vRrpGFtcvlrEbFQ0ghg/abOHRFzgftJ85lLveS+pMSvdyStxZLhbTMza0fVrBL1hKQfAp/M758HflHvinUDpSzrXsBHpH/olNatvhC4WdLXgTtZEpl5HfDHPKw9BXiyys+6HriVPIydYzSn5+P/ATzcYP+qJ6+v9vFV+OqJn612dzMza0STjbKkLwK/Ig2hbiBpKHBaROxT78p1ZRHRo5Ftz5AewCr5YS5/gzRqUe6YPuXK87bbSPeji2WHV9h9dXLOeUT0r3ROMzOrvWrmKY8BtgYmAETEjHz/07oYSfcAs/NoSFVK4SFmRR49MWuZqh70ioiGj9gurkdlujNJH5d0g6RnJU3NaVqjJP2pwv7/Sd6qlYjYLSK+UstzmplZ9arpKc+R9BWgh6SNgeNIqw5ZjeS5xrcCV0fEwblsCFDxFkExecvMzLqGanrKx5LmsS4gPTD0LnB8PSvVDY0gjUhcXCqIiJmkJRb7SLpJ0pOSriuFhTRI3por6Wc5Q/vR/EQ1ktaUdLOkyfln+1z+2Zy7PUPSdEmr5PLv5/1mFVO+zMysbTTZKEfE+xFxErALMCIiToqID+pftW5lMGmd6nK2IP0jaBBpicbty+yzMvBoRAwBHgSOzOW/Ac6OiK2AA4DLcvlo4Og813lHYL6k3YGNSc8PDAWGSdqpXIUcHmJmVh/VZF9vlafgzAJm597YsPpXzbJJEfFSnrM8A+hfZp8PWRLsMrWwz67A+Xnq1Tigr6Q+pClQv5Z0HLBqTmzbPf9MB6YBA0mN9DIcHmJmVh/V3FO+HPjviJgIIGkH4EqWnrJjrTMHGFlh24LC60WU/ztbGEsWxi7usxywTZmRjTMk3Q7sBbAqqD4AABoFSURBVDycl3cUcHpEXNKSCzAzs9ar5p7yolKDDBARD5HCLqx27gNWkDSqVJAXiNixlee9m/RMQOmcpaUiN4yI2RHxC2AyqVd8F3BE7kkjaZ28pKSZmbWRanrKD0i6hPSQV5BWLZqQs5SJiGl1rF+3EBEhaX/gnJye9gHwAnBbK099HHBBXsCiJ+l+81HA8TmmczGpl/7niFggaVPgkfws2Vzgq6Qs7oqc6GVmVjtaMupZYQfp/kY2R0R8rrZVss5k+PDhMWXKlPauhplZpyJpal4+dynV9JR3jYhFLfjARcBs0r3KRcAxEfEXSZ8Azo2IZe6hNratNSTdAXwlIt7O7y8mZU0fCfwpIm6StBownrR28fPA6IjYu8y5LgN+HRFPVPisMcDciPhVK+p7FPB+RFyT329DGqkoPeq8EfBPYD4wKyK+XuYccxuL3qyiDsOBr0fEcY3t50QvM/NoWe1U0yg/I+lm4IqI+Gszzj0/T7khP0h0OvDZiPgXZR5qktSz0rbWioi9GhRtAxxNnjokqR/pnurYiLhS0s6NnKuuoR35e7i4QfGepH8k3Jz3mZDf16WLmuswhbTohZmZtZFqHvQaAjwNXJ6DKUZJ6tvMz+kLvAUgqb+kx/PrwyWNk3QfML7BtgdLDybl9w9JGiJpa0mP5NCLv0japHCuWyTdKekZSb8sHPuCpDXy602Bpwu9/z7An4H/i4iLCnWuJrTj85Km5Wli4wvHDsr7PZenHS113fn96NyrLp3zHElTgO9IGiNpdOF8uwD3lvtiJX1V0qQcBHKJpB6FbeUCRb4o6bH8/d1bKB8j6beSHgZ+K2lnVYj4NDOz+qjYKEvqCRAR70XEpRGxHWm1oh8DL0u6WtJGjZx7xdxQPEkKrfhJhf22BEZGRMPxj8uBw3NdPgX0zilXTwI7RsQWwCnAzwvHDCU9iPZp4CBJ65X5vD1JyyGW/Bp4KCLObrBfo6EdSmsgXwockEM7DixsHgjsQQri+LGkXhWuvWj5PPf3rAafswbl88dL/8A4CNg+j0osAg7NmysFijxEmia1BXAD8IPCKQeRblcc0lhF5fAQM7O6aKynPAlAUg9J+0i6DTgHOIvUSP0RuKOR4+dHxNCIGAh8Hrim1Nts4J6IeLNM+Y3A3rlBOwK4Kpf3A27Mvc6zSRGgJeMj4p08L/cJYP0y592DpRvl+4B9y0z/aSq0YxvgwdKKSg2u4faIWJCXWnwNWKtMPRr6XYXy3UlTm8rZBRgGTFYKCNmF9HcDlQNF1gXuUgqE+T5Lf3/jImJ+UxV1eIiZWX1UdU8ZuB/4RUQ8Uii/SRViGBuKiEdyj2/NMpvnVTjmfaWlBPcFvkxqfCD1uO+PiP0l9ScvKZk1GrQhaSVSgtW/CsU3kBKu7pA0IiLeq+ZcTSh37Ecs/Y+g3g2OKfs9kHr2v66wTaRFLH5UZlulQJHzSA+qjcv3zsdUUQczM2sDjfWUPybpu8AVpF7ntpK+W/oBaOrJ3BJJA4EewL+bWb/LSE9DT46It3JZP9KTx5CHt5thBOkfGEvJQ9fjgVskLV/luR4FdpK0AUB+ersxr5K+09UlrQAs82R3Q3lkYXNST72c8cDIUi9f0mqSyo0OFBW/v8OaqoOZmbWdxnp/PUgPQSn/2Vwr5iFV8jkOi4hF5Uewy4uIqZLeJcV6lvwSuFrSycDtzazTnsBNFT7rh5KuJE2VajJqMiJeV0rgukXScqRh6t0a2X+hpNNItwX+Sbo33pRhwPRCj7fhOZ/I38PduQ4LSU+Vv9jIOceQhv/fIg3db1BFPSpyeIiZWe1UDA+RNC0itmzj+jSswydIw9MD873d1p5vGvCZiFjY2nO1hdzg/i0ibmjvulTi8BAzs+ZTC8JDqu/S1oGkrwM/A75biwYZoL3/kdFcEfHT9q5DUzpreIh792bWETV2T3mXNqtFGRFxTUSsFxE3tmc9OhJJi/I0szl5/vH38rB1rT9nP0mDan1eMzNrXMX/oVeYpmTtqzTNbDPS/es9SfPGa20/0pxlMzNrQzXvZVnbiIjXgFHAMUp6S7pS0uyc1jUCmkw6m1t4PVLSVZK2A/YBzsy98g3b+trMzLqr5sy9tQ4mIp7LsZofIy2zGBHx6TwF7e6chAYp6WwL0vzppySdFxH/qHDOv0gaR16oo9w++anzUQCrr1pNLoqZmVXDPeWuYwfgWoCIeJI0LarUKFeTdFY1J3qZmdWHG+VOTNIAUlrXa03sWimdrDgfrmHCmJmZtTE3yp1UXhDjYuD8HC4ykbwYRR62/iTwVBOneVXSpvkJ7v0L5e8Bq9S+1mZm1hjfU+5cSilpvUhZ2r9lSS72hcBFeaGJj4DDI2JBEwlqJ5IWrXidtHZyKbntBuBSpWUnR0bEs5VO4EQvM7PaqZjoZVYNJ3qZmTVfpUQvD193EpI+LukGSc9KmirpjsLT1eX2PzOHjJwpaU1Jj+WpUjvWsl6lRK/OmOplZtbRePi6E8irRd1KWqbx4Fw2hLRO89MVDhsFrJYXATkYmB0R32qTCpuZWYu4p9w5jCCtj3xxqSAiZgIP5Z7w4zk05CCAPM+4DzBV0g9JK2vtm8NAVpS0u6RHJE2TdKOkPvm4YZIeyD3xuySt3faXambWfbmn3DkMBqaWKf8SKRhkCLAGMFnSgxGxj6S5ETEUQNKrwPCIOEbSGsDJwK4RMS832t+VdDpwHrBvXpbyINKCIEc0/FCHh5iZ1Ycb5c5tB+D6iFhEmt70ALAVMK6RY7Yh5Vo/nJ/MXh54BNiE1Pjfk8t7AC+XO0FEjAXGAgxYdxM/KWhmViNulDuHOcDIGp1LwD0RcchShdKngTkRsW2NPsfMzJrJ95Q7h/uAFfKwMQCSNgfeBg6S1COHiewETGriXI8C20vaKJ9n5fwU91PAmpK2zeW9JG1Wh2sxM7MK3FPuBCIiJO0PnJPvAX8AvAAcT3qgayYpMvMHEfFKE+d6XdLhwPWSVsjFJ0fE05JGAudK6kf63TiH1EuvyOEhZma14/AQaxWHh5iZNV+l8BD3lK1VSuEhZmZdTXuMAvqecgcnaVGeXzwzzyverr3rZGZm9eGecsc3vzDfeA/gdKDqf75J6pGnTLWIpJ4R8VFLjzczs+q5p9y59AXeApC0s6Q/lTZIOj8/wIWkFyT9QtI04EBJe0l6Mid1nVs6Lj95fYWkSTkXe99cfrikcZLuA8a39UWamXVX7il3fKXlGnsDawOfq/K4f0fElpJ6A88AO0XE85KuL+xzEnBfRBwhaVVgkqR787Ytgc0j4s2GJ3ail5lZfbin3PHNj4ihETEQ+DxwjZpYJDn7Xf5zIPBcRDyf3xcb5d2BE3OjP4HU8H8yb7unXIMMKdErIoZHxPC+K/dr5uWYmVkl7il3IhHxSM6uXhP4iKX/UdW7we7zqjilgAMi4qmlCqXPVHm8mZnVkHvKnYikgaRM6n8DLwKDJK2Qh553qXDYU8AASf3z+4MK2+4Cji31vCVtUY96m5lZddxT7vhK95Qh9WwPy09T/0PS74HHgeeB6eUOjoj5kv4buFPSPGByYfNPSKldsyQtl8+zd3Mq50QvM7PacaJXNyCpT0TMzT3iC4BnIuLsWpx7wLqbxGnHjK3FqayV/I8js86jUqKXh6+7CEkfl3SDpGfz1Kc78kITAEfm3vYcoB/wZ0mPt19tzcysHA9fdwG5B3wrcHVEHJzLhgBrAU/nXvHZhf37t0M1zcysCe4pdw0jgIURcXGpICJmAtMljc/xnLNL4SBFkgbk4JCtJG0o6c7c056YHywzM7M24p5y1zAYmFqm/ANg/4h4N0+lelTSuNJGSZsANwCHR8RMSeOBoyLimTwt6kLKhJU4PMTMrD7cKHdtAn4uaSdgMbAOaUgb0lznPwBfiognJPUBtgNuLGSTrEAZETEWGAvpQa/6Vd/MrHtxo9w1zAFGlik/lNT4DouIhZJeYEnIyDvA34EdgCdItzLeLi1+YWZmbc/3lLuG+4AV8rAyAJI2B9YHXssN8oj8vuRDYH/g65K+EhHvAs9LOjAfr/ywmJmZtRH3lLuAiAhJ+wPnSPoh6V7yC8AY4FxJs4EpwJMNjpsnaW/gHklzST3riySdDPQi3W+e2dhnOzzEzKx23Ch3ERHxL+DLZTZtW+GQwfm4t4GtCuWfr3HVzMysSm6UrVXefOU9rj3jgfauRk25529m7cX3lDsxSSdJmiNplqQZeRpTpX2vklTuYbBK+/d36peZWdtyT7mTkrQtafGILSNiQZ6HvHw7V8vMzFrBPeXOa23gjYhYABARb0TEvySdImmypMcljS0ty1hUaR9JwyTNlDQTOLptL8fMzNwod153A+tJelrShZJKN0LPj4itImIwsCLll2KstM+VwLER0ehUKEmjJE2RNOXdee/U6HLMzMyNcicVEXOBYaS4y9eB30k6HBgh6bE8DepzwGZlDl9mH0mrAqtGxIN5n9828tljI2J4RAzvu3K/Gl6VmVn35nvKnVhELAImABNyA/ttYHNgeET8Q9IYliR4ASCpNynTuuI+ZmbWPtwod1J5MYnFEfFMLhoKPEVqlN/IWdYjgZsaHFpqgJfaJyLelvS2pB0i4iFSkEiTHB5iZlY7bpQ7rz7AeXnY+SPgb6Sh7LeBx4FXgMkND8qN76UV9vkGcIWkIN2zNjOzNqQIL/JjLTdg3U3itGPGAg7dMDOrlqSpETG8Ybkf9OpgJC3KQSAzJU2TtF0u/4SkhkPRNLWtlXW5I/fEzcysDXj4uuOZX1o+UdIewOnAZ3O29TKJXJJ6VtrWWhGxV63PaWZmlbmn3LH1Bd6CpWMvJR0uaZyk+4DxDbY9KOk/ayJLekjSEElbS3pE0nRJf8kPipXOdYukOyU9I+mXhWNfyElhZmbWBtxT7nhWlDSD9JT02qR5xOVsCWweEW9K6l8ovxw4HDhe0qeA3hExU1JfYMeI+EjSrsDPgQPyMUOBLYAFwFOSzouIf1SqYF63eRTA6quu1bKrNDOzZbin3PHMj4ihETGQtIziNeWiMoF7IuLNMuU3AntL6gUcAVyVy/sBN+Ye9dksHSoyPiLeiYgPgCeA9RuroMNDzMzqw41yBxYRjwBrAGuW2TyvwjHvA/cA+5LWV74ub/oJcH+O1vwiSweGLCi8XoRHUMzM2oX/59uBSRoI9AD+DazUjEMvA/4ITIyIt3JZP+Cf+fXhtaqjmZnVjhvljqd0TxlAwGERsaj8CHZ5ETFV0rukBSZKfglcLelk4PZaVdaJXmZmtePwkC5I0idImdgDI2JxPT9r+PDhMWXKlHp+hJlZl+PwkC5I0kmS5kialQNHPiPp68BjwElNNciSdpb0pwrbLpM0qKk6vPnKe1x7xgNce8YDLbsIMzP7Dw9fd1KStiWtg7xlRCzI84mXj4jHgGtae/6I+FZrz2FmZs3jnnLntTbwRkQsAIiINyLiX8XAD0nDJU3Irz+be9MzcoDIKvk8fSTdJOlJSdeVpl9JmiBpmaEVMzOrHzfKndfdwHqSnpZ0oaSmnrYaDRydIzx3BObn8i2A44FBwABg+3pV2MzMGudGuZOKiLnAMFKy1uvA7yQd3sghDwO/lnQcsGpEfJTLJ0XES/n+8wygf1OfLWmUpCmSprw7753WXIaZmRW4Ue7EImJRREyIiB8Dx5BiMz9iyd9r78K+ZwDfAlYEHs5zoKEFwSFO9DIzqw8/6NVJ5QUlFkfEM7loKPAiqdEdBvyZJdnWSNowImYDsyVtBQwE3m7bWpuZWWPcKHdefYDz8nrHHwF/Iw1lbwpcLuknpLnKJcdLGgEsBuaQGu1tW1sJh4eYmdWOw0OsVRweYmbWfJXCQ9xTtlYphYe0FffKzawr84Ne7UxSSLq28L6npNcrJW1Vcb6jcqqXmZl1Mu4pt795wGBJK0bEfGA3lqzm1GwRcXHNamZmZm3KPeWO4Q7gC/n1IcD1pQ2SVpZ0haRJOYlr31z+G0mn5Nd7SHpQ0nKSxkgancs3knSvpJmSpknaUFIfSePz+9mF8/WX9FdJl+Y87bslrdim34KZWTfnRrljuAE4WFJvYHPSghIlJwH3RcTWwAjgTEkrAz8CDspPVJ8LfKPMAhTXARdExBBgO+Bl4ANg/4jYMp/vrFK0JrBx3n8z0nSpAyjD4SFmZvXh4esOICJmSepP6iXf0WDz7sA+pd4vKRDkkxHxV0lHAg8CJ0TEs8WDcrb1OhFxa/6MD3J5L+DnknYiTY9aB1grH/Z8RJTWcp5KhXSviBgLjAUYsO4mfnzfzKxG3Ch3HOOAXwE7A6sXygUcEBFPlTnm08C/gU8043MOBdYEhkXEQkkvsCT5q2G6l4evzczakIevO44rgFNz6lbRXcCxhdWbtsh/rg98j7SgxJ6SPlM8KCLeA16StF/efwVJKwH9gNdygzwCWL+eF2VmZtVzT7mDiIiXSPeGG/oJcA4wS9JywPOSvghcDozOyzV+E7gqx2cWfQ24RNJpwELgQNJ95j9Kmg1MAZ5sTb2d6GVmVjtO9LJWkfQeUG5o3WAN4I32rkQH5e+mPH8vlXW172b9iFizYaF7ytZaT5WLijOQNMXfTXn+bsrz91JZd/lufE/ZzMysg3CjbGZm1kG4UbbWGtveFejA/N1U5u+mPH8vlXWL78YPepmZmXUQ7imbmZl1EG6UzczMOgg3ytYikj4v6SlJf5N0YnvXpz1JWk/S/ZKeyCtsfSeXrybpHknP5D//q73r2l4k9cirnP0pv99A0mP59+d3kpZv7zq2B0mrSrpJ0pN5lbZt/XuTSDoh//f0uKTrJfXuDr83bpSt2ST1AC4A9gQGAYdIGtS+tWpXHwHfi4hBwDbA0fn7OBEYHxEbA+Pz++7qO8BfC+9/AZwdERsBbwHfbJdatb/fAHdGxEBgCOk76va/N5LWAY4DhkfEYKAHcDDd4PfGjbK1xNbA3yLiuYj4kLT05L7tXKd2ExEvR8S0/Po90v9Y1yF9J1fn3a4G9mufGrYvSeuS1gu/LL8X8DngprxLt/xuJPUDdiJF5hIRH0bE2/j3pqQnsKKknsBKpKVnu/zvjRtla4l1gH8U3r+Uy7q9vATnFqQ1sdeKiJfzpldYskRmd3MO8APSUqGQVkF7OyI+yu+76+/PBsDrwJV5aP+yvFZ6t/+9iYh/klbN+zupMX6HtJxsl/+9caNsViOS+gA3A8dHxLvFbZHmHna7+YeS9iatSja1vevSAfUEtgQuiogtgHk0GKruxr83/0UaMdiAtDTtysDn27VSbcSNsrXEP4H1Cu/XzWXdlqRepAb5uoi4JRe/KmntvH1t4LX2ql872h7YJ6/bfQNp+PE3wKp5WBK67+/PS8BLEfFYfn8TqZH27w3sCjwfEa9HxELgFtLvUpf/vXGjbC0xGdg4Pwm5POkBjHHtXKd2k++RXg78NSJ+Xdg0Djgsvz4M+ENb1629RcSPImLdiOhP+j25LyIOBe4HRubduut38wrwD0mb5KJdgCfw7w2kYettJK2U//sqfTdd/vfGiV7WIpL2It0r7AFcERE/a+cqtRtJOwATgdksuW/6P6T7yr8HPgm8CHw5It5sl0p2AJJ2Jq0BvrekAaSe82rAdOCrEbGgPevXHiQNJT0AtzzwHPANUmep2//eSDoVOIg0u2E68C3SPeQu/XvjRtnMzKyD8PC1mZlZB+FG2czMrINwo2xmZtZBuFE2MzPrINwom5mZdRBulM2sapJC0lmF96MljanRua+SNLLpPVv9OQfmFZnub1DeX9J8STPyil8XS6rZ/yPz+R+v1fmsa3KjbGbNsQD4kqQ12rsiRYWUp2p8EzgyIkaU2fZsRAwFNietgNblFjywjs2Nspk1x0fAWOCEhhsa9nQlzc1/7izpAUl/kPScpDMkHSppkqTZkjYsnGZXSVMkPZ1zs0trMZ8pabKkWZK+XTjvREnjSGlPDetzSD7/45J+kctOAXYALpd0ZqWLzIse/AXYSNKakm7Onz9Z0vb5XKtJui3X6VFJm+fyMZJ+K+mRvCbykWXqVvaazJrzr0szM0hrac+S9MtmHDME2BR4k5RcdVlEbC3pO8CxwPF5v/6kpUE3BO6XtBHwdeCdiNhK0grAw5LuzvtvCQyOiOeLHybpE6S1d4eR1t29W9J+EXGapM+RksWmVKqspJVI0Y6nkLK6z46IhyR9ErgrX8upwPSI2C+f8xpgaD7F5qS1tVcGpku6vcFHfLPcNTW8Dut+3CibWbNExLuSriEtQj+/ysMml5YjlPQsUGpUZwPFYeTfR8Ri4BlJzwEDgd2BzQu98H7AxsCHwKQKDdlWwISIeD1/5nWktYtva6KeG0qaQVqZ6Q8R8WdJVwODUgQzAH3zimA7AAcARMR9klaX1Dfv84eImA/Mz/eutwZmFD6n0jW5Ue7m3CibWUucA0wDriyUfUS+JZYfkFq+sK2YT7y48H4xS/9/qGHubwACjo2Iu4obcpb2vJZVv6LSPeWi5YBtIuKDBp/f2HnKXcdSh1Pmmsx8T9nMmi0vkPB70jBsyQuk4WKAfYBeLTj1gZKWy/eZBwBPkYaL/19eHhNJn5K0chPnmQR8VtIaknoAhwAPtKA+kHr1x5be5EUkIC1Ccmgu2xl4o7CO9r6SektaHdiZtLJaUUuuyboB95TNrKXOAo4pvL8U+IOkmcCdtKwX+3dSg9oXOCoiPpB0Gele87S8jN/rNPFUdES8LOlE0lJ/Am6PiJYu83cccIGkWaT/Zz4IHAWMAa7I5e+zZLlFgFn5s9cAfhIR/5LUv7C92ddk3YNXiTIzq6E8b3tuRPyqvetinY+Hr83MzDoI95TNzMw6CPeUzczMOgg3ymZmZh2EG2UzM7MOwo2ymZlZB+FG2czMrIP4/+GMl9hRwMqkAAAAAElFTkSuQmCC\n"
          },
          "metadata": {
            "needs_background": "light"
          }
        }
      ],
      "metadata": {
        "colab": {
          "base_uri": "https://localhost:8080/"
        },
        "id": "LJR36cTzWHLd",
        "outputId": "6c0550c4-bade-4190-e7e6-cd4c686e5fc4"
      },
      "execution_count": null,
      "outputs": [
        {
          "output_type": "stream",
          "name": "stdout",
          "text": [
            "New_Tech: 0.01804467371719557\n",
            "Impulsive_Decision: -1.0689127245912267\n",
            "Busy_To_Cook: 0.08141504728003995\n",
            "Dont_Like_To_Cook: -0.6173367198267719\n",
            "Ordering_Easy: -0.003313700249449797\n",
            "Options_To_Choose: 0.04814142532804072\n",
            "Ordering_Inexpensive: 0.5092982815923135\n",
            "Promo_Discounts: 0.5614262270580554\n",
            "Quick_Delivery: 0.3652979259480113\n",
            "Food_Safety: 0.1157649162946231\n",
            "Nutritious: 0.2102337376017522\n",
            "\n",
            "Most Influencing Factor: Promo_Discounts\n"
          ]
        }
      ]
    },
    {
      "cell_type": "markdown",
      "source": [
        "# **Decision Tree**"
      ],
      "metadata": {
        "id": "RLZEyAhzQql6"
      }
    },
    {
      "cell_type": "code",
      "source": [
        "# Extract the independent variables (factors) and the dependent variable (orders)\n",
        "X = behavioral_data_encoded\n",
        "y = df2['Order_Per_Month']\n",
        "\n",
        "# Split the data into training and testing sets\n",
        "X_train, X_test, y_train, y_test = train_test_split(X, y, test_size=0.2, random_state=42)\n",
        "\n",
        "# Create a DecisionTreeRegressor object and fit it to the training data\n",
        "model = DecisionTreeRegressor()\n",
        "model.fit(X_train, y_train)\n",
        "\n",
        "# Use the model to predict the number of orders on the testing data\n",
        "y_pred = model.predict(X_test)\n",
        "\n",
        "# # Check the model's R-squared value (a measure of the model's goodness of fit)\n",
        "# r_squared = model.score(X_test, y_test)\n",
        "# print(\"R-squared: \", r_squared)\n",
        "\n",
        "#check the feature importance\n",
        "dt_importance = model.feature_importances_\n",
        "dt_max = 0\n",
        "dt_max_index = 0\n",
        "for i in range(len(X.columns)):\n",
        "  if dt_importance[i] > dt_max:\n",
        "      dt_max = dt_importance[i]\n",
        "      dt_max_index = i\n",
        "  # print(f\"{X.columns[i]}: {dt_importance[i]}\")\n",
        "  print(f\"{dt_importance[i]}\")\n",
        "\n",
        "print(\"\\nMost Influencing Factor: \" + X.columns[dt_max_index])"
      ],
      "metadata": {
        "colab": {
          "base_uri": "https://localhost:8080/"
        },
        "id": "1beYb8PWN23k",
        "outputId": "29b2b65d-63e6-4b46-e2cd-a21ac283094e"
      },
      "execution_count": null,
      "outputs": [
        {
          "output_type": "stream",
          "name": "stdout",
          "text": [
            "0.09217617941485542\n",
            "0.13253198776814176\n",
            "0.049411921596728754\n",
            "0.05184418312821428\n",
            "0.019355400696864117\n",
            "0.011731928543775217\n",
            "0.035089927569944\n",
            "0.5070748919135916\n",
            "0.03722222222222219\n",
            "0.000425861401471156\n",
            "0.06313549574419138\n",
            "\n",
            "Most Influencing Factor: Promo_Discounts\n"
          ]
        }
      ]
    },
    {
      "cell_type": "markdown",
      "source": [
        "# **Random Forest**"
      ],
      "metadata": {
        "id": "yc719q0kQoEZ"
      }
    },
    {
      "cell_type": "code",
      "source": [
        "# Extract the independent variables (factors) and the dependent variable (orders)\n",
        "X = behavioral_data_encoded\n",
        "y = df2['Order_Per_Month']\n",
        "\n",
        "# Split the data into training and testing sets\n",
        "X_train, X_test, y_train, y_test = train_test_split(X, y, test_size=0.2, random_state=42)\n",
        "\n",
        "# Create a RandomForestRegressor object and fit it to the training data\n",
        "model = RandomForestRegressor(n_estimators=100)\n",
        "model.fit(X_train, y_train)\n",
        "\n",
        "# Use the model to predict the number of orders on the testing data\n",
        "y_pred = model.predict(X_test)\n",
        "\n",
        "# # Check the model's R-squared value (a measure of the model's goodness of fit)\n",
        "# r_squared = model.score(X_test, y_test)\n",
        "# print(\"R-squared: \", r_squared)\n",
        "\n",
        "#check the feature importance\n",
        "rf_importance = model.feature_importances_\n",
        "rf_max = 0\n",
        "rf_max_index = 0\n",
        "for i in range(len(X.columns)):\n",
        "  \n",
        "    if rf_importance[i] > rf_max:\n",
        "      rf_max = rf_importance[i]\n",
        "      rf_max_index = i\n",
        "    print(f\"{X.columns[i]}: {rf_importance[i]}\")\n",
        "\n",
        "print(\"\\nMost Influencing Factor: \" + X.columns[rf_max_index])"
      ],
      "metadata": {
        "colab": {
          "base_uri": "https://localhost:8080/"
        },
        "id": "JHVJJaTOPWCy",
        "outputId": "d9787416-bff8-47a7-f5b4-ad235fbfd7cd"
      },
      "execution_count": null,
      "outputs": [
        {
          "output_type": "stream",
          "name": "stdout",
          "text": [
            "New_Tech: 0.0697501477910417\n",
            "Impulsive_Decision: 0.1766477120163295\n",
            "Busy_To_Cook: 0.04024321583021763\n",
            "Dont_Like_To_Cook: 0.0958142719008788\n",
            "Ordering_Easy: 0.05144834400079796\n",
            "Options_To_Choose: 0.07731559608922967\n",
            "Ordering_Inexpensive: 0.037897638696857326\n",
            "Promo_Discounts: 0.27734007964516083\n",
            "Quick_Delivery: 0.07200064033347699\n",
            "Food_Safety: 0.051026459740046944\n",
            "Nutritious: 0.050515893955962836\n",
            "\n",
            "Most Influencing Factor: Promo_Discounts\n"
          ]
        }
      ]
    },
    {
      "cell_type": "code",
      "source": [
        "behavioral_data_encoded"
      ],
      "metadata": {
        "colab": {
          "base_uri": "https://localhost:8080/",
          "height": 424
        },
        "id": "XMkCt1eAM_vl",
        "outputId": "49252e62-00e2-4b98-a386-7f9cd4b25597"
      },
      "execution_count": null,
      "outputs": [
        {
          "output_type": "execute_result",
          "data": {
            "text/plain": [
              "     New_Tech  Impulsive_Decision  Busy_To_Cook  Dont_Like_To_Cook  \\\n",
              "0           0                   3             1                  1   \n",
              "1           3                   2             2                  1   \n",
              "2           2                   2             1                  1   \n",
              "3           2                   0             2                  2   \n",
              "4           0                   0             2                  1   \n",
              "..        ...                 ...           ...                ...   \n",
              "106         3                   3             1                  3   \n",
              "107         0                   0             2                  2   \n",
              "108         2                   2             1                  1   \n",
              "109         3                   0             3                  3   \n",
              "110         2                   4             2                  4   \n",
              "\n",

              "\n",
              "     Quick_Delivery  Food_Safety  Nutritious  \n",
              "0                 2            1           4  \n",
              "1                 1            2           2  \n",
              "2                 0            2           2  \n",
              "3                 0            2           2  \n",
              "4                 2            0           2  \n",
              "..              ...          ...         ...  \n",
              "106               2            1           0  \n",
              "107               0            0           0  \n",
              "108               2            1           1  \n",
              "109               2            2           0  \n",
              "110               2            2           2  \n",
              "\n",
              "[111 rows x 11 columns]"
            ],
            "text/html": [
              "\n",
              "  <div id=\"df-7a1dc6a2-b44a-45a5-a502-e4f96f9ee2fe\">\n",
              "    <div class=\"colab-df-container\">\n",
              "      <div>\n",
              "<style scoped>\n",
              "    .dataframe tbody tr th:only-of-type {\n",
              "        vertical-align: middle;\n",
              "    }\n",
              "\n",
              "    .dataframe tbody tr th {\n",
              "        vertical-align: top;\n",
              "    }\n",
              "\n",
              "    .dataframe thead th {\n",
              "        text-align: right;\n",
              "    }\n",
              "</style>\n",
              "<table border=\"1\" class=\"dataframe\">\n",
              "  <thead>\n",
              "    <tr style=\"text-align: right;\">\n",
              "      <th></th>\n",
              "      <th>New_Tech</th>\n",
              "      <th>Impulsive_Decision</th>\n",
              "      <th>Busy_To_Cook</th>\n",
              "      <th>Dont_Like_To_Cook</th>\n",
              "      <th>Ordering_Easy</th>\n",
              "      <th>Options_To_Choose</th>\n",
              "      <th>Ordering_Inexpensive</th>\n",
              "      <th>Promo_Discounts</th>\n",
              "      <th>Quick_Delivery</th>\n",
              "      <th>Food_Safety</th>\n",
              "      <th>Nutritious</th>\n",
              "    </tr>\n",
              "  </thead>\n",
              "  <tbody>\n",
              "    <tr>\n",
              "      <th>0</th>\n",
              "      <td>0</td>\n",
              "      <td>3</td>\n",
              "      <td>1</td>\n",
              "      <td>1</td>\n",
              "      <td>3</td>\n",
              "      <td>0</td>\n",
              "      <td>2</td>\n",
              "      <td>3</td>\n",
              "      <td>2</td>\n",
              "      <td>1</td>\n",
              "      <td>4</td>\n",
              "    </tr>\n",
              "    <tr>\n",
              "      <th>1</th>\n",
              "      <td>3</td>\n",
              "      <td>2</td>\n",
              "      <td>2</td>\n",
              "      <td>1</td>\n",
              "      <td>0</td>\n",
              "      <td>3</td>\n",
              "      <td>1</td>\n",
              "      <td>0</td>\n",
              "      <td>1</td>\n",
              "      <td>2</td>\n",
              "      <td>2</td>\n",
              "    </tr>\n",
              "    <tr>\n",
              "      <th>2</th>\n",
              "      <td>2</td>\n",
              "      <td>2</td>\n",
              "      <td>1</td>\n",
              "      <td>1</td>\n",
              "      <td>3</td>\n",
              "      <td>3</td>\n",
              "      <td>3</td>\n",
              "      <td>3</td>\n",
              "      <td>0</td>\n",
              "      <td>2</td>\n",
              "      <td>2</td>\n",
              "    </tr>\n",
              "    <tr>\n",
              "      <th>3</th>\n",
              "      <td>2</td>\n",
              "      <td>0</td>\n",
              "      <td>2</td>\n",
              "      <td>2</td>\n",
              "      <td>0</td>\n",
              "      <td>0</td>\n",
              "      <td>0</td>\n",
              "      <td>3</td>\n",
              "      <td>0</td>\n",
              "      <td>2</td>\n",
              "      <td>2</td>\n",
              "    </tr>\n",
              "    <tr>\n",
              "      <th>4</th>\n",
              "      <td>0</td>\n",
              "      <td>0</td>\n",
              "      <td>2</td>\n",
              "      <td>1</td>\n",
              "      <td>3</td>\n",
              "      <td>3</td>\n",
              "      <td>3</td>\n",
              "      <td>3</td>\n",
              "      <td>2</td>\n",
              "      <td>0</td>\n",
              "      <td>2</td>\n",
              "    </tr>\n",
              "    <tr>\n",
              "      <th>...</th>\n",
              "      <td>...</td>\n",
              "      <td>...</td>\n",
              "      <td>...</td>\n",
              "      <td>...</td>\n",
              "      <td>...</td>\n",
              "      <td>...</td>\n",
              "      <td>...</td>\n",
              "      <td>...</td>\n",
              "      <td>...</td>\n",
              "      <td>...</td>\n",
              "      <td>...</td>\n",
              "    </tr>\n",
              "    <tr>\n",
              "      <th>106</th>\n",
              "      <td>3</td>\n",
              "      <td>3</td>\n",
              "      <td>1</td>\n",
              "      <td>3</td>\n",
              "      <td>3</td>\n",
              "      <td>3</td>\n",
              "      <td>2</td>\n",
              "      <td>0</td>\n",
              "      <td>2</td>\n",
              "      <td>1</td>\n",
              "      <td>0</td>\n",
              "    </tr>\n",
              "    <tr>\n",
              "      <th>107</th>\n",
              "      <td>0</td>\n",
              "      <td>0</td>\n",
              "      <td>2</td>\n",
              "      <td>2</td>\n",
              "      <td>3</td>\n",
              "      <td>0</td>\n",
              "      <td>0</td>\n",
              "      <td>0</td>\n",
              "      <td>0</td>\n",
              "      <td>0</td>\n",
              "      <td>0</td>\n",
              "    </tr>\n",
              "    <tr>\n",
              "      <th>108</th>\n",
              "      <td>2</td>\n",
              "      <td>2</td>\n",
              "      <td>1</td>\n",
              "      <td>1</td>\n",
              "      <td>2</td>\n",
              "      <td>2</td>\n",
              "      <td>1</td>\n",
              "      <td>2</td>\n",
              "      <td>2</td>\n",
              "      <td>1</td>\n",
              "      <td>1</td>\n",
              "    </tr>\n",
              "    <tr>\n",
              "      <th>109</th>\n",
              "      <td>3</td>\n",
              "      <td>0</td>\n",
              "      <td>3</td>\n",
              "      <td>3</td>\n",
              "      <td>3</td>\n",
              "      <td>3</td>\n",
              "      <td>4</td>\n",
              "      <td>4</td>\n",
              "      <td>2</td>\n",
              "      <td>2</td>\n",
              "      <td>0</td>\n",
              "    </tr>\n",
              "    <tr>\n",
              "      <th>110</th>\n",
              "      <td>2</td>\n",
              "      <td>4</td>\n",
              "      <td>2</td>\n",
              "      <td>4</td>\n",
              "      <td>3</td>\n",
              "      <td>0</td>\n",
              "      <td>1</td>\n",
              "      <td>4</td>\n",
              "      <td>2</td>\n",
              "      <td>2</td>\n",
              "      <td>2</td>\n",
              "    </tr>\n",
              "  </tbody>\n",
              "</table>\n",
              "<p>111 rows × 11 columns</p>\n",
              "</div>\n",
              "      <button class=\"colab-df-convert\" onclick=\"convertToInteractive('df-7a1dc6a2-b44a-45a5-a502-e4f96f9ee2fe')\"\n",
              "              title=\"Convert this dataframe to an interactive table.\"\n",
              "              style=\"display:none;\">\n",
              "        \n",
              "  <svg xmlns=\"http://www.w3.org/2000/svg\" height=\"24px\"viewBox=\"0 0 24 24\"\n",
              "       width=\"24px\">\n",
              "    <path d=\"M0 0h24v24H0V0z\" fill=\"none\"/>\n",
              "    <path d=\"M18.56 5.44l.94 2.06.94-2.06 2.06-.94-2.06-.94-.94-2.06-.94 2.06-2.06.94zm-11 1L8.5 8.5l.94-2.06 2.06-.94-2.06-.94L8.5 2.5l-.94 2.06-2.06.94zm10 10l.94 2.06.94-2.06 2.06-.94-2.06-.94-.94-2.06-.94 2.06-2.06.94z\"/><path d=\"M17.41 7.96l-1.37-1.37c-.4-.4-.92-.59-1.43-.59-.52 0-1.04.2-1.43.59L10.3 9.45l-7.72 7.72c-.78.78-.78 2.05 0 2.83L4 21.41c.39.39.9.59 1.41.59.51 0 1.02-.2 1.41-.59l7.78-7.78 2.81-2.81c.8-.78.8-2.07 0-2.86zM5.41 20L4 18.59l7.72-7.72 1.47 1.35L5.41 20z\"/>\n",
              "  </svg>\n",
              "      </button>\n",
              "      \n",
              "  <style>\n",
              "    .colab-df-container {\n",
              "      display:flex;\n",
              "      flex-wrap:wrap;\n",
              "      gap: 12px;\n",
              "    }\n",
              "\n",
              "    .colab-df-convert {\n",
              "      background-color: #E8F0FE;\n",
              "      border: none;\n",
              "      border-radius: 50%;\n",
              "      cursor: pointer;\n",
              "      display: none;\n",
              "      fill: #1967D2;\n",
              "      height: 32px;\n",
              "      padding: 0 0 0 0;\n",
              "      width: 32px;\n",
              "    }\n",
              "\n",
              "    .colab-df-convert:hover {\n",
              "      background-color: #E2EBFA;\n",
              "      box-shadow: 0px 1px 2px rgba(60, 64, 67, 0.3), 0px 1px 3px 1px rgba(60, 64, 67, 0.15);\n",
              "      fill: #174EA6;\n",
              "    }\n",
              "\n",
              "    [theme=dark] .colab-df-convert {\n",
              "      background-color: #3B4455;\n",
              "      fill: #D2E3FC;\n",
              "    }\n",
              "\n",
              "    [theme=dark] .colab-df-convert:hover {\n",
              "      background-color: #434B5C;\n",
              "      box-shadow: 0px 1px 3px 1px rgba(0, 0, 0, 0.15);\n",
              "      filter: drop-shadow(0px 1px 2px rgba(0, 0, 0, 0.3));\n",
              "      fill: #FFFFFF;\n",
              "    }\n",
              "  </style>\n",
              "\n",
              "      <script>\n",
              "        const buttonEl =\n",
              "          document.querySelector('#df-7a1dc6a2-b44a-45a5-a502-e4f96f9ee2fe button.colab-df-convert');\n",
              "        buttonEl.style.display =\n",
              "          google.colab.kernel.accessAllowed ? 'block' : 'none';\n",
              "\n",
              "        async function convertToInteractive(key) {\n",
              "          const element = document.querySelector('#df-7a1dc6a2-b44a-45a5-a502-e4f96f9ee2fe');\n",
              "          const dataTable =\n",
              "            await google.colab.kernel.invokeFunction('convertToInteractive',\n",
              "                                                     [key], {});\n",
              "          if (!dataTable) return;\n",
              "\n",
              "          const docLinkHtml = 'Like what you see? Visit the ' +\n",
              "            '<a target=\"_blank\" href=https://colab.research.google.com/notebooks/data_table.ipynb>data table notebook</a>'\n",
              "            + ' to learn more about interactive tables.';\n",
              "          element.innerHTML = '';\n",
              "          dataTable['output_type'] = 'display_data';\n",
              "          await google.colab.output.renderOutput(dataTable, element);\n",
              "          const docLink = document.createElement('div');\n",
              "          docLink.innerHTML = docLinkHtml;\n",
              "          element.appendChild(docLink);\n",
              "        }\n",
              "      </script>\n",
              "    </div>\n",
              "  </div>\n",
              "  "
            ]
          },
          "metadata": {},
          "execution_count": 235
        }
      ]
    },
    {
      "cell_type": "code",
      "source": [
        "ols_data = behavioral_data_encoded\n",
        "ols_data['Order_Per_Month'] = df2['Order_Per_Month']"
      ],
      "metadata": {
        "id": "o-2FWtDmn1z6"
      },
      "execution_count": null,
      "outputs": []
    },
    {
      "cell_type": "code",
      "source": [
        "from statsmodels.formula.api import ols\n",
        "\n",
        "# Define the SEM model\n",
        "model = ols(\"Order_Per_Month ~ New_Tech + Impulsive_Decision + Busy_To_Cook + Dont_Like_To_Cook + Ordering_Easy\t+ Options_To_Choose\t+ Ordering_Inexpensive + Promo_Discounts + Quick_Delivery + Food_Safety + Nutritious\", ols_data).fit()\n",
        "\n",
        "# Print summary of the model\n",
        "print(model.summary())\n",
        "\n"
      ],
      "metadata": {
        "colab": {
          "base_uri": "https://localhost:8080/"
        },
        "id": "2OPezuSJnwDd",
        "outputId": "968ad69e-065e-41e1-e2e4-1d038fbea5b7"
      },
      "execution_count": null,
      "outputs": [
        {
          "output_type": "stream",
          "name": "stdout",
          "text": [
            "                            OLS Regression Results                            \n",
            "==============================================================================\n",
            "Dep. Variable:        Order_Per_Month   R-squared:                       0.092\n",
            "Model:                            OLS   Adj. R-squared:                 -0.009\n",
            "Method:                 Least Squares   F-statistic:                    0.9148\n",
            "Date:                Sat, 14 Jan 2023   Prob (F-statistic):              0.529\n",
            "Time:                        10:11:14   Log-Likelihood:                -326.95\n",
            "No. Observations:                 111   AIC:                             677.9\n",
            "Df Residuals:                      99   BIC:                             710.4\n",
            "Df Model:                          11                                         \n",
            "Covariance Type:            nonrobust                                         \n",
            "Quick_Delivery           0.6154      0.408      1.509      0.135      -0.194       1.425\n",
            "Food_Safety             -0.0173      0.559     -0.031      0.975      -1.127       1.092\n",
            "Nutritious               0.1568      0.387      0.405      0.687      -0.612       0.925\n",
            "==============================================================================\n",
            "Omnibus:                       74.676   Durbin-Watson:                   2.072\n",
            "Prob(Omnibus):                  0.000   Jarque-Bera (JB):              367.047\n",
            "Skew:                           2.352   Prob(JB):                     1.98e-80\n",
            "Kurtosis:                      10.565   Cond. No.                         18.8\n",
            "==============================================================================\n",
            "\n",
            "Notes:\n",
            "[1] Standard Errors assume that the covariance matrix of the errors is correctly specified.\n"
          ]
        }
      ]
    },
    {
      "cell_type": "markdown",
      "source": [
        "## **Hypothesis Testing**"
      ],
      "metadata": {
        "id": "Laiu3b-G8HOk"
      }
    },
    {
      "cell_type": "markdown",
      "source": [
        "**Null Hypothesis:** There is no relationship between trying out new technology and thinking ordering online is easy.<br>\n",
        "**Alternate Hypothesis:** There is a significant relationship between trying out new technology and thinking ordering online is easy.<br><br>\n",
        "As people who try new technologies (e.g. online ordering platforms or mobile apps) can find it easier to place an order."
      ],
      "metadata": {
        "id": "wCEsolih81lf"
      }
    },
    {
      "cell_type": "markdown",
      "source": [
        "**Chi-Squared Test**"
      ],
      "metadata": {
        "id": "fzEp54fCfqOz"
      }
    },
    {
      "cell_type": "code",
      "source": [
        "# Define the significance level\n",
        "alpha = 0.05\n",
        "\n",
        "factor1 = 'New_Tech'\n",
        "factor2 = 'Ordering_Easy'\n",
        "# Create a contingency table\n",
        "ct = pd.crosstab(behavioral_data_encoded[factor1], behavioral_data_encoded[factor2])\n",
        "\n",
        "# Perform the chi-square test\n",
        "chi2, p, dof, expected = chi2_contingency(ct)\n",
        "\n",
        "\n",
        "# Print the results\n",
        "if p < alpha:\n",
        "  print(f'{factor1} has significant relationship with Ordering_Easy (p = {p:.6f})\\n')\n",
        "else:\n",
        "  print(f'{factor1} has no relationship with Ordering_Easy (p = {p:.6f})')"
      ],
      "metadata": {
        "colab": {
          "base_uri": "https://localhost:8080/"
        },
        "id": "bgjvAJlw8J02",
        "outputId": "6f4e67ec-352f-4ee4-e5bb-65c85a8af377"
      },
      "execution_count": null,
      "outputs": [
        {
          "output_type": "stream",
          "name": "stdout",
          "text": [
            "New_Tech has significant relationship with Ordering_Easy (p = 0.000020)\n",
            "\n"
          ]
        }
      ]
    },
    {
      "cell_type": "markdown",
      "source": [
        "**Spearman's rank correlation coefficient**"
      ],
      "metadata": {
        "id": "Yaf3K4j1fn1Y"
      }
    },
    {
      "cell_type": "code",
      "source": [
        "# Define the significance level\n",
        "alpha = 0.05\n",
        "\n",
        "factor = 'New_Tech'\n",
        "factor2 = 'Ordering_Easy'\n",
        "\n",
        "# Calculate spearman rank correlation\n",
        "corr, pvalue = spearmanr(behavioral_data_encoded[factor], behavioral_data_encoded[factor2])\n",
        "\n",
        "print(\"Spearman rank correlation between New_Tech and Ordering_Easy:\")\n",
        "print(\"correlation coefficient: \", corr)\n",
        "print(\"p-value: \", pvalue)\n",
        "\n",
        "# Print the results\n",
        "if pvalue < alpha:\n",
        "  print(f'{factor} has significant relationship with Ordering_Easy (p = {pvalue:.6f})\\n')\n",
        "else:\n",
        "  print(f'{factor} has no relationship with Ordering_Easy (p = {pvalue:.6f})')"
      ],
      "metadata": {
        "colab": {
          "base_uri": "https://localhost:8080/"
        },
        "id": "Ar85tDhJfAau",
        "outputId": "57a83b1e-9925-4b52-83b5-819cb150cfaf"
      },
      "execution_count": null,
      "outputs": [
        {
          "output_type": "stream",
          "name": "stdout",
          "text": [
            "Spearman rank correlation between New_Tech and Ordering_Easy:\n",
            "correlation coefficient:  0.10368474056996041\n",
            "p-value:  0.2788339357362308\n",
            "New_Tech has no relationship with Ordering_Easy (p = 0.278834)\n"
          ]
        }
      ]
    },
    {
      "cell_type": "markdown",
      "source": [
        "**Null Hypothesis:** There is no relationship between making impulsive decision when ordering food and being too busy to cook.<br>\n",
        "**Alternate Hypothesis:** There is a significant relationship between making impulsive decision when ordering food and being too busy to cook.<br><br>\n",
        "As individuals who are busy may be more likely to make impulsive decisions to order food rather than cook at home"
      ],
      "metadata": {
        "id": "7p05sdAD-lYG"
      }
    },
    {
      "cell_type": "markdown",
      "source": [
        "**Chi-Squared Test**"
      ],
      "metadata": {
        "id": "BbZNO6MCelHi"
      }
    },
    {
      "cell_type": "code",
      "source": [
        "# Define the significance level\n",
        "alpha = 0.05\n",
        "\n",
        "factor = 'Busy_To_Cook'\n",
        "factor2 = 'Impulsive_Decision'\n",
        "# Create a contingency table\n",
        "ct = pd.crosstab(behavioral_data_encoded[factor], behavioral_data_encoded[factor2])\n",
        "\n",
        "# Perform the chi-square test\n",
        "chi2, p, dof, expected = chi2_contingency(ct)\n",
        "\n",
        "# Print the results\n",
        "if p < alpha:\n",
        "  print(f'{factor} has significant relationship with Impulsive_Decision (p = {p:.6f})\\n')\n",
        "else:\n",
        "  print(f'{factor} has no relationship with Impulsive_Decision (p = {p:.6f})')"
      ],
      "metadata": {
        "colab": {
          "base_uri": "https://localhost:8080/"
        },
        "id": "HoCMgzKN-ZB8",
        "outputId": "88173409-f337-4f70-fe99-d25287de86e1"
      },
      "execution_count": null,
      "outputs": [
        {
          "output_type": "stream",
          "name": "stdout",
          "text": [
            "Busy_To_Cook has no relationship with Impulsive_Decision (p = 0.114328)\n"
          ]
        }
      ]
    },
    {
      "cell_type": "markdown",
      "source": [
        "**Spearman's rank correlation coefficient**"
      ],
      "metadata": {
        "id": "S1KlfkIVenSV"
      }
    },
    {
      "cell_type": "code",
      "source": [
        "# Define the significance level\n",
        "alpha = 0.05\n",
        "\n",
        "factor = 'Busy_To_Cook'\n",
        "factor2 = 'Impulsive_Decision'\n",
        "\n",
        "# Calculate spearman rank correlation\n",
        "corr, pvalue = spearmanr(behavioral_data_encoded[factor], behavioral_data_encoded[factor2])\n",
        "\n",
        "print(\"Spearman rank correlation between Busy_To_Cook and Impulsive_Decision:\")\n",
        "print(\"correlation coefficient: \", corr)\n",
        "print(\"p-value: \", pvalue)\n",
        "\n",
        "# Print the results\n",
        "if pvalue < alpha:\n",
        "  print(f'{factor} has significant relationship with Impulsive_Decision (p = {pvalue:.6f})\\n')\n",
        "else:\n",
        "  print(f'{factor} has no relationship with Impulsive_Decision (p = {pvalue:.6f})')"
      ],
      "metadata": {
        "colab": {
          "base_uri": "https://localhost:8080/"
        },
        "id": "BdGnAAGOebg3",
        "outputId": "746319be-475c-4e43-c88a-f4f462eb0357"
      },
      "execution_count": null,
      "outputs": [
        {
          "output_type": "stream",
          "name": "stdout",
          "text": [
            "Spearman rank correlation between Busy_To_Cook and Impulsive_Decision:\n",
            "correlation coefficient:  0.010932354539183897\n",
            "p-value:  0.9093336662017517\n",
            "Busy_To_Cook has no relationship with Impulsive_Decision (p = 0.909334)\n"
          ]
        }
      ]
    },
    {
      "cell_type": "markdown",
      "source": [
        "**Null Hypothesis:** There is no relationship between people not liking to cook and finding there are many options to choose when ordering online.<br>\n",
        "**Alternate Hypothesis:** There is a significant relationship between people not liking to cook and finding there are many options to choose when ordering online.<br><br>\n",
        "As individuals who dislike cooking may be more likely to appreciate a wide variety of food options when ordering from a delivery service."
      ],
      "metadata": {
        "id": "9yU4-VYz-5Rn"
      }
    },
    {
      "cell_type": "markdown",
      "source": [
        "**Chi-Squared Test**"
      ],
      "metadata": {
        "id": "uP26rcXCeU0n"
      }
    },
    {
      "cell_type": "code",
      "source": [
        "# Define the significance level\n",
        "alpha = 0.05\n",
        "\n",
        "factor = 'Options_To_Choose'\n",
        "factor2 = 'Dont_Like_To_Cook'\n",
        "# Create a contingency table\n",
        "ct = pd.crosstab(behavioral_data_encoded[factor], behavioral_data_encoded[factor2])\n",
        "\n",
        "# Perform the chi-square test\n",
        "chi2, p, dof, expected = chi2_contingency(ct)\n",
        "\n",
        "# Print the results\n",
        "if p < alpha:\n",
        "  print(f'{factor} has significant relationship with Dont_Like_To_Cook (p = {p:.6f})\\n')\n",
        "else:\n",
        "  print(f'{factor} has no relationship with Dont_Like_To_Cook (p = {p:.6f})')"
      ],
      "metadata": {
        "colab": {
          "base_uri": "https://localhost:8080/"
        },
        "id": "g-AnFj9v-57Z",
        "outputId": "40dd61c5-fc49-4f95-f9ae-27830096495a"
      },
      "execution_count": null,
      "outputs": [
        {
          "output_type": "stream",
          "name": "stdout",
          "text": [
            "Options_To_Choose has significant relationship with Dont_Like_To_Cook (p = 0.000170)\n",
            "\n"
          ]
        }
      ]
    },
    {
      "cell_type": "markdown",
      "source": [
        "**Spearman's rank correlation coefficient**"
      ],
      "metadata": {
        "id": "wuhLdZ9SePE7"
      }
    },
    {
      "cell_type": "code",
      "source": [
        "# Define the significance level\n",
        "alpha = 0.05\n",
        "\n",
        "factor = 'Options_To_Choose'\n",
        "factor2 = 'Dont_Like_To_Cook'\n",
        "\n",
        "# Calculate spearman rank correlation\n",
        "corr, pvalue = spearmanr(behavioral_data_encoded[factor], behavioral_data_encoded[factor2])\n",
        "\n",
        "print(\"Spearman rank correlation between Options_To_Choose and Dont_Like_To_Cook:\")\n",
        "print(\"correlation coefficient: \", corr)\n",
        "print(\"p-value: \", pvalue)\n",
        "\n",
        "# Print the results\n",
        "if pvalue < alpha:\n",
        "  print(f'{factor} has significant relationship with Dont_Like_To_Cook (p = {pvalue:.6f})\\n')\n",
        "else:\n",
        "  print(f'{factor} has no relationship with Dont_Like_To_Cook (p = {pvalue:.6f})')"
      ],
      "metadata": {
        "colab": {
          "base_uri": "https://localhost:8080/"
        },
        "id": "hbFF2b8hd2pZ",
        "outputId": "33799af6-3bad-4113-f558-ecd7c499fe06"
      },
      "execution_count": null,
      "outputs": [
        {
          "output_type": "stream",
          "name": "stdout",
          "text": [
            "Spearman rank correlation between Options_To_Choose and Dont_Like_To_Cook:\n",
            "correlation coefficient:  0.2149631969496416\n",
            "p-value:  0.023469984260402227\n",
            "Options_To_Choose has significant relationship with Dont_Like_To_Cook (p = 0.023470)\n",
            "\n"
          ]
        }
      ]
    },
    {
      "cell_type": "markdown",
      "source": [
        "**Null Hypothesis:** There is no relationship between thinking ordering is inexpensive and ordering because of promo codes and discounts.<br>\n",
        "**Alternate Hypothesis:** There is a significant relationship between thinking ordering is inexpensive and ordering because of promo codes and discounts.<br><br>\n",
        "As promo discounts can make ordering food more inexpensive."
      ],
      "metadata": {
        "id": "DKCfhSid__lN"
      }
    },
    {
      "cell_type": "markdown",
      "source": [
        "**Chi-Squared Test**"
      ],
      "metadata": {
        "id": "uf3K0BLxdtKH"
      }
    },
    {
      "cell_type": "code",
      "source": [
        "# Define the significance level\n",
        "alpha = 0.05\n",
        "\n",
        "factor = 'Ordering_Inexpensive'\n",
        "factor2 = 'Promo_Discounts'\n",
        "# Create a contingency table\n",
        "ct = pd.crosstab(behavioral_data_encoded[factor], behavioral_data_encoded[factor2])\n",
        "\n",
        "# Perform the chi-square test\n",
        "chi2, p, dof, expected = chi2_contingency(ct)\n",
        "\n",
        "# Print the results\n",
        "if p < alpha:\n",
        "  print(f'{factor} has significant relationship with Promo_Discounts (p = {p:.6f})\\n')\n",
        "else:\n",
        "  print(f'{factor} has no relationship with Promo_Discounts (p = {p:.6f})')"
      ],
      "metadata": {
        "colab": {
          "base_uri": "https://localhost:8080/"
        },
        "id": "BM9atiMmAW8j",
        "outputId": "00e11742-a571-44be-a280-a117f3ad439a"
      },
      "execution_count": null,
      "outputs": [
        {
          "output_type": "stream",
          "name": "stdout",
          "text": [
            "Ordering_Inexpensive has significant relationship with Promo_Discounts (p = 0.000037)\n",
            "\n"
          ]
        }
      ]
    },
    {
      "cell_type": "markdown",
      "source": [
        "**Spearman's rank correlation coefficient**"
      ],
      "metadata": {
        "id": "EFOytitKdvmZ"
      }
    },
    {
      "cell_type": "code",
      "source": [
        "# Define the significance level\n",
        "alpha = 0.05\n",
        "\n",
        "factor = 'Ordering_Inexpensive'\n",
        "factor2 = 'Promo_Discounts'\n",
        "\n",
        "# Calculate spearman rank correlation\n",
        "corr, pvalue = spearmanr(behavioral_data_encoded[factor], behavioral_data_encoded[factor2])\n",
        "\n",
        "print(\"Spearman rank correlation between Ordering_Inexpensive and Promo_Discounts:\")\n",
        "print(\"correlation coefficient: \", corr)\n",
        "print(\"p-value: \", pvalue)\n",
        "\n",
        "# Print the results\n",
        "if pvalue < alpha:\n",
        "  print(f'{factor} has significant relationship with Promo_Discounts (p = {pvalue:.6f})\\n')\n",
        "else:\n",
        "  print(f'{factor} has no relationship with Promo_Discounts (p = {pvalue:.6f})')"
      ],
      "metadata": {
        "colab": {
          "base_uri": "https://localhost:8080/"
        },
        "id": "S1nO8xNOcUvL",
        "outputId": "f7e0d32a-41c6-4b1c-b6d8-d398b732cfe2"
      },
      "execution_count": null,
      "outputs": [
        {
          "output_type": "stream",
          "name": "stdout",
          "text": [
            "Spearman rank correlation between Ordering_Inexpensive and Promo_Discounts:\n",
            "correlation coefficient:  0.2582013504715333\n",
            "p-value:  0.006217527602788854\n",
            "Ordering_Inexpensive has significant relationship with Promo_Discounts (p = 0.006218)\n",
            "\n"
          ]
        }
      ]
    }
  ]
}
